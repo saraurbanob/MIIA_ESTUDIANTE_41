{
 "cells": [
  {
   "cell_type": "markdown",
   "metadata": {},
   "source": [
    "<img src=\"Archivos/miia.jpg\" width=800x>\n",
    "\n",
    "# Laboratorio 1\n",
    "\n",
    "## Desarrollo de una herramienta analítica usando solo Python\n",
    "\n",
    "Este laboratorio busca evaluar las habilidades relacionadas con la primera parte del curso, correspondiente a las primeras tres semanas. Este enunciado estará disponible desde la semana 2 y deberá entregarse al final de la semana 4 en el enlace correspondiente. Su desarrollo corresponde al 30% de la calificación total del curso.\n",
    "\n",
    "Esta actividad responde directamente al segundo objetivo del curso:\n",
    "* Implementar una herramienta analítica que permita responder una pregunta de negocio para un problema sencillo de analítica de datos, utilizando únicamente algorítmica básica en Python.\n",
    "\n",
    "Al desarrollar este laboratorio pondrás a prueba tus habilidades para: \n",
    "1. Leer datos desde archivos.\n",
    "2. Almacenar datos en  estructuras de Python.\n",
    "3. Crear y llamar funciones correctamente.\n",
    "4. Implementar condicionales diferenciando *if*, *elif* y *else*\n",
    "5. Implementar ciclos diferenciando el propósito de *for* y *while*\n",
    "6. Importar paquetes y utilizar sus funciones.\n",
    "\n",
    "**NOTAS:**\n",
    "- Te recomendamos leer por completo el enunciado del laboratorio antes de comenzar, de forma que tengas claro el propósito completo de la actividad, y puedas desarrollar tu solución apuntando a él desde el comienzo.\n"
   ]
  },
  {
   "cell_type": "markdown",
   "metadata": {},
   "source": [
    "## Contexto: exploración del potencial para asignar becas Uniandes\n",
    "La Universidad de los Andes se ha caracterizado por su compromiso con la generación de impacto en la sociedad a través de diferentes programas de becas. Programas como Quiero Estudiar, o Ser Pilo Paga, entre otros, han sido revolucionarios, al permitir que estudiantes de bajos recursos puedan acceder a una de las universidades privadas más importantes del país.\n",
    "\n",
    "Actualmente, la Universidad quiere evaluar el potencial impacto que tendrían algunos programas de *acción afirmativa* para asignación de becas, con base en información demográfica que ha obtenido a través de encuestas. Se cuenta con información respecto a la edad, género, estado civil, estrato socio-económico, región de proveniencia, desempeño académico y nivel de escolaridad de las personas que han respondido encuestas. Los encargados de diseñar el programa saben que utilizar criterios basados en este tipo de variables es un tema sensible, pero es necesario si se quieren focalizar las oportunidades en poblaciones menos representadas.\n",
    "\n",
    "El objetivo de este laboratorio es crear una herramienta computacional que permita a un tomador de decisiones explorar qué efecto podría tener el uso de diferentes reglas para seleccionar la población que sería beneficiaria de las becas. Puntualmente, se espera que, dadas unas reglas de selección (ej.: pertenecer a cierta región, rango de edad, etc.), la herramienta ofrezca información sobre la población potencialmente beneficiada, de forma que exista un sustento al momento de definir las reglas de selección."
   ]
  },
  {
   "cell_type": "markdown",
   "metadata": {},
   "source": [
    "## 1. Obtención e inspección de archivos\n",
    "\n",
    "Los datos de encuestas fueron obtenidos como parte de un trabajo de campo, y por limitaciones tecnológicas, solo se cuenta con la información en archivos de texto plano. Cada archivo corresponde a una de las variables antes mencionadas y se puede garantizar que todos relacionan a las personas encuestadas en el mismo orden (i.e., la primera línea de todos los archivos corresponde a datos de la primera persona encuestada, la segunda línea a la segunda persona, etc.).\n",
    "\n",
    "Los archivos con los que se cuenta son:\n",
    "* *edades.txt*: un archivo ordenado con las edades de cada persona de la población encuestada \n",
    "* *género.txt*: un archivo ordenado con el género de cada persona de la población encuestada \n",
    "* *estado_civil.txt*: un archivo ordenado con el estado civil de cada persona de la población encuestada \n",
    "* *escolaridad.txt*: un archivo ordenado con el nivel de escolaridad de cada persona de la población encuestada \n",
    "* *estrato.txt*: un archivo ordenado con el estrato socio-económico de cada persona de la población encuestada\n",
    "* *region.txt*: un archivo ordenado con la región de proveniencia de cada persona de la población encuestada"
   ]
  },
  {
   "cell_type": "markdown",
   "metadata": {},
   "source": [
    "**Misión 1**\n",
    "\n",
    "Poner en variables de Python la información que está en los archivos listados arriba.\n",
    "\n",
    "* *Versión base*: escribe línea a línea el código necesario para poner en variables de Python la información de cada uno de los archivos.\n",
    "\n",
    "* *Milla extra*: escribe una función que sea capaz de hacer lo anterior para un archivo y úsala en un ciclo para automatizar la lectura de los diferentes archivos."
   ]
  },
  {
   "cell_type": "code",
   "execution_count": 233,
   "metadata": {},
   "outputs": [],
   "source": [
    "# Creación de las listas de los datos\n",
    "def data_txt(archivo):\n",
    "    lista = []\n",
    "\n",
    "# Abrirmos el archivo para su lectura \n",
    "    with open(archivo) as f:\n",
    "    # Utilizamos el método readlines de los Objetos Archivo para guardar en una lista las líneas del archivo\n",
    "        alist = [line.rstrip(\"\\r\\n\") for line in f]\n",
    "\n",
    "    return alist"
   ]
  },
  {
   "cell_type": "code",
   "execution_count": 234,
   "metadata": {},
   "outputs": [],
   "source": [
    "# Lectura de datos desde los .txt\n",
    "\n",
    "my_data_edad = list(map(int,data_txt(\"edad.txt\")))\n",
    "my_data_genero = data_txt(\"genero.txt\")\n",
    "my_data_estado_civil = data_txt(\"estado_civil.txt\")\n",
    "my_data_escolaridad = data_txt(\"escolaridad.txt\")\n",
    "my_data_estrato = list(map(int,data_txt(\"estrato.txt\")))\n",
    "my_data_region = data_txt(\"region.txt\")\n",
    "my_data_promedio = list(map(float,data_txt(\"promedio.txt\")))\n",
    "archivos=[my_data_edad,my_data_genero,my_data_estado_civil,my_data_escolaridad,my_data_estrato,my_data_region,my_data_promedio]\n"
   ]
  },
  {
   "cell_type": "markdown",
   "metadata": {},
   "source": [
    "**Misión 2**\n",
    "\n",
    "Reportar las principales características en los datos.\n",
    "* *Versión base*: utilizar métricas básicas como conteos o promedios por categorías en los datos.\n",
    "* *Milla extra*: utilizar visualizaciones simples como diagramas de barras, de pastel u otros."
   ]
  },
  {
   "cell_type": "code",
   "execution_count": 235,
   "metadata": {},
   "outputs": [
    {
     "data": {
      "image/png": "[encoded data removed]",
      "text/plain": [
       "<Figure size 720x360 with 1 Axes>"
      ]
     },
     "metadata": {
      "needs_background": "light"
     },
     "output_type": "display_data"
    }
   ],
   "source": [
    "#variables numericas:\n",
    "\n",
    "# importación de paquetes necesarios\n",
    "import numpy as np\n",
    "from scipy import stats \n",
    "import matplotlib.pyplot as plot\n",
    "\n",
    "#EDAD:\n",
    "# función que calcula la media de una lista de datos numéricos\n",
    "media_edad= np.mean(my_data_edad)\n",
    "media_edad\n",
    "#histograma\n",
    "fig=plot.subplots(figsize=(10,5))\n",
    "plot.hist(x=my_data_edad, bins=15, color='#F2AB6D', rwidth=0.85)\n",
    "plot.title('Histograma de edades')\n",
    "plot.xlabel('Edades')\n",
    "plot.ylabel('Frecuencia')\n",
    "plot.xticks([15,20,25,30,35,40,45,50,55,60,65,70,75,80])\n",
    "plot.axvline(media_edad, color='k', linestyle='dashed', linewidth=1)\n",
    "\n",
    "plot.show() #dibujamos el histograma"
   ]
  },
  {
   "cell_type": "code",
   "execution_count": 324,
   "metadata": {},
   "outputs": [
    {
     "data": {
      "text/plain": [
       "ModeResult(mode=array([24]), count=array([14]))"
      ]
     },
     "execution_count": 324,
     "metadata": {},
     "output_type": "execute_result"
    }
   ],
   "source": [
    "#mediana de la edad \n",
    "mediana_edad= np.median(my_data_edad)\n",
    "#moda de la edad \n",
    "moda_edad= stats.mode(my_data_edad)\n",
    "moda_edad"
   ]
  },
  {
   "cell_type": "code",
   "execution_count": 325,
   "metadata": {},
   "outputs": [
    {
     "data": {
      "text/plain": [
       "18.59485133040864"
      ]
     },
     "execution_count": 325,
     "metadata": {},
     "output_type": "execute_result"
    }
   ],
   "source": [
    "#Desviación estandar de la edad \n",
    "desv_estandar_edad=np.std(my_data_edad)\n",
    "varianza_edad= np.var(my_data_edad)\n",
    "desv_estandar_edad"
   ]
  },
  {
   "cell_type": "code",
   "execution_count": 18,
   "metadata": {},
   "outputs": [
    {
     "data": {
      "text/plain": [
       "Counter({'masculino': 204, 'femenino': 251, 'otro': 6, 'no binario': 39})"
      ]
     },
     "execution_count": 18,
     "metadata": {},
     "output_type": "execute_result"
    }
   ],
   "source": [
    "#Conteo de tipos de genero \n",
    "from collections import Counter\n",
    "contador_genero =Counter(my_data_genero)\n",
    "contador_genero"
   ]
  },
  {
   "cell_type": "code",
   "execution_count": 21,
   "metadata": {},
   "outputs": [
    {
     "data": {
      "image/png": "[encoded data removed]",
      "text/plain": [
       "<Figure size 720x360 with 1 Axes>"
      ]
     },
     "metadata": {
      "needs_background": "light"
     },
     "output_type": "display_data"
    }
   ],
   "source": [
    "#histograma tipos de genero\n",
    "fig=plot.subplots(figsize=(10,5))\n",
    "plot.hist(my_data_genero, color='#8C4966', rwidth=0.85)\n",
    "plot.title('Personas por genero')\n",
    "plot.xlabel('Genero')\n",
    "plot.ylabel('Frecuencia')\n",
    "\n",
    "plot.show() #dibujamos el histograma"
   ]
  },
  {
   "cell_type": "code",
   "execution_count": 162,
   "metadata": {},
   "outputs": [
    {
     "data": {
      "text/plain": [
       "Counter({'casada': 199, 'divorciada': 137, 'soltera': 148, 'viuda': 16})"
      ]
     },
     "execution_count": 162,
     "metadata": {},
     "output_type": "execute_result"
    }
   ],
   "source": [
    "#Contador de estudiantes segun su estado civil:\n",
    "contador_estado_civil =Counter(my_data_estado_civil)\n",
    "contador_estado_civil"
   ]
  },
  {
   "cell_type": "code",
   "execution_count": 166,
   "metadata": {},
   "outputs": [
    {
     "data": {
      "image/png": "[encoded data removed]",
      "text/plain": [
       "<Figure size 720x360 with 1 Axes>"
      ]
     },
     "metadata": {
      "needs_background": "light"
     },
     "output_type": "display_data"
    }
   ],
   "source": [
    "#Estado civil\n",
    "fig=plot.subplots(figsize=(10,5))\n",
    "plot.hist(my_data_escolaridad, color=\"#BBA9BB\", rwidth=0.85)\n",
    "plot.title('Cantidad de personas por su estado civil')\n",
    "plot.xlabel('Estado civil')\n",
    "plot.ylabel('Frecuencia')\n",
    "\n",
    "plot.show() #dibujamos el histograma"
   ]
  },
  {
   "cell_type": "code",
   "execution_count": 158,
   "metadata": {},
   "outputs": [
    {
     "data": {
      "text/plain": [
       "Counter({'Secundaria': 343,\n",
       "         'Profesional': 117,\n",
       "         'Primaria': 25,\n",
       "         'Maestria': 15})"
      ]
     },
     "execution_count": 158,
     "metadata": {},
     "output_type": "execute_result"
    }
   ],
   "source": [
    "#Contador de estudiantes segun el nivel de escolaridad:\n",
    "contador_escolaridad =Counter(my_data_escolaridad)\n",
    "contador_escolaridad"
   ]
  },
  {
   "cell_type": "code",
   "execution_count": 163,
   "metadata": {},
   "outputs": [
    {
     "data": {
      "image/png": "[encoded data removed]",
      "text/plain": [
       "<Figure size 720x360 with 1 Axes>"
      ]
     },
     "metadata": {
      "needs_background": "light"
     },
     "output_type": "display_data"
    }
   ],
   "source": [
    "#Escolaridad\n",
    "fig=plot.subplots(figsize=(10,5))\n",
    "plot.hist(my_data_escolaridad, color=\"#5D58D7\", rwidth=0.85)\n",
    "plot.title('Cantidad de personas por Escolaridad')\n",
    "plot.xlabel('Escolaridad')\n",
    "plot.ylabel('Frecuencia')\n",
    "\n",
    "plot.show() #dibujamos el histograma"
   ]
  },
  {
   "cell_type": "code",
   "execution_count": 155,
   "metadata": {},
   "outputs": [
    {
     "data": {
      "text/plain": [
       "Counter({5: 13, 1: 111, 3: 156, 2: 185, 4: 35})"
      ]
     },
     "execution_count": 155,
     "metadata": {},
     "output_type": "execute_result"
    }
   ],
   "source": [
    "#Contador de estudiantes segun el estrato de su vivienda:\n",
    "contador_estrato =Counter(my_data_estrato )\n",
    "contador_estrato"
   ]
  },
  {
   "cell_type": "code",
   "execution_count": 168,
   "metadata": {},
   "outputs": [
    {
     "data": {
      "text/plain": [
       "ModeResult(mode=array([2]), count=array([185]))"
      ]
     },
     "execution_count": 168,
     "metadata": {},
     "output_type": "execute_result"
    }
   ],
   "source": [
    "#ESTRATO\n",
    "#mediana del estrato\n",
    "mediana_estrato= np.median(my_data_estrato)\n",
    "#moda del estrato \n",
    "moda_estrato= stats.mode(my_data_estrato)\n",
    "moda_edad"
   ]
  },
  {
   "cell_type": "code",
   "execution_count": 156,
   "metadata": {},
   "outputs": [
    {
     "data": {
      "image/png": "[encoded data removed]",
      "text/plain": [
       "<Figure size 720x360 with 1 Axes>"
      ]
     },
     "metadata": {
      "needs_background": "light"
     },
     "output_type": "display_data"
    }
   ],
   "source": [
    "#Estrato\n",
    "fig=plot.subplots(figsize=(10,5))\n",
    "plot.hist(my_data_estrato, color=\"#C82A54\", rwidth=0.85)\n",
    "plot.title('Cantidad de personas por Estrato')\n",
    "plot.xlabel('Estratos')\n",
    "plot.ylabel('Frecuencia')\n",
    "\n",
    "plot.show() #dibujamos el histograma"
   ]
  },
  {
   "cell_type": "code",
   "execution_count": 128,
   "metadata": {},
   "outputs": [
    {
     "data": {
      "text/plain": [
       "Counter({'Andina': 142,\n",
       "         'Pacifica': 117,\n",
       "         'Orinoquia': 33,\n",
       "         'Caribe': 193,\n",
       "         'Amazonia': 15})"
      ]
     },
     "execution_count": 128,
     "metadata": {},
     "output_type": "execute_result"
    }
   ],
   "source": [
    "#Contador de personas por región\n",
    "contador_region =Counter(my_data_region)\n",
    "contador_region "
   ]
  },
  {
   "cell_type": "code",
   "execution_count": 136,
   "metadata": {},
   "outputs": [
    {
     "data": {
      "image/png": "[encoded data removed]",
      "text/plain": [
       "<Figure size 720x360 with 1 Axes>"
      ]
     },
     "metadata": {
      "needs_background": "light"
     },
     "output_type": "display_data"
    }
   ],
   "source": [
    "#Regiones\n",
    "fig=plot.subplots(figsize=(10,5))\n",
    "plot.hist(my_data_region, color=\"#109DFA\", rwidth=0.85)\n",
    "plot.title('Cantidad de personas por region')\n",
    "plot.xlabel('Regiones')\n",
    "plot.ylabel('Frecuencia')\n",
    "\n",
    "plot.show() #dibujamos el histograma"
   ]
  },
  {
   "cell_type": "code",
   "execution_count": 170,
   "metadata": {},
   "outputs": [
    {
     "data": {
      "text/plain": [
       "Counter({2.4: 18,\n",
       "         0.9: 7,\n",
       "         3.2: 14,\n",
       "         2.1: 22,\n",
       "         2.0: 18,\n",
       "         2.7: 14,\n",
       "         4.9: 7,\n",
       "         4.5: 4,\n",
       "         3.0: 37,\n",
       "         3.5: 19,\n",
       "         1.8: 10,\n",
       "         1.2: 9,\n",
       "         0.1: 5,\n",
       "         1.0: 10,\n",
       "         3.9: 11,\n",
       "         2.9: 16,\n",
       "         4.3: 4,\n",
       "         2.3: 15,\n",
       "         2.6: 13,\n",
       "         2.8: 8,\n",
       "         3.7: 15,\n",
       "         3.3: 13,\n",
       "         1.9: 11,\n",
       "         1.7: 7,\n",
       "         2.5: 14,\n",
       "         1.5: 8,\n",
       "         4.1: 4,\n",
       "         3.8: 11,\n",
       "         1.1: 8,\n",
       "         3.1: 18,\n",
       "         2.2: 15,\n",
       "         0.8: 3,\n",
       "         4.0: 14,\n",
       "         0.0: 4,\n",
       "         3.4: 15,\n",
       "         4.7: 2,\n",
       "         3.6: 16,\n",
       "         1.4: 6,\n",
       "         1.6: 5,\n",
       "         1.3: 10,\n",
       "         4.2: 6,\n",
       "         4.8: 4,\n",
       "         0.2: 7,\n",
       "         4.6: 2,\n",
       "         4.4: 4,\n",
       "         0.5: 3,\n",
       "         5.0: 2,\n",
       "         0.3: 3,\n",
       "         0.4: 2,\n",
       "         0.7: 2,\n",
       "         0.6: 5})"
      ]
     },
     "execution_count": 170,
     "metadata": {},
     "output_type": "execute_result"
    }
   ],
   "source": [
    "#Contador de personas por promedio\n",
    "contador_promedio =Counter(my_data_promedio)\n",
    "contador_promedio"
   ]
  },
  {
   "cell_type": "code",
   "execution_count": 169,
   "metadata": {},
   "outputs": [
    {
     "data": {
      "text/plain": [
       "ModeResult(mode=array([3.]), count=array([37]))"
      ]
     },
     "execution_count": 169,
     "metadata": {},
     "output_type": "execute_result"
    }
   ],
   "source": [
    "#Promedio\n",
    "#mediana del promedio\n",
    "mediana_promedio= np.median(my_data_promedio )\n",
    "#moda del promedio \n",
    "moda_promedio= stats.mode(my_data_promedio )\n",
    "moda_promedio"
   ]
  },
  {
   "cell_type": "code",
   "execution_count": 173,
   "metadata": {},
   "outputs": [
    {
     "data": {
      "image/png": "[encoded data removed]",
      "text/plain": [
       "<Figure size 720x360 with 1 Axes>"
      ]
     },
     "metadata": {
      "needs_background": "light"
     },
     "output_type": "display_data"
    }
   ],
   "source": [
    "#Regiones\n",
    "fig=plot.subplots(figsize=(10,5))\n",
    "plot.hist(my_data_promedio, color=\"#6dc36d\", rwidth=0.85)\n",
    "plot.title('Cantidad de personas por promedio')\n",
    "plot.xlabel('Promedios')\n",
    "plot.ylabel('Frecuencia')\n",
    "\n",
    "plot.show() #dibujamos el histograma"
   ]
  },
  {
   "cell_type": "markdown",
   "metadata": {},
   "source": [
    "## 2. Abordaje de la pregunta de negocio\n",
    "\n",
    "El comité encargado de diseñar el programa de becas ha tenido dificultades para llegar a acuerdos. Algunos piensan que el criterio principal de selección debería ser respecto a lo económico y académico, sin importar otras características personales, mientras que otros piensan que considerar estas características es, de hecho, parte del espíritu del programa.\n",
    "\n",
    "* El primer grupo sugiere que se deben tomar en orden ascendente los estratos y elegir, en cada uno de ellos, al 2% de personas con promedio académico superior en esa sub-población, hasta que se agoten las becas disponibles. En caso de quedar becas disponibles al final del proceso, se repite el mismo esquema, considerando que ya no se tienen en cuenta las personas que hayan sido elegidas en rondas anteriores.\n",
    "\n",
    "* El segundo grupo sugiere que los recibidores de becas deben estar igualmente distribuidos entre las diferentes regiones y generos, considerando, por supuesto, que para cada una de esas sub-poblaciones, las personas elegidas sean las de mejores promedios académicos.\n",
    "\n",
    "Dado que las diferencias entre estos grupos obedecen a su entendimiento particular del problema, el presidente del comité propone utilizar los datos disponibles de las encuestas, sugiriendo que se analice qué características tendría la población de elegidos bajo cada uno de los dos criterios expuestos."
   ]
  },
  {
   "cell_type": "markdown",
   "metadata": {},
   "source": [
    "**Misión 3**\n",
    "\n",
    "Defina la pregunta de negocio y la pregunta de *analytics* para esta situación."
   ]
  },
  {
   "cell_type": "code",
   "execution_count": null,
   "metadata": {},
   "outputs": [],
   "source": [
    "# respuesta en texto (solo leeremos los primeros 300 caracteres de la respuesta)\n",
    "\n",
    "pregunta_negocio = 'Se requiere verificar el mejor modelo de asignación de becas teniendo en cuenta los factores mas trascendentales para la población '\n",
    "\n",
    "pregunta_analytics = 'Cuales criterios de entrega de becas se deben de tener en cuenta que resulten en mejores resultados para las poblaciones de Colombia, región de procedencia, estrato socioeconomico o genero  '"
   ]
  },
  {
   "cell_type": "markdown",
   "metadata": {},
   "source": [
    "**Misión 4**\n",
    "\n",
    "Desarrollar un algoritmo que permita conocer la población que sería becada según los criterios propuestos por el *primer grupo* mencionado arriba."
   ]
  },
  {
   "cell_type": "code",
   "execution_count": 146,
   "metadata": {},
   "outputs": [],
   "source": [
    "def itemgetter(*items):\n",
    "    if len(items) ==1:\n",
    "        item=items[0]\n",
    "        def g(obj):\n",
    "            return obj[item]\n",
    "    else:\n",
    "        def g(obj):\n",
    "            return tuple(obj[item] for item in items)\n",
    "    return g"
   ]
  },
  {
   "cell_type": "code",
   "execution_count": 137,
   "metadata": {},
   "outputs": [
    {
     "name": "stdout",
     "output_type": "stream",
     "text": [
      "Las becas otorgadas por estrato en orden ascendente y por promedio son: (ID persona Admitida, Estrato Persona Admitida, Promedio Persona Admitida) = \n",
      "[[(377, 1, 5.0), (364, 1, 4.9), (386, 1, 4.7), (163, 1, 4.9), (288, 1, 4.3), (423, 1, 4.2), (284, 1, 4.8), (109, 1, 4.1), (251, 1, 4.0)], [(244, 2, 5.0), (208, 2, 4.9), (138, 2, 4.8), (410, 2, 4.5), (8, 2, 4.9), (479, 2, 4.6), (223, 2, 4.4), (356, 2, 4.4), (492, 2, 4.9), (309, 2, 4.4), (71, 2, 4.3), (97, 2, 4.0)], [(61, 3, 4.9), (110, 3, 4.7), (10, 3, 4.5), (162, 3, 4.4), (472, 3, 4.9), (50, 3, 4.5), (257, 3, 4.2), (454, 3, 4.2), (160, 3, 4.6), (429, 3, 4.2), (455, 3, 4.1), (80, 3, 4.0)], [(395, 4, 4.8), (54, 4, 3.9), (379, 4, 3.7)], [(260, 5, 4.8), (100, 5, 3.4), (39, 5, 3.3)]]\n"
     ]
    }
   ],
   "source": [
    "import math\n",
    "est1=1\n",
    "est2=2\n",
    "est3=3\n",
    "est4=4\n",
    "est5=5\n",
    "becas_asig=0\n",
    "num_becas= 40\n",
    "id_listas= list(range(1, 501))\n",
    "zipped_lists= zip(id_listas, my_data_estrato,my_data_promedio)\n",
    "est_dic_id = sorted(zipped_lists)\n",
    "est=[1,2,3,4,5]\n",
    "e=1\n",
    "becas_est_1=[]\n",
    "becas_est_2=[]\n",
    "becas_est_3=[]\n",
    "becas_est_4=[]\n",
    "becas_est_5=[]\n",
    "becas_est_as=[]\n",
    "\n",
    "def subpoblacion(nombreest):\n",
    "    est=[]\n",
    "    for (indice,estrato,promedio) in est_dic_id:\n",
    "        if estrato==nombreest:\n",
    "            t=(indice, estrato,promedio)\n",
    "            est.append(t)\n",
    "    est_id=sorted(est,key=itemgetter(2), reverse=True)\n",
    "    return est_id\n",
    "\n",
    "estrato_1_id=subpoblacion(est1)\n",
    "estrato_2_id=subpoblacion(est2)\n",
    "estrato_3_id=subpoblacion(est3)\n",
    "estrato_4_id=subpoblacion(est4)\n",
    "estrato_5_id=subpoblacion(est5)\n",
    "\n",
    "\n",
    "#Asignación de becas\n",
    "\n",
    "while becas_asig<num_becas:\n",
    "    firts=math.ceil(len(estrato_1_id)*0.02)\n",
    "    second=math.ceil(len(estrato_2_id)*0.02)\n",
    "    third=math.ceil(len(estrato_3_id)*0.02)\n",
    "    fourth=math.ceil(len(estrato_4_id)*0.02)\n",
    "    fifth=math.ceil(len(estrato_5_id)*0.02)\n",
    "    \n",
    "    for e in est:\n",
    "        if becas_asig<(num_becas-firts):\n",
    "            e=1\n",
    "            if e==1:\n",
    "                for i in range(firts):\n",
    "                    becas_asig+=1\n",
    "                    estrato_1_mod=estrato_1_id.pop(i)\n",
    "                    becas_est_1.append(estrato_1_mod)\n",
    "                    becas_est_as.append(estrato_1_mod)\n",
    "            if becas_asig<(num_becas-second):\n",
    "                e=2\n",
    "                if e==2:\n",
    "                    for i in range(second):\n",
    "                        becas_asig+=1\n",
    "                        estrato_2_mod=estrato_2_id.pop(i)\n",
    "                        becas_est_2.append(estrato_2_mod)\n",
    "                        becas_est_as.append(estrato_2_mod)\n",
    "            if becas_asig<(num_becas-third):\n",
    "                e=3\n",
    "                if e==3:\n",
    "                    for i in range(third):\n",
    "                        becas_asig+=1\n",
    "                        estrato_3_mod=estrato_3_id.pop(i)\n",
    "                        becas_est_3.append(estrato_3_mod)\n",
    "                        becas_est_as.append(estrato_3_mod)  \n",
    "            if becas_asig<(num_becas-fourth):\n",
    "                e=4\n",
    "                if e==4:\n",
    "                    for i in range(fourth):\n",
    "                        becas_asig+=1\n",
    "                        estrato_4_mod=estrato_4_id.pop(i)\n",
    "                        becas_est_4.append(estrato_4_mod)\n",
    "                        becas_est_as.append(estrato_4_mod)   \n",
    "            if becas_asig<(num_becas-fifth):\n",
    "                e=5\n",
    "                if e==5:\n",
    "                    for i in range(fifth):\n",
    "                        becas_asig+=1\n",
    "                        estrato_5_mod=estrato_5_id.pop(i)\n",
    "                        becas_est_5.append(estrato_5_mod)\n",
    "                        becas_est_as.append(estrato_5_mod)\n",
    "         \n",
    "        else: becas_asig = num_becas\n",
    "\n",
    "becas_estratos=[becas_est_1,becas_est_2,becas_est_3,becas_est_4,becas_est_5]\n",
    "print(\"Las becas otorgadas por estrato en orden ascendente y por promedio son: (ID persona Admitida, Estrato Persona Admitida, Promedio Persona Admitida) = \")\n",
    "print(becas_estratos)\n",
    "                   "
   ]
  },
  {
   "cell_type": "markdown",
   "metadata": {},
   "source": [
    "**Misión 5**\n",
    "\n",
    "Desarrollar un algoritmo que permita conocer la población que sería becada según los criterios propuestos por el *segundo grupo* mencionado arriba."
   ]
  },
  {
   "cell_type": "code",
   "execution_count": 147,
   "metadata": {},
   "outputs": [],
   "source": [
    "def subpoblacion(nombrereg,nombregenero):\n",
    "    reg=[]\n",
    "    for (indice,region,genero,promedio) in lista_mision5:\n",
    "        if region==nombrereg:\n",
    "            if genero==nombregenero:\n",
    "                t=(indice,region,genero,promedio)\n",
    "                reg.append(t)\n",
    "    reg_id=sorted(reg, key=itemgetter(3), reverse=True) \n",
    "    return reg_id"
   ]
  },
  {
   "cell_type": "code",
   "execution_count": 150,
   "metadata": {},
   "outputs": [
    {
     "name": "stdout",
     "output_type": "stream",
     "text": [
      "Los becados para el segundo grupo de selección son: \n",
      "[[(479, 'Amazonia', 'femenino', 4.6), (221, 'Amazonia', 'femenino', 2.9), (98, 'Amazonia', 'femenino', 1.9)], [(50, 'Amazonia', 'masculino', 4.5), (489, 'Amazonia', 'masculino', 3.3), (103, 'Amazonia', 'masculino', 3.1)], [(376, 'Amazonia', 'no binario', 1.5), (242, 'Amazonia', 'no binario', 0.5)], [(196, 'Amazonia', 'otro', 3.1), (457, 'Amazonia', 'otro', 3.0)], [(364, 'Pacifica', 'femenino', 4.9), (110, 'Pacifica', 'femenino', 4.7), (356, 'Pacifica', 'femenino', 4.4)], [(377, 'Pacifica', 'masculino', 5.0), (472, 'Pacifica', 'masculino', 4.9), (386, 'Pacifica', 'masculino', 4.7)], [(362, 'Pacifica', 'no binario', 4.0), (180, 'Pacifica', 'no binario', 3.6), (67, 'Pacifica', 'no binario', 3.3)], [], [(114, 'Orinoquia', 'femenino', 3.9), (100, 'Orinoquia', 'femenino', 3.4), (229, 'Orinoquia', 'femenino', 3.0)], [(423, 'Orinoquia', 'masculino', 4.2), (139, 'Orinoquia', 'masculino', 4.0), (195, 'Orinoquia', 'masculino', 3.8)], [], [(5, 'Orinoquia', 'otro', 2.1)], [(244, 'Caribe', 'femenino', 5.0), (61, 'Caribe', 'femenino', 4.9), (309, 'Caribe', 'femenino', 4.4)], [(492, 'Caribe', 'masculino', 4.9), (160, 'Caribe', 'masculino', 4.6), (455, 'Caribe', 'masculino', 4.1)], [(23, 'Caribe', 'no binario', 4.3), (97, 'Caribe', 'no binario', 4.0), (105, 'Caribe', 'no binario', 3.5)], [(137, 'Caribe', 'otro', 3.6), (165, 'Caribe', 'otro', 0.1)], [(479, 'Amazonia', 'femenino', 4.6), (221, 'Amazonia', 'femenino', 2.9)], [(50, 'Amazonia', 'masculino', 4.5), (489, 'Amazonia', 'masculino', 3.3)], [(376, 'Amazonia', 'no binario', 1.5), (242, 'Amazonia', 'no binario', 0.5)], [(196, 'Amazonia', 'otro', 3.1), (457, 'Amazonia', 'otro', 3.0)]]\n"
     ]
    }
   ],
   "source": [
    "import math\n",
    "\n",
    "id_lista_2= list(range(1, 501))\n",
    "zipped_lists5= zip(id_lista_2, my_data_region,my_data_genero,my_data_promedio)\n",
    "lista_mision5 = sorted(zipped_lists5)\n",
    "#Variables\n",
    "num_becas=45\n",
    "region_andina=\"Andina\"\n",
    "region_pacifica=\"Pacifica\"\n",
    "region_orinoquia=\"Orinoquia\"\n",
    "region_caribe=\"Caribe\"\n",
    "region_amazonica=\"Amazonia\"\n",
    "femenino=\"femenino\"\n",
    "masculino=\"masculino\"\n",
    "nb=\"no binario\"\n",
    "otro=\"otro\"\n",
    "becas_asig_2=0\n",
    "becas_est_andina_fem=[]\n",
    "becas_est_andina_masc=[]\n",
    "becas_est_andina_nb=[]\n",
    "becas_est_andina_ot=[]\n",
    "becas_est_pacifica_fem=[]\n",
    "becas_est_pacifica_masc=[]\n",
    "becas_est_pacifica_nb=[]\n",
    "becas_est_pacifica_ot=[]\n",
    "becas_est_orinoquia_fem=[]\n",
    "becas_est_orinoquia_masc=[]\n",
    "becas_est_orinoquia_nb=[]\n",
    "becas_est_orinoquia_ot=[]\n",
    "becas_est_caribe_fem=[]\n",
    "becas_est_caribe_masc=[]\n",
    "becas_est_caribe_nb=[]\n",
    "becas_est_caribe_ot=[]\n",
    "becas_est_amazonia_fem=[]\n",
    "becas_est_amazonia_masc=[]\n",
    "becas_est_amazonia_nb=[]\n",
    "becas_est_amazonia_ot=[]\n",
    "becas_assign=[]\n",
    "\n",
    "\n",
    "andina_id_fem=subpoblacion(region_amazonica, femenino)  \n",
    "andina_id_masc=subpoblacion(region_amazonica, masculino)\n",
    "andina_id_nb=subpoblacion(region_amazonica, nb)\n",
    "andina_id_ot=subpoblacion(region_amazonica, otro)\n",
    "\n",
    "pacifica_id_fem=subpoblacion(region_pacifica, femenino)  \n",
    "pacifica_id_masc=subpoblacion(region_pacifica, masculino)\n",
    "pacifica_id_nb=subpoblacion(region_pacifica, nb)\n",
    "pacifica_id_ot=subpoblacion(region_pacifica, otro)\n",
    "\n",
    "orinoquia_id_fem=subpoblacion(region_orinoquia, femenino)  \n",
    "orinoquia_id_masc=subpoblacion(region_orinoquia, masculino)\n",
    "orinoquia_id_nb=subpoblacion(region_orinoquia, nb)\n",
    "orinoquia_id_ot=subpoblacion(region_orinoquia, otro)\n",
    "\n",
    "caribe_id_fem=subpoblacion(region_caribe, femenino)  \n",
    "caribe_id_masc=subpoblacion(region_caribe, masculino)\n",
    "caribe_id_nb=subpoblacion(region_caribe, nb)\n",
    "caribe_id_ot=subpoblacion(region_caribe, otro)\n",
    "\n",
    "amazonia_id_fem=subpoblacion(region_amazonica, femenino)  \n",
    "amazonia_id_masc=subpoblacion(region_amazonica, masculino)\n",
    "amazonia_id_nb=subpoblacion(region_amazonica, nb)\n",
    "amazonia_id_ot=subpoblacion(region_amazonica, otro)\n",
    "\n",
    "#Asignación de becas considerando, cada sub-poblacion:\n",
    "\n",
    "while becas_asig_2<num_becas:   \n",
    "    i=0   \n",
    "    #Asignación de becas Región Andina\n",
    "    if i<len(andina_id_fem):  \n",
    "        if becas_asig_2<num_becas:\n",
    "            andina_id_fem_mod=andina_id_fem.pop(i)\n",
    "            becas_est_andina_fem.append(andina_id_fem_mod) \n",
    "            becas_assign.append(andina_id_fem_mod)\n",
    "            becas_asig_2+=1\n",
    "\n",
    "    if i<len(andina_id_masc):\n",
    "        if becas_asig_2<num_becas:\n",
    "            andina_id_masc_mod=andina_id_masc.pop(i)\n",
    "            becas_est_andina_masc.append(andina_id_masc_mod)\n",
    "            becas_assign.append(andina_id_masc_mod)\n",
    "            becas_asig_2+=1\n",
    "\n",
    "    if i<len(andina_id_nb):\n",
    "        if becas_asig_2<num_becas:\n",
    "            andina_id_nb_mod=andina_id_nb.pop(i)\n",
    "            becas_est_andina_nb.append(andina_id_nb_mod) \n",
    "            becas_assign.append(andina_id_nb_mod)\n",
    "            becas_asig_2+=1\n",
    "\n",
    "    if i<len(andina_id_ot):\n",
    "        if becas_asig_2<num_becas:\n",
    "            andina_id_ot_mod=andina_id_ot.pop(i)\n",
    "            becas_est_andina_ot.append(andina_id_ot_mod)\n",
    "            becas_assign.append(andina_id_ot_mod)\n",
    "            becas_asig_2+=1\n",
    "\n",
    "        \n",
    "    #Asignación de becas Región Pacifica        \n",
    "    if i<len(pacifica_id_fem):  \n",
    "        if becas_asig_2<num_becas:\n",
    "            pacifica_id_fem_mod=pacifica_id_fem.pop(i)\n",
    "            becas_est_pacifica_fem.append(pacifica_id_fem_mod) \n",
    "            becas_assign.append(pacifica_id_fem_mod)\n",
    "            becas_asig_2+=1\n",
    "            \n",
    "    if i<len(pacifica_id_masc):\n",
    "        if becas_asig_2<num_becas:\n",
    "            pacifica_id_masc_mod=pacifica_id_masc.pop(i)\n",
    "            becas_est_pacifica_masc.append(pacifica_id_masc_mod)\n",
    "            becas_assign.append(pacifica_id_masc_mod)\n",
    "            becas_asig_2+=1\n",
    "\n",
    "    if i<len(pacifica_id_nb):\n",
    "        if becas_asig_2<num_becas:   \n",
    "            pacifica_id_nb_mod=pacifica_id_nb.pop(i)\n",
    "            becas_est_pacifica_nb.append(pacifica_id_nb_mod) \n",
    "            becas_assign.append(pacifica_id_nb_mod)\n",
    "            becas_asig_2+=1\n",
    "\n",
    "    if i<len(pacifica_id_ot):\n",
    "        if becas_asig_2<num_becas:\n",
    "            pacifica_id_ot_mod=pacifica_id_ot.pop(i)\n",
    "            becas_est_pacifica_ot.append(pacifica_id_ot_mod)\n",
    "            becas_assign.append(pacifica_id_ot_mod)\n",
    "            becas_asig_2+=1\n",
    "        \n",
    "        #Asignación de becas Región Orinoquia        \n",
    "    if i<len(orinoquia_id_fem):  \n",
    "        if becas_asig_2<num_becas:\n",
    "            orinoquia_id_fem_mod=orinoquia_id_fem.pop(i)\n",
    "            becas_est_orinoquia_fem.append(orinoquia_id_fem_mod) \n",
    "            becas_assign.append(orinoquia_id_fem_mod)\n",
    "            becas_asig_2+=1\n",
    "            \n",
    "    if i<len(orinoquia_id_masc):\n",
    "        if becas_asig_2<num_becas:\n",
    "            orinoquia_id_masc_mod=orinoquia_id_masc.pop(i)\n",
    "            becas_est_orinoquia_masc.append(orinoquia_id_masc_mod)\n",
    "            becas_assign.append(orinoquia_id_masc_mod)\n",
    "            becas_asig_2+=1\n",
    "\n",
    "    if i<len(orinoquia_id_nb):\n",
    "        if becas_asig_2<num_becas:   \n",
    "            orinoquia_id_nb_mod=orinoquia_id_nb.pop(i)\n",
    "            becas_est_orinoquia_nb.append(orinoquia_id_nb_mod) \n",
    "            becas_assign.append(orinoquia_id_nb_mod)\n",
    "            becas_asig_2+=1\n",
    "\n",
    "    if i<len(orinoquia_id_ot):\n",
    "        if becas_asig_2<num_becas:\n",
    "            orinoquia_id_ot_mod=orinoquia_id_ot.pop(i)\n",
    "            becas_est_orinoquia_ot.append(orinoquia_id_ot_mod)\n",
    "            becas_assign.append(orinoquia_id_ot_mod)\n",
    "            becas_asig_2+=1\n",
    "        \n",
    "        #Asignación de becas Región Caribe        \n",
    "    if i<len(caribe_id_fem):  \n",
    "        if becas_asig_2<num_becas:\n",
    "            caribe_id_fem_mod=caribe_id_fem.pop(i)\n",
    "            becas_est_caribe_fem.append(caribe_id_fem_mod)  \n",
    "            becas_assign.append(caribe_id_fem_mod)\n",
    "            becas_asig_2+=1\n",
    "            \n",
    "    if i<len(caribe_id_masc):\n",
    "        if becas_asig_2<num_becas:\n",
    "            caribe_id_masc_mod=caribe_id_masc.pop(i)\n",
    "            becas_est_caribe_masc.append(caribe_id_masc_mod)\n",
    "            becas_assign.append(caribe_id_masc_mod)\n",
    "            becas_asig_2+=1\n",
    "\n",
    "    if i<len(caribe_id_nb):\n",
    "        if becas_asig_2<num_becas:   \n",
    "            caribe_id_nb_mod=caribe_id_nb.pop(i)\n",
    "            becas_est_caribe_nb.append(caribe_id_nb_mod) \n",
    "            becas_assign.append(caribe_id_nb_mod)\n",
    "            becas_asig_2+=1\n",
    "\n",
    "    if i<len(caribe_id_ot):\n",
    "        if becas_asig_2<num_becas:\n",
    "            caribe_id_ot_mod=caribe_id_ot.pop(i)\n",
    "            becas_est_caribe_ot.append(caribe_id_ot_mod)\n",
    "            becas_assign.append(caribe_id_ot_mod)\n",
    "            becas_asig_2+=1\n",
    "        \n",
    "        #Asignación de becas Región Amazonia        \n",
    "    if i<len(amazonia_id_fem):  \n",
    "        if becas_asig_2<num_becas:\n",
    "            amazonia_id_fem_mod=amazonia_id_fem.pop(i)\n",
    "            becas_est_amazonia_fem.append(amazonia_id_fem_mod)\n",
    "            becas_assign.append(amazonia_id_fem_mod)\n",
    "            becas_asig_2+=1\n",
    "            \n",
    "    if i<len(amazonia_id_masc):\n",
    "        if becas_asig_2<num_becas:\n",
    "            amazonia_id_masc_mod=amazonia_id_masc.pop(i)\n",
    "            becas_est_amazonia_masc.append(amazonia_id_masc_mod)\n",
    "            becas_assign.append(amazonia_id_masc_mod)\n",
    "            becas_asig_2+=1\n",
    "\n",
    "    if i<len(amazonia_id_nb):\n",
    "        if becas_asig_2<num_becas:   \n",
    "            amazonia_id_nb_mod=amazonia_id_nb.pop(i)\n",
    "            becas_est_amazonia_nb.append(amazonia_id_nb_mod)\n",
    "            becas_assign.append(amazonia_id_nb_mod)\n",
    "            becas_asig_2+=1\n",
    "\n",
    "    if i<len(amazonia_id_ot):\n",
    "        if becas_asig_2<num_becas:\n",
    "            amazonia_id_ot_mod=amazonia_id_ot.pop(i)\n",
    "            becas_est_amazonia_ot.append(amazonia_id_ot_mod)\n",
    "            becas_assign.append(amazonia_id_ot_mod)\n",
    "            becas_asig_2+=1\n",
    "\n",
    "    i=i+1\n",
    "    \n",
    "becas_reg=[becas_est_andina_fem,becas_est_andina_masc,becas_est_andina_nb,becas_est_andina_ot,becas_est_pacifica_fem,becas_est_pacifica_masc,becas_est_pacifica_nb,becas_est_pacifica_ot,becas_est_orinoquia_fem,becas_est_orinoquia_masc,becas_est_orinoquia_nb,becas_est_orinoquia_ot,becas_est_caribe_fem,becas_est_caribe_masc,becas_est_caribe_nb,becas_est_caribe_ot,becas_est_amazonia_fem,becas_est_amazonia_masc,becas_est_amazonia_nb,becas_est_amazonia_ot]\n",
    "\n",
    "print(\"Los becados para el segundo grupo de selección son: \")\n",
    "print(becas_reg)\n",
    "\n"
   ]
  },
  {
   "cell_type": "markdown",
   "metadata": {},
   "source": [
    "**Misión 6**\n",
    "\n",
    "Desarrollar un algoritmo, a partir de lo anterior, cuyo resultado permita al comité comparar fácilmente las características de las dos poblaciones hipotéticas que recibirían becas.\n",
    "\n",
    "*Ayuda*: considera utilizar tus implementaciones de la *Misión 2* para facilitar esta misión."
   ]
  },
  {
   "cell_type": "code",
   "execution_count": 178,
   "metadata": {},
   "outputs": [],
   "source": [
    "def mini(listado):\n",
    "    min=listado[0]\n",
    "    for num in range (len(listado)):\n",
    "        if listado[num]<min:\n",
    "            min=listado[num]\n",
    "    return min"
   ]
  },
  {
   "cell_type": "code",
   "execution_count": 179,
   "metadata": {},
   "outputs": [],
   "source": [
    "def maxi(listado):\n",
    "    max=listado[0]\n",
    "    for num in range (len(listado)):\n",
    "        if listado[num]>max:\n",
    "            max=listado[num]\n",
    "    return max"
   ]
  },
  {
   "cell_type": "code",
   "execution_count": 182,
   "metadata": {},
   "outputs": [
    {
     "name": "stdout",
     "output_type": "stream",
     "text": [
      "El mínimo de notas para el metodo 1 es:3.3\n",
      "El maximo de notas para el metodo 1 es:5.0\n",
      "El mínimo de notas para el metodo 2 es:0.1\n",
      "El maximo de notas para el metodo 2 es:5.0\n"
     ]
    }
   ],
   "source": [
    "# Cálculo del mínimo y máximo de notas para los metodos presentados anteriormente\n",
    "#metodo 1 \n",
    "\n",
    "metodo_1=[]\n",
    "metodo1=itemgetter(2)\n",
    "metodo_1=list(map(metodo1,becas_est_as))\n",
    "min_promm1=mini(metodo_1)\n",
    "max_promm1=maxi(metodo_1)\n",
    "\n",
    "print(\"El mínimo de notas para el metodo 1 es:\"+str(min_promm1)) \n",
    "print(\"El maximo de notas para el metodo 1 es:\"+str(max_promm1)) \n",
    "\n",
    "# metodo 2\n",
    "\n",
    "metodo_2=[]\n",
    "metodo2=itemgetter(3)\n",
    "metodo_2=list(map(metodo2,becas_assign))\n",
    "min_promm2=mini(metodo_2)\n",
    "max_promm2=maxi(metodo_2)\n",
    "\n",
    "print(\"El mínimo de notas para el metodo 2 es:\"+str(min_promm2)) \n",
    "print(\"El maximo de notas para el metodo 2 es:\"+str(max_promm2)) \n"
   ]
  },
  {
   "cell_type": "markdown",
   "metadata": {},
   "source": [
    "## 3. Desarrollo de una solución analítica\n",
    "\n",
    "Reconociendo la complejidad de este problema (que no permite reducirlo a una dicotomía) y viendo el potencial del análisis de datos para enriquecer la discusión y los insumos para tomar decisiones, el comité ha solicitado una herramienta analítica que les permita . Sus requerimientos son:\n",
    "\n",
    "* La herramienta debe permitir ingresar una política de selección de becados.\n",
    "    * Se debe poder elegir el rango de edad de los aspirantes.\n",
    "    * Se debe poder elegir qué proporción de las becas se asigna a cada género, a cada estrato, o a cada región (pero sólo debe elegirse uno de estos criterios).\n",
    "* La herramienta debe generar un resultado que permita al comité analizar las características de la población potencialmente elegida si se usara la política ingresada.\n",
    "\n",
    "**Misión 7**\n",
    "\n",
    "Desarrollar, a partir de lo construido hasta el momento, un algoritmo que permita cumplir con los requerimientos del comité."
   ]
  },
  {
   "cell_type": "code",
   "execution_count": null,
   "metadata": {},
   "outputs": [],
   "source": [
    "def itemgetter(*items):\n",
    "    if len(items) ==1:\n",
    "        item=items[0]\n",
    "        def g(obj):\n",
    "            return obj[item]\n",
    "    else:\n",
    "        def g(obj):\n",
    "            return tuple(obj[item] for item in items)\n",
    "    return g"
   ]
  },
  {
   "cell_type": "code",
   "execution_count": 227,
   "metadata": {},
   "outputs": [
    {
     "name": "stdout",
     "output_type": "stream",
     "text": [
      "Las becas otorgadas por estrato en orden ascendente, por promedio son y rango de edad solicitado son: (ID persona Admitida, Edad Persona admitida, Estrato Persona Admitida, Promedio Persona Admitida) = \n",
      "[[(16, 24, 1, 0.1), (78, 22, 1, 0.0), (59, 19, 1, 2.6), (107, 24, 1, 2.2), (94, 20, 1, 1.8), (164, 20, 1, 3.7)], [(5, 26, 2, 2.1), (42, 22, 2, 1.7), (34, 26, 2, 3.9), (49, 27, 2, 2.3), (45, 21, 2, 1.5), (147, 19, 2, 3.5)], [(3, 24, 3, 3.2), (25, 24, 3, 2.6), (50, 20, 3, 4.5)], [(130, 28, 4, 1.3), (154, 20, 4, 2.9)], [(361, 23, 5, 2.2), (462, 20, 5, 2.0)]]\n"
     ]
    }
   ],
   "source": [
    "# Difinición de politica, rango de edades\n",
    "import math\n",
    "politica= \"estrato\"\n",
    "id_lista= list(range(1, 501))\n",
    "maximo_edad=30\n",
    "minimo_edad=18\n",
    "edad_participantes = [x for x in my_data_edad if minimo_edad<x<maximo_edad]\n",
    "num_becas= 20\n",
    "\n",
    "if politica ==\"estrato\":\n",
    "    est1=1\n",
    "    est2=2\n",
    "    est3=3\n",
    "    est4=4\n",
    "    est5=5\n",
    "    becas_asig=0\n",
    "    id_listas= list(range(1, 501))\n",
    "    zipped_lists= zip(id_listas,my_data_edad,my_data_estrato,my_data_promedio)\n",
    "    est_dic = sorted(zipped_lists)\n",
    "    est_dic_id = [(w,x, y, z) for w , x, y, z in est_dic if minimo_edad<x<maximo_edad]\n",
    "    est=[1,2,3,4,5]\n",
    "    e=1\n",
    "    becas_est_1=[]\n",
    "    becas_est_2=[]\n",
    "    becas_est_3=[]\n",
    "    becas_est_4=[]\n",
    "    becas_est_5=[]\n",
    "    becas_est_as=[]\n",
    " \n",
    "    def subpoblacion_estrato(nombreest):\n",
    "        est=[]\n",
    "        for (indice,edad,estrato,promedio) in est_dic_id:\n",
    "            if estrato==nombreest:\n",
    "                t=(indice,edad,estrato,promedio)\n",
    "                est.append(t)\n",
    "        est_id=sorted(est,key=itemgetter(2), reverse=True)\n",
    "        return est_id\n",
    "\n",
    "    estrato_1_id=subpoblacion_estrato(est1)\n",
    "    estrato_2_id=subpoblacion_estrato(est2)\n",
    "    estrato_3_id=subpoblacion_estrato(est3)\n",
    "    estrato_4_id=subpoblacion_estrato(est4)\n",
    "    estrato_5_id=subpoblacion_estrato(est5)\n",
    "\n",
    "    #Asignación de becas\n",
    "\n",
    "    while becas_asig<num_becas:\n",
    "        firts=math.ceil(len(estrato_1_id)*0.05)\n",
    "        second=math.ceil(len(estrato_2_id)*0.05)\n",
    "        third=math.ceil(len(estrato_3_id)*0.02)\n",
    "        fourth=math.ceil(len(estrato_4_id)*0.02)\n",
    "        fifth=math.ceil(len(estrato_5_id)*0.02)\n",
    "\n",
    "        for e in est:\n",
    "            if becas_asig<(num_becas-firts):\n",
    "                e=1\n",
    "                if e==1:\n",
    "                    for i in range(firts):\n",
    "                        becas_asig+=1\n",
    "                        estrato_1_mod=estrato_1_id.pop(i)\n",
    "                        becas_est_1.append(estrato_1_mod)\n",
    "                        becas_est_as.append(estrato_1_mod)\n",
    "                if becas_asig<(num_becas-second):\n",
    "                    e=2\n",
    "                    if e==2:\n",
    "                        for i in range(second):\n",
    "                            becas_asig+=1\n",
    "                            estrato_2_mod=estrato_2_id.pop(i)\n",
    "                            becas_est_2.append(estrato_2_mod)\n",
    "                            becas_est_as.append(estrato_2_mod)\n",
    "                            \n",
    "                if becas_asig<(num_becas-third):\n",
    "                    e=3\n",
    "                    if e==3:\n",
    "                        for i in range(third):\n",
    "                            becas_asig+=1\n",
    "                            estrato_3_mod=estrato_3_id.pop(i)\n",
    "                            becas_est_3.append(estrato_3_mod)\n",
    "                            becas_est_as.append(estrato_3_mod)  \n",
    "                if becas_asig<(num_becas-fourth):\n",
    "                    e=4\n",
    "                    if e==4:\n",
    "                        for i in range(fourth):\n",
    "                            becas_asig+=1\n",
    "                            estrato_4_mod=estrato_4_id.pop(i)\n",
    "                            becas_est_4.append(estrato_4_mod)\n",
    "                            becas_est_as.append(estrato_4_mod)   \n",
    "                if becas_asig<(num_becas-fifth):\n",
    "                    e=5\n",
    "                    if e==5:\n",
    "                        for i in range(fifth):\n",
    "                            becas_asig+=1\n",
    "                            estrato_5_mod=estrato_5_id.pop(i)\n",
    "                            becas_est_5.append(estrato_5_mod)\n",
    "                            becas_est_as.append(estrato_5_mod)\n",
    "\n",
    "            else: becas_asig = num_becas\n",
    "\n",
    "    becas_estratos=[becas_est_1,becas_est_2,becas_est_3,becas_est_4,becas_est_5]\n",
    "    print(\"Las becas otorgadas por estrato en orden ascendente, por promedio son y rango de edad solicitado son: (ID persona Admitida, Edad Persona admitida, Estrato Persona Admitida, Promedio Persona Admitida) = \")\n",
    "    print(becas_estratos) \n",
    "    \n",
    "#if politica ==\"region\":\n",
    "    \n",
    "    \n",
    "#if politica ==\"genero\":    \n",
    "    \n",
    "    \n",
    "\n",
    "    "
   ]
  },
  {
   "cell_type": "markdown",
   "metadata": {},
   "source": [
    "**Misión 8**\n",
    "\n",
    "Proponer, con base en tu propio uso de la herramienta, una política de ingreso que consideres apropiada dado el contexto proporcionado. Si lo crees adecuado, explica, máximo 500 caracteres, las virtudes de tu propuesta (esto puede estar soportado en los datos, o no)."
   ]
  },
  {
   "cell_type": "code",
   "execution_count": null,
   "metadata": {},
   "outputs": [],
   "source": [
    "# respuesta en texto (solo leeremos los primeros 300 caracteres de la respuesta)\n",
    "\n",
    "respuesta = 'Dentro de los analisis realizados, una de las mejores alternativas fue el metodo 1 que tenia en cuenta el estrato socioeconomico \n",
    "            'que evidencia las necesidades de ayudas en educación y demas factores. Por lo tanto considero se presenta la necesidad de a estos\n",
    "            'estratos caracterizados como bajos, tener un mayor porcentaje de becas y ir disminuyendo la cantidad a medida que el estrato es mas \n",
    "            'alto. Para la solución propuesta se observa un incremento del 5% de becas para los estratos 1 y 2 '"
   ]
  },
  {
   "cell_type": "markdown",
   "metadata": {},
   "source": [
    "**Misión 9**\n",
    "\n",
    "Ejecutar el algoritmo desarrollado en la *Misión 7* sobre la política que sugieres proponer al comité. Explicar claramente tus conlusiones con el soporte de los resultados de la herramienta."
   ]
  },
  {
   "cell_type": "code",
   "execution_count": null,
   "metadata": {},
   "outputs": [],
   "source": [
    "\n",
    "conclusion ='Dentro de los analisis realizados, una de las mejores alternativas fue el metodo 1 que tenia en cuenta el estrato socioeconomico \n",
    "            'que evidencia las necesidades de ayudas en educación y demas factores. Por lo tanto considero se presenta la necesidad de a estos\n",
    "            'estratos caracterizados como bajos, tener un mayor porcentaje de becas y ir disminuyendo la cantidad a medida que el estrato es mas \n",
    "            'alto. Para la solución propuesta se observa un incremento del 5% de becas para los estratos 1 y 2, con esto se garantizara que personas\n",
    "            'que carecen de recursos puedan tener un mayor porcentaje de ingreso a la universidad'"
   ]
  },
  {
   "cell_type": "markdown",
   "metadata": {},
   "source": [
    "## Referencias\n",
    "* Discriminación Positiva<br> \n",
    "https://es.wikipedia.org/wiki/Discriminaci%C3%B3n_positiva\n",
    "* Análisis de formulación del programa “Ser Pilo Paga”<br>\n",
    "https://repository.urosario.edu.co/handle/10336/12526\n",
    "* La acción afirmativa en la Universidad de los Andes: El caso del programa \"Oportunidades para talentos nacionales\"<br> http://www.scielo.org.co/scielo.php?script=sci_arttext&pid=S0123-885X2004000300005\n",
    "* Acción afirmativa y equidad: un análisis desde la propuesta de Thomas Nagel<br>\n",
    "http://www.scielo.org.mx/scielo.php?script=sci_arttext&pid=S2007-24062016000200049"
   ]
  },
  {
   "cell_type": "markdown",
   "metadata": {},
   "source": [
    "## Créditos"
   ]
  },
  {
   "cell_type": "markdown",
   "metadata": {},
   "source": [
    "Camilo Gómez - 11/06/21<br>\n",
    "*Revisado*: 25/08/21"
   ]
  },
  {
   "cell_type": "code",
   "execution_count": null,
   "metadata": {},
   "outputs": [],
   "source": []
  }
 ],
 "metadata": {
  "kernelspec": {
   "display_name": "Python 3",
   "language": "python",
   "name": "python3"
  },
  "language_info": {
   "codemirror_mode": {
    "name": "ipython",
    "version": 3
   },
   "file_extension": ".py",
   "mimetype": "text/x-python",
   "name": "python",
   "nbconvert_exporter": "python",
   "pygments_lexer": "ipython3",
   "version": "3.8.5"
  }
 },
 "nbformat": 4,
 "nbformat_minor": 1
}
