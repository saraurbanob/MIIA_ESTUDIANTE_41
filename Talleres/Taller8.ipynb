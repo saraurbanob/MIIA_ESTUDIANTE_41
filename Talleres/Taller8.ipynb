{
 "cells": [
  {
   "cell_type": "markdown",
   "metadata": {
    "deletable": false,
    "editable": false,
    "nbgrader": {
     "cell_type": "markdown",
     "checksum": "b35f3e0acc820737fbf257aa80ee2b60",
     "grade": false,
     "grade_id": "cell-0202c9319ef88f3b",
     "locked": true,
     "schema_version": 3,
     "solution": false,
     "task": false
    }
   },
   "source": [
    "<img src=\"./Archivos/miad4.png\" width=800x>\n",
    "\n",
    "# Visualización\n",
    "\n",
    "En este taller implementarás métodos de las librerías `ipywidgets` y `plotly`, para integrarlos en procesos de visualización de datos."
   ]
  },
  {
   "cell_type": "markdown",
   "metadata": {
    "deletable": false,
    "editable": false,
    "nbgrader": {
     "cell_type": "markdown",
     "checksum": "706d0f08c967428a46254a75e597d62b",
     "grade": false,
     "grade_id": "cell-bbc2ca82f4643254",
     "locked": true,
     "schema_version": 3,
     "solution": false,
     "task": false
    }
   },
   "source": [
    "## Habilidades en práctica\n",
    "\n",
    "Al realizar este taller podrás revisar tu progreso para:\n",
    "\n",
    "**1.** Crear diferentes tipos de visualizaciones en `plotly` y personalizarlas de manera amigable. <br />\n",
    "**2.** Utilizar `ipywidgets` para explorar datos de forma interactiva. <br />\n",
    "**3.** Crear visualizaciones interactivas en `plotly` con `ipywidgets`."
   ]
  },
  {
   "cell_type": "markdown",
   "metadata": {
    "deletable": false,
    "editable": false,
    "nbgrader": {
     "cell_type": "markdown",
     "checksum": "3accfd3f6e0fcb17a833d292808ff3a7",
     "grade": false,
     "grade_id": "cell-cdfb2f65f277a712",
     "locked": true,
     "schema_version": 3,
     "solution": false,
     "task": false
    }
   },
   "source": [
    "## Instrucciones\n",
    "\n",
    "En cada uno de los siguientes ejercicios deberás escribir el código solicitado estrictamente en las celdas indicadas para ello, teniendo en cuenta las siguientes recomendaciones:\n",
    "\n",
    "* No crear, eliminar o modificar celdas de este Notebook (salvo lo que se te indique).\n",
    "\n",
    "Esta es una actividad calificada y, por lo tanto, debe ser resuelta individualmente."
   ]
  },
  {
   "cell_type": "markdown",
   "metadata": {
    "deletable": false,
    "editable": false,
    "nbgrader": {
     "cell_type": "markdown",
     "checksum": "4c8d7d4dbe30a060a1cc889b7d9d1902",
     "grade": false,
     "grade_id": "cell-2ad99bdb8f21dc15",
     "locked": true,
     "schema_version": 3,
     "solution": false,
     "task": false
    }
   },
   "source": [
    "## Ejercicios"
   ]
  },
  {
   "cell_type": "markdown",
   "metadata": {
    "deletable": false,
    "editable": false,
    "nbgrader": {
     "cell_type": "markdown",
     "checksum": "2aa3884bcc416fc1896940a26481a851",
     "grade": false,
     "grade_id": "cell-d1117d2dc5c7ce9f",
     "locked": true,
     "schema_version": 3,
     "solution": false,
     "task": false
    }
   },
   "source": [
    "En la siguente celda encuentras declarados los paquetes necesarios para el desarollo de este taller."
   ]
  },
  {
   "cell_type": "code",
   "execution_count": null,
   "metadata": {
    "deletable": false,
    "editable": false,
    "nbgrader": {
     "cell_type": "code",
     "checksum": "a7d1188a607cdd3f1e05af2242ca7686",
     "grade": false,
     "grade_id": "cell-dd397dc6a693cd46",
     "locked": true,
     "schema_version": 3,
     "solution": false,
     "task": false
    }
   },
   "outputs": [],
   "source": [
    "# Esta celda no es modificable.\n",
    "import plotly.graph_objects as go\n",
    "import ipywidgets as widgets\n",
    "import pandas as pd\n",
    "from ipywidgets import interactive"
   ]
  },
  {
   "cell_type": "markdown",
   "metadata": {
    "deletable": false,
    "editable": false,
    "nbgrader": {
     "cell_type": "markdown",
     "checksum": "11462d3106666cd4b524e5e04cfbad9d",
     "grade": false,
     "grade_id": "cell-ad5b3b654bf65d41",
     "locked": true,
     "schema_version": 3,
     "solution": false,
     "task": false
    }
   },
   "source": [
    "## Estadísticas bancarias"
   ]
  },
  {
   "cell_type": "markdown",
   "metadata": {
    "deletable": false,
    "editable": false,
    "nbgrader": {
     "cell_type": "markdown",
     "checksum": "b0473a6d6888dca06897e53804f96b78",
     "grade": false,
     "grade_id": "cell-dce0742e7440a658",
     "locked": true,
     "schema_version": 3,
     "solution": false,
     "task": false
    }
   },
   "source": [
    "A continuación, encuentras la descripción de las variables contenidas en la base de datos 'BankChurners.csv'. Utiliza esta información para dar respuesta a los ejercicios 1 y 2."
   ]
  },
  {
   "cell_type": "markdown",
   "metadata": {
    "deletable": false,
    "editable": false,
    "nbgrader": {
     "cell_type": "markdown",
     "checksum": "c159cd01e029b68fd3291fe8c5676be1",
     "grade": false,
     "grade_id": "cell-75eb080db18315fa",
     "locked": true,
     "schema_version": 3,
     "solution": false,
     "task": false
    }
   },
   "source": [
    "| <center>Variable<center> | <center>Descripción<center> | \n",
    "| :--- | :--- | \n",
    "|  CLIENTNUM  | Número de cliente|\n",
    "|  Attrition_Flag | Si la cuenta del cliente se encuentra activa |\n",
    "|  Customer_Age  | Edad del cliente|\n",
    "|  Gender  | Género de cliente|\n",
    "|  Dependent_count  | Número de personas a cargo|\n",
    "|  Education_Level | Nivel máximo de escolaridad alcanzado|\n",
    "| Marital_Status | Estado conyugal |\n",
    "|  Income_Category  | Categoría de ingresos anuales del titular de la cuenta|\n",
    "|  Card_Category  |  Tipo de tarjeta (Azul, Plata, Oro, Platino)|\n",
    "|  Months_on_book  | Periodo de relación con el banco|\n",
    "|  Total_Relationship_Count  | Número total de productos del cliente|\n",
    "|  Months_Inactive_12_mon | Número de meses de inactividad en los últimos 12 meses|\n",
    "|  Contacts_Count_12_mon  | Número de contactos en los últimos 12 meses|\n",
    "|  Credit_Limit  | Límite de crédito de la tarjeta de crédito|\n",
    "|  Total_Revolving_Bal | Saldo rotativo total de la tarjeta de crédito|\n",
    "|  Avg_Open_To_Buy  | Línea de crédito abierta (media de los últimos 12 meses)|\n",
    "|  Total_Amt_Chng_Q4_Q1  | Cambio en el monto de transacciones (cuarto trimestre a primer trimestre) |\n",
    "|  Total_Trans_Amt  | Monto total de las transacciones (últimos 12 meses)|\n",
    "|  Total_Trans_Ct  | Recuento total de transacciones (últimos 12 meses)|\n",
    "|  Total_Ct_Chng_Q4_Q1  | Cambio en el número de transacciones (cuarto trimestre a primer trimestre) |\n",
    "|  Avg_Utilization_Ratio  | Ratio de utilización media de la tarjeta|"
   ]
  },
  {
   "cell_type": "code",
   "execution_count": null,
   "metadata": {
    "deletable": false,
    "editable": false,
    "nbgrader": {
     "cell_type": "code",
     "checksum": "8ff7a02b55cca4f1b077b2f6d22c20cd",
     "grade": false,
     "grade_id": "cell-587b69ee8615f495",
     "locked": true,
     "schema_version": 3,
     "solution": false,
     "task": false
    }
   },
   "outputs": [],
   "source": [
    "# Esta celda no es modificable.\n",
    "\n",
    "df = pd.read_csv('Archivos/BankChurners.csv')\n",
    "df.head()"
   ]
  },
  {
   "cell_type": "markdown",
   "metadata": {
    "deletable": false,
    "editable": false,
    "nbgrader": {
     "cell_type": "markdown",
     "checksum": "a31730c7764b7a1ef82ca7b274792d5b",
     "grade": false,
     "grade_id": "cell-c059facef12c28b7",
     "locked": true,
     "schema_version": 3,
     "solution": false,
     "task": false
    }
   },
   "source": [
    "### Ejercicio 1\n",
    "Utiliza `plotly` para realizar un  diagramas de torta sobre el estado conyugal de los clientes (resaltando el más predominante)."
   ]
  },
  {
   "cell_type": "code",
   "execution_count": null,
   "metadata": {
    "deletable": false,
    "nbgrader": {
     "cell_type": "code",
     "checksum": "5309d13c57fafd72fa06d9fe2c82624c",
     "grade": true,
     "grade_id": "cell-86d857eb7410555b",
     "locked": false,
     "points": 1,
     "schema_version": 3,
     "solution": true,
     "task": false
    }
   },
   "outputs": [],
   "source": [
    "# YOUR CODE HERE\n",
    "raise NotImplementedError()"
   ]
  },
  {
   "cell_type": "markdown",
   "metadata": {
    "deletable": false,
    "editable": false,
    "nbgrader": {
     "cell_type": "markdown",
     "checksum": "87914ab4ebf2edc2064259682f82c5f9",
     "grade": false,
     "grade_id": "cell-023c0968c4f646f9",
     "locked": true,
     "schema_version": 3,
     "solution": false,
     "task": false
    }
   },
   "source": [
    "### Ejercicio 2\n",
    "Utiliza `plotly` para realizar un gráfico que permita verificar si el cambio en el monto de transacciones (cuarto trimestre a primer trimestre) se ajusta a una distribución normal."
   ]
  },
  {
   "cell_type": "code",
   "execution_count": null,
   "metadata": {
    "deletable": false,
    "nbgrader": {
     "cell_type": "code",
     "checksum": "a6d5f23033d8694896dc0fd42e3c91e4",
     "grade": true,
     "grade_id": "cell-346158b29fcf8b86",
     "locked": false,
     "points": 1,
     "schema_version": 3,
     "solution": true,
     "task": false
    }
   },
   "outputs": [],
   "source": [
    "# YOUR CODE HERE\n",
    "raise NotImplementedError()"
   ]
  },
  {
   "cell_type": "markdown",
   "metadata": {
    "deletable": false,
    "editable": false,
    "nbgrader": {
     "cell_type": "markdown",
     "checksum": "0a543f50539e52859d8a4b52319c3ddb",
     "grade": false,
     "grade_id": "cell-8adfbd219c5c52ac",
     "locked": true,
     "schema_version": 3,
     "solution": false,
     "task": false
    }
   },
   "source": [
    "## Base de datos de mercadeo"
   ]
  },
  {
   "cell_type": "markdown",
   "metadata": {
    "deletable": false,
    "editable": false,
    "nbgrader": {
     "cell_type": "markdown",
     "checksum": "cd6a34234c4c65e23677b8cdd4559bbb",
     "grade": false,
     "grade_id": "cell-699e70fccfc6f274",
     "locked": true,
     "schema_version": 3,
     "solution": false,
     "task": false
    }
   },
   "source": [
    "A continuación, encuentras la descripción de las variables contenidas en la base de datos 'marketing_data.csv'. Utiliza esta información para dar respuesta a los ejercicios 3, 4 y 5."
   ]
  },
  {
   "cell_type": "markdown",
   "metadata": {
    "deletable": false,
    "editable": false,
    "nbgrader": {
     "cell_type": "markdown",
     "checksum": "ee4bd15c54fd77498bbc3c921bbdbdd6",
     "grade": false,
     "grade_id": "cell-612959502f49933b",
     "locked": true,
     "schema_version": 3,
     "solution": false,
     "task": false
    }
   },
   "source": [
    "| <center>Variable<center> | <center>Descripción<center> | \n",
    "| :--- | :--- | \n",
    "| ID | Identificador único del cliente |\n",
    "| Year_Birth | Año de nacimiento del cliente |\n",
    "| Education | Nivel máximo de escolaridad alcanzado|\n",
    "| Marital_Status | Estado conyugal |\n",
    "| Income | Ingresos anuales del hogar del cliente |\n",
    "| Kidhome | Número de niños en el hogar|\n",
    "| Teenhome | Número de adolescentes en el hogar|\n",
    "| Dt_Customer | Fecha de inscripción del cliente en la empresa |\n",
    "| Recency | Número de días desde la última compra del cliente |\n",
    "| MntWines | Gastos en vino durante los dos últimos años |\n",
    "| MntFruits | Gastos en frutas durante los dos últimos años |\n",
    "| MntMeatProducts | Gastos en productos cárnicos durante los dos últimos años |\n",
    "| MntFishProducts | Gastos en pescado durante los dos últimos años |\n",
    "| MntSweetProducts | Gastos en dulces durante los dos últimos años |\n",
    "| MntGoldProds | Gastos en oro durante los dos últimos años |\n",
    "| NumDealsPurchases | Número de compras realizadas con un descuento |\n",
    "| NumWebPurchases| Número de compras realizadas a través del sitio web de la empresa |\n",
    "| NumCatalogPurchases | Número de compras realizadas por catálogo |\n",
    "| NumStorePurchases | Número de compras realizadas directamente en las tiendas |\n",
    "| NumWebVisitsMonth | Número de visitas al sitio web de la empresa en el último mes |\n",
    "| AcceptedCmp1 | 1 si el cliente aceptó la oferta en la primera campaña, 0 en caso contrario |\n",
    "| Response | 1 si el cliente aceptó la oferta en la última campaña, 0 en caso contrario |\n",
    "| Complain | 1 si el cliente se ha quejado en los últimos 2 años, 0 en caso contrario |\n",
    "| Country | País de ubicación del cliente |\n"
   ]
  },
  {
   "cell_type": "code",
   "execution_count": null,
   "metadata": {
    "deletable": false,
    "editable": false,
    "nbgrader": {
     "cell_type": "code",
     "checksum": "c1f2d15b25ec655c65a5cc7ffbbbe8ce",
     "grade": false,
     "grade_id": "cell-fb529804f0c4d2a0",
     "locked": true,
     "schema_version": 3,
     "solution": false,
     "task": false
    }
   },
   "outputs": [],
   "source": [
    "mercadeo = pd.read_csv('Archivos/marketing_data.csv')\n",
    "mercadeo.head()"
   ]
  },
  {
   "cell_type": "markdown",
   "metadata": {
    "deletable": false,
    "editable": false,
    "nbgrader": {
     "cell_type": "markdown",
     "checksum": "81aa79bf90f39fc8a6b34092b2321d0e",
     "grade": false,
     "grade_id": "cell-cefa021fe395b2cb",
     "locked": true,
     "schema_version": 3,
     "solution": false,
     "task": false
    }
   },
   "source": [
    "### Ejercicio 3\n",
    "Utiliza `plotly` para realizar un gráfico de dispersión que permita visualizar la relación que existe entre las variables 'Year_Birth' y 'MntWines'."
   ]
  },
  {
   "cell_type": "code",
   "execution_count": null,
   "metadata": {
    "deletable": false,
    "nbgrader": {
     "cell_type": "code",
     "checksum": "e4c172a4c3064d1294c8584a4952b1f4",
     "grade": true,
     "grade_id": "cell-f8250a7a4c997032",
     "locked": false,
     "points": 1,
     "schema_version": 3,
     "solution": true,
     "task": false
    }
   },
   "outputs": [],
   "source": [
    "# YOUR CODE HERE\n",
    "raise NotImplementedError()"
   ]
  },
  {
   "cell_type": "code",
   "execution_count": null,
   "metadata": {
    "deletable": false,
    "nbgrader": {
     "cell_type": "code",
     "checksum": "488f4d805ac39bec55fec3e98c937400",
     "grade": true,
     "grade_id": "cell-4bb4dc3dba9dcf38",
     "locked": false,
     "points": 1,
     "schema_version": 3,
     "solution": true,
     "task": false
    }
   },
   "outputs": [],
   "source": [
    "# YOUR CODE HERE\n",
    "raise NotImplementedError()"
   ]
  },
  {
   "cell_type": "markdown",
   "metadata": {
    "deletable": false,
    "editable": false,
    "nbgrader": {
     "cell_type": "markdown",
     "checksum": "b98f391107cb3e98817bbdc858b94a0e",
     "grade": false,
     "grade_id": "cell-8780f5e0051b0d78",
     "locked": true,
     "schema_version": 3,
     "solution": false,
     "task": false
    }
   },
   "source": [
    "### Ejercicio 4\n",
    "Utiliza `ipywidgets` para filtrar las observaciones de la base de datos de acuerdo con los siguentes criterios:\n",
    "1. Nivel máximo de escolaridad alcanzado.\n",
    "2. Número de niños en el hogar.\n",
    "3. Número de adolescentes en el hogar."
   ]
  },
  {
   "cell_type": "code",
   "execution_count": null,
   "metadata": {
    "deletable": false,
    "nbgrader": {
     "cell_type": "code",
     "checksum": "ea1e878b1d0a0f0ee2633e02188b4416",
     "grade": true,
     "grade_id": "cell-d462e01749cd00f2",
     "locked": false,
     "points": 1,
     "schema_version": 3,
     "solution": true,
     "task": false
    }
   },
   "outputs": [],
   "source": [
    "# YOUR CODE HERE\n",
    "raise NotImplementedError()"
   ]
  },
  {
   "cell_type": "markdown",
   "metadata": {
    "deletable": false,
    "editable": false,
    "nbgrader": {
     "cell_type": "markdown",
     "checksum": "7e9fcd14ff087fe5943729240d9b8e3a",
     "grade": false,
     "grade_id": "cell-17898209587a187e",
     "locked": true,
     "schema_version": 3,
     "solution": false,
     "task": false
    }
   },
   "source": [
    "### Ejercicio 5\n",
    "Utiliza `ipywidgets` y `plotly` para generar un gráfico con controles que:\n",
    "1. Cuente con un control para seleccionar una de las variable de Gastos frente a los ingresos.\n",
    "1. Genere un gráfico de dispersión\n",
    "2. Genere un diagrama de caja."
   ]
  },
  {
   "cell_type": "code",
   "execution_count": null,
   "metadata": {
    "deletable": false,
    "nbgrader": {
     "cell_type": "code",
     "checksum": "621bbd673a97f8955e6e9738e6c87ab9",
     "grade": true,
     "grade_id": "cell-2a14b99ae1ab7ad7",
     "locked": false,
     "points": 1,
     "schema_version": 3,
     "solution": true,
     "task": false
    }
   },
   "outputs": [],
   "source": [
    "# YOUR CODE HERE\n",
    "raise NotImplementedError()"
   ]
  },
  {
   "cell_type": "markdown",
   "metadata": {
    "deletable": false,
    "editable": false,
    "nbgrader": {
     "cell_type": "markdown",
     "checksum": "e25b23fc0faefdb0436fa6406cfa0d05",
     "grade": false,
     "grade_id": "cell-2fa3d05e2132886b",
     "locked": true,
     "schema_version": 3,
     "solution": false,
     "task": false
    }
   },
   "source": [
    "## Referencias\n",
    " \n",
    "Daoud, J (2020). Marketing Analytics. Recuperado el 11 de febrero de 2021 de: https://www.kaggle.com/jackdaoud/marketing-data\n",
    "\n",
    "Goyal, S (2020). Credit Card customers. Recuperado el 11 de febrero de 2021 de: https://www.kaggle.com/sakshigoyal7/credit-card-customers"
   ]
  },
  {
   "cell_type": "markdown",
   "metadata": {
    "deletable": false,
    "editable": false,
    "nbgrader": {
     "cell_type": "markdown",
     "checksum": "ee5ddea1ae84061f3352e5370b6acafd",
     "grade": false,
     "grade_id": "cell-431aff6407e8b147",
     "locked": true,
     "schema_version": 3,
     "solution": false,
     "task": false
    }
   },
   "source": [
    "## Créditos\n",
    "\n",
    "**Autor(es):** Juan David Reyes Jaimes, Diego Alejandro Cely Gómez\n",
    "\n",
    "**Fecha última actualización:** 17/09/2021"
   ]
  }
 ],
 "metadata": {
  "kernelspec": {
   "display_name": "Python 3 (ipykernel)",
   "language": "python",
   "name": "python3"
  },
  "language_info": {
   "codemirror_mode": {
    "name": "ipython",
    "version": 3
   },
   "file_extension": ".py",
   "mimetype": "text/x-python",
   "name": "python",
   "nbconvert_exporter": "python",
   "pygments_lexer": "ipython3",
   "version": "3.8.10"
  }
 },
 "nbformat": 4,
 "nbformat_minor": 4
}
