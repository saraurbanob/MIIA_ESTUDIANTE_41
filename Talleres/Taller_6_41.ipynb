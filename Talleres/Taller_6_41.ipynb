{
 "cells": [
  {
   "cell_type": "markdown",
   "metadata": {
    "deletable": false,
    "editable": false,
    "nbgrader": {
     "cell_type": "markdown",
     "checksum": "c7627cfba51a3173dc3ad54dd43beace",
     "grade": false,
     "grade_id": "header",
     "locked": true,
     "schema_version": 3,
     "solution": false,
     "task": false
    }
   },
   "source": [
    "<img src=\"Archivos/miad4.png\" width=800x>\n",
    "\n",
    "# Explorar y modificar bases de datos utilizando `pandas`\n",
    "\n",
    "En este taller filtrarás y modificarás bases de datos por medio de sus índices al resolver diversos ejercicios. \n",
    "\n",
    "## Habilidades en práctica\n",
    "\n",
    "Al realizar este taller podrás revisar tu progreso para:\n",
    "\n",
    "**1.** Indexar un `DataFrame` empleando índices unitarios o múltiples. <br>\n",
    "**2.** Aplicar los distintos tipos de filtrado utilizando `pandas`.<br>\n",
    "**3.** Emplear algunos métodos de `pandas` para modificar una base de datos. <br>\n",
    "\n",
    "## Instrucciones\n",
    "\n",
    "En cada uno de los siguientes ejercicios deberás escribir el código solicitado estrictamente en las celdas indicadas para ello, teniendo en cuenta las siguientes recomendaciones:\n",
    "\n",
    "* No crear, eliminar o modificar celdas de este Notebook (salvo lo que se te indique), pues puede verse afectado el proceso de calificación automática.\n",
    "\n",
    "* La calificación se realiza de manera automática con datos diferentes a los proporcionados en este taller. Por consiguiente, tu código debe funcionar para diferentes instancias de cada uno de los ejercicios; una instancia hace referencia a los posibles valores de los parámetros.\n",
    "\n",
    "* La calificación de cada ejercicio depende del valor que retorne la función especificada en su enunciado. Por lo tanto, aunque implementes funciones adicionales, es escencial que utilices los nombres propuestos en los enunciados de los ejercicios para implementar la función definitiva."
   ]
  },
  {
   "cell_type": "markdown",
   "metadata": {
    "deletable": false,
    "editable": false,
    "nbgrader": {
     "cell_type": "markdown",
     "checksum": "68d388c33cbffb74323dd75af9db7dea",
     "grade": false,
     "grade_id": "bloque-ejer",
     "locked": true,
     "schema_version": 3,
     "solution": false,
     "task": false
    }
   },
   "source": [
    "## Ejercicios\n",
    "En la siguente celda encuentras declarados los paquetes necesarios para el desarollo de este taller."
   ]
  },
  {
   "cell_type": "code",
   "execution_count": 40,
   "metadata": {
    "deletable": false,
    "editable": false,
    "nbgrader": {
     "cell_type": "code",
     "checksum": "7fb1d272d45a00910c68d14f0b06dbe1",
     "grade": false,
     "grade_id": "import",
     "locked": true,
     "schema_version": 3,
     "solution": false,
     "task": false
    }
   },
   "outputs": [],
   "source": [
    "# Esta celda no es modificable\n",
    "\n",
    "import numpy as np\n",
    "import pandas as pd"
   ]
  },
  {
   "cell_type": "markdown",
   "metadata": {
    "deletable": false,
    "editable": false,
    "nbgrader": {
     "cell_type": "markdown",
     "checksum": "68d50fb37bf3acb5c66623ae44037b83",
     "grade": false,
     "grade_id": "ej1-enun",
     "locked": true,
     "schema_version": 3,
     "solution": false,
     "task": false
    }
   },
   "source": [
    "### Ejercicio 1\n",
    "\n",
    "Junto a este Notebook encontrarás un archivo llamado `\"pooled_data_public.dta\"` que contiene la base de datos completa del BID. Este archivo, al ser de tipo *.dta*, requiere de una función de `pandas` para ser importado a Python.\n",
    "\n",
    "    read_stata(file = \"Archivos/pooled_data_public.dta\")"
   ]
  },
  {
   "cell_type": "markdown",
   "metadata": {
    "deletable": false,
    "editable": false,
    "nbgrader": {
     "cell_type": "markdown",
     "checksum": "32d7d73b01da2a9d9689f44e42428313",
     "grade": false,
     "grade_id": "ej1-task",
     "locked": true,
     "schema_version": 3,
     "solution": false,
     "task": false
    }
   },
   "source": [
    "Implementa una función llamada `importar_e_indexar` que no reciba parámetros, importe los datos del archivo `\"pooled_data_public.dta\"` y retorne un `DataFrame` cuyo índice (`index`) sea la columna `'id'` de la base de datos sin incluirla en las columnas del `DataFrame` resultante.\n",
    "\n",
    "La función debe retornar un `DataFrame`."
   ]
  },
  {
   "cell_type": "code",
   "execution_count": 74,
   "metadata": {
    "deletable": false,
    "nbgrader": {
     "cell_type": "code",
     "checksum": "36077906e0c130d2845e25e45c280f50",
     "grade": false,
     "grade_id": "ej1-sol",
     "locked": false,
     "schema_version": 3,
     "solution": true,
     "task": false
    }
   },
   "outputs": [],
   "source": [
    "def importar_e_indexar():\n",
    "\n",
    "    DataFrame=pd.read_stata( \"Archivos/pooled_data_public.dta\")\n",
    "    DataFrame.set_index('id',inplace = True)\n",
    "    \n",
    "    return DataFrame"
   ]
  },
  {
   "cell_type": "code",
   "execution_count": 47,
   "metadata": {
    "deletable": false,
    "editable": false,
    "nbgrader": {
     "cell_type": "code",
     "checksum": "d92757ea64173729c2fbd130a4465344",
     "grade": true,
     "grade_id": "ej1-test",
     "locked": true,
     "points": 1,
     "schema_version": 3,
     "solution": false,
     "task": false
    }
   },
   "outputs": [
    {
     "name": "stdout",
     "output_type": "stream",
     "text": [
      "Felicidades, realizaste este ejercicio correctamente.\n"
     ]
    }
   ],
   "source": [
    "## AUTO-CALIFICADOR\n",
    "\n",
    "# Base variables\n",
    "import inspect\n",
    "\n",
    "nombre_columnas = ['country_code', 'country_name', 'weight', 'weight_pop', 'pop', 'recordeddate', 'genero', 'edad', 'educ', 'estcivil', 'nrhogar', 'nrhogar_antes', 'hayninhos', 'ninos_5', 'nrninhos', 'matriculados', 'esc_publica', 'grado', 'haymayores', 'diasmercado', 'lugarmercado', 'comprotodo', 'nocompra_pan', 'nocompra_vegetal', 'nocompra_carne', 'nocompra_envasados', 'nocompra_bebidas', 'nocompra_limpieza', 'nocompra_medicinas', 'nocompra_otro', 'nrnegocios', 'esperarfila', 'subaprecios', 'hambre', 'menos_saludable', 'vivienda', 'probvivienda', 'probvivienda_prox', 'ayuda_alquiler', 'sufialimento', 'sufirecursos', 'gasto_emergencia', 'monto_gasto', 'pre_cash', 'new_cash', 'coima', 'tiene_banco', 'tiene_tarjdebito', 'tiene_segsaludpub', 'tiene_segsaludpriv', 'recibeprestamos', 'darprestamos', 'remesas_enero', 'remesas_origen', 'remesas_persona', 'recibio_remesas', 'lm_perdioempleo', 'lm_cerronegocio_gob', 'lm_cerronegocio_dem', 'lm_asistmedica', 'lm_perdioingrarriendo', 'lm_dejoasistencia', 'lm_freq', 'recibio_ayudaemp', 'compromiso_futurotrabajo', 'empleo_formal', 'actividad_empleado', 'actividad_negocio', 'actividad_estudio', 'trabajocasa', 'diastrabajo', 'horastrabajo', 'sector', 'redujo_ingreso', 'ingreso_jan2020', 'ingreso_apr2020', 'retorno_ingreso', 'sintoma_ninguno', 'sintoma_garganta', 'sintoma_gripe', 'sintoma_sarpullido', 'sintoma_fiebre', 'sintoma_tos', 'conoce_sintomas', 'infectados_sinsintomas', 'sinsintomas_contagiar', 'visito_trabajo', 'visito_hospital', 'visito_mercado', 'visito_banco', 'visito_amigos', 'visito_familiares', 'visito_ejercitar', 'visito_iglesia', 'comotransmite', 'sabe_comotransmite', 'distsoc', 'recom_trabajo', 'recom_hospital', 'recom_mercado', 'recom_banco', 'recom_amigos', 'recom_familiares', 'recom_ejercicio', 'recom_iglesia', 'haceds_hogar', 'haceds_vecinos', 'haceds_jovenes', 'haceds_mayores', 'haceds_otropais', 'haceds_emplmercados', 'medios_noti_redessociales', 'medios_noti_chat', 'medios_noti_periodicos', 'medios_noti_tv', 'medios_noti_radio', 'medios_covid_redessociales', 'medios_covid_chat', 'medios_covid_periodicos', 'medios_covid_tv', 'medios_covid_radio', 'nps_medio_redessoc', 'nps_medio_sms', 'nps_medio_periodico', 'nps_medio_tv', 'nps_medio_radio', 'nps_medio_website', 'nps_medio_otro']\n",
    "tipo_columnas = ['CategoricalDtype', 'dtype[object_]', 'dtype[float32]', 'dtype[float32]', 'dtype[float64]', 'dtype[object_]', 'CategoricalDtype', 'dtype[int16]', 'CategoricalDtype', 'CategoricalDtype', 'dtype[int8]', 'dtype[int8]', 'CategoricalDtype', 'CategoricalDtype', 'dtype[float64]', 'dtype[float64]', 'CategoricalDtype', 'dtype[float64]', 'CategoricalDtype', 'CategoricalDtype', 'CategoricalDtype', 'CategoricalDtype', 'CategoricalDtype', 'CategoricalDtype', 'CategoricalDtype', 'CategoricalDtype', 'CategoricalDtype', 'CategoricalDtype', 'CategoricalDtype', 'CategoricalDtype', 'CategoricalDtype', 'CategoricalDtype', 'CategoricalDtype', 'CategoricalDtype', 'CategoricalDtype', 'CategoricalDtype', 'CategoricalDtype', 'CategoricalDtype', 'CategoricalDtype', 'CategoricalDtype', 'CategoricalDtype', 'CategoricalDtype', 'dtype[float32]', 'CategoricalDtype', 'CategoricalDtype', 'CategoricalDtype', 'CategoricalDtype', 'CategoricalDtype', 'CategoricalDtype', 'CategoricalDtype', 'CategoricalDtype', 'CategoricalDtype', 'CategoricalDtype', 'dtype[float64]', 'CategoricalDtype', 'CategoricalDtype', 'CategoricalDtype', 'CategoricalDtype', 'CategoricalDtype', 'CategoricalDtype', 'CategoricalDtype', 'CategoricalDtype', 'dtype[float64]', 'CategoricalDtype', 'CategoricalDtype', 'CategoricalDtype', 'CategoricalDtype', 'CategoricalDtype', 'CategoricalDtype', 'CategoricalDtype', 'dtype[int8]', 'dtype[int8]', 'CategoricalDtype', 'CategoricalDtype', 'CategoricalDtype', 'CategoricalDtype', 'CategoricalDtype', 'CategoricalDtype', 'CategoricalDtype', 'CategoricalDtype', 'CategoricalDtype', 'CategoricalDtype', 'CategoricalDtype', 'dtype[float32]', 'CategoricalDtype', 'CategoricalDtype', 'CategoricalDtype', 'CategoricalDtype', 'CategoricalDtype', 'CategoricalDtype', 'CategoricalDtype', 'CategoricalDtype', 'CategoricalDtype', 'CategoricalDtype', 'dtype[object_]', 'CategoricalDtype', 'CategoricalDtype', 'CategoricalDtype', 'CategoricalDtype', 'CategoricalDtype', 'CategoricalDtype', 'CategoricalDtype', 'CategoricalDtype', 'CategoricalDtype', 'CategoricalDtype', 'CategoricalDtype', 'CategoricalDtype', 'CategoricalDtype', 'CategoricalDtype', 'CategoricalDtype', 'CategoricalDtype', 'CategoricalDtype', 'CategoricalDtype', 'CategoricalDtype', 'CategoricalDtype', 'CategoricalDtype', 'CategoricalDtype', 'CategoricalDtype', 'CategoricalDtype', 'CategoricalDtype', 'CategoricalDtype', 'CategoricalDtype', 'CategoricalDtype', 'CategoricalDtype', 'CategoricalDtype', 'CategoricalDtype', 'CategoricalDtype', 'CategoricalDtype']\n",
    "\n",
    "# Caso 1: no existe la función.\n",
    "try:\n",
    "    source = inspect.getsource(importar_e_indexar)\n",
    "    assert type(importar_e_indexar) == type(lambda:None)\n",
    "except:\n",
    "    raise NotImplementedError(\"No existe una función llamada importar_e_indexar.\",)\n",
    "    \n",
    "# Caso 2: la función es interrumpida por errores durante su ejecución.\n",
    "try:\n",
    "    resultado = importar_e_indexar()\n",
    "except:\n",
    "    raise RuntimeError(\"Tu función produce un error al ejecutarse.\")\n",
    "\n",
    "# Caso 3: no retorna un DataFrame\n",
    "assert type(resultado) == pd.DataFrame, f\"Tu función debe retornar un valor de tipo {pd.DataFrame.__name__}.\"\n",
    "\n",
    "# Caso 4: no utiliza el nombre del archivo\n",
    "assert source.find(\"pooled_data_public.dta\") >= 0, \"Tu código no hace referencia al archivo 'pooled_data_public.dta'.\"\n",
    "\n",
    "# Caso 5: retorna el dataframe con la columna 'id'\n",
    "assert \"id\" not in resultado.columns, \"Tu función retorna un DataFrame que incluye la columna 'id'. Debes convertir esta columna en el index del DataFrame.\"\n",
    "\n",
    "# Caso 6: retorna un dataframe con cantidad de columnas errada\n",
    "assert resultado.shape[1] == 128, \"Tu función retorna un DataFrame con cantidad de columnas errada.\"\n",
    "\n",
    "# Caso 7: devuelve un dataframe cuyas columnas tienen nombre distinto de lo esperado\n",
    "assert [*resultado.columns] == nombre_columnas, \"Tu función retorna un DataFrame con columnas cuyos nombres no coinciden con los de los datos del archivo.\"\n",
    "\n",
    "# Caso 8: devuelve un dataframe cuyas columnas tienen tipo distinto de lo esperado\n",
    "assert [i.__class__.__name__ for i in resultado.dtypes] == tipo_columnas, \"Tu función retorna un DataFrame con columnas cuyos tipos no coinciden con los de los datos del archivo.\"\n",
    "\n",
    "# Caso 9: devuelve un dataframe con cantidad de filas errada\n",
    "assert resultado.shape[0] == 230509, \"Tu función retorna un DataFrame con cantidad de filas errada.\"\n",
    "\n",
    "# Caso 10: devuelve un dataframe con indice del mismo tipo que por defecto ('int64')\n",
    "assert resultado.index.dtype.name != 'int64', \"Tu función retorna un DataFrame con índice del mismo tipo que el que se crea por defecto en pandas. Asegurate de estar asignando la columna 'id' al índice.\"\n",
    "\n",
    "# Caso 11: devuelve un dataframe con índice de tipo errado\n",
    "assert resultado.index.dtype.name == 'float64', \"Tu función retorna un DataFrame con índice de tipo distinto del esperado. Asegurate de estar usando la columna 'id' sin editarla.\"\n",
    "\n",
    "# Caso 12: el índice no tiene el nombre de la columna 'id'\n",
    "assert resultado.index.name == 'id', \"Tu función retorna un DataFrame con índice de nombre distinto de la columna 'id'.\"\n",
    "\n",
    "# Caso 13: primer o última posicion del índice distintas de lo esperado\n",
    "assert resultado.index[0] == 1000060.0, \"Tu función retorna un DataFrame que es errado por lo menos en la primera posición de su índice\"\n",
    "assert resultado.index[len(resultado.index) - 1] == 17003990.0, \"Tu función retorna un DataFrame que es errado por lo menos en la última posición de su índice\"\n",
    "\n",
    "\n",
    "\n",
    "\n",
    "# Mensaje de felicitaciones\n",
    "print(\"Felicidades, realizaste este ejercicio correctamente.\")"
   ]
  },
  {
   "cell_type": "markdown",
   "metadata": {
    "deletable": false,
    "editable": false,
    "nbgrader": {
     "cell_type": "markdown",
     "checksum": "f239639100a29b229eb5a7d0c3cb2917",
     "grade": false,
     "grade_id": "ej2-enun-task",
     "locked": true,
     "schema_version": 3,
     "solution": false,
     "task": false
    }
   },
   "source": [
    "### Ejercicio 2\n",
    "\n",
    "Implementa una función llamada `indice_sencillo_a_multiple` que no reciba parámetros, tome el `DataFrame` resultante del [Ejercicio 1](#Ejercicio-1) y modifique el `DataFrame` de manera que su índice (`index`) consista de tuplas compuestas por el valor del índice original y el valor correspondiente en la columna `\"country_code\"`. No incluya la columna `\"country_code\"` en el `DataFrame` resultante.\n",
    "\n",
    "La función debe retornar un `DataFrame`."
   ]
  },
  {
   "cell_type": "code",
   "execution_count": 111,
   "metadata": {
    "deletable": false,
    "nbgrader": {
     "cell_type": "code",
     "checksum": "289eed4fea8e3d3881a1d30d07b70bbb",
     "grade": false,
     "grade_id": "ej2-sol",
     "locked": false,
     "schema_version": 3,
     "solution": true,
     "task": false
    }
   },
   "outputs": [],
   "source": [
    "def indice_sencillo_a_multiple():\n",
    "    df = importar_e_indexar()\n",
    "    df.set_index(keys = \"country_code\", inplace = True,append = True, drop = True)\n",
    "    \n",
    "    return df"
   ]
  },
  {
   "cell_type": "code",
   "execution_count": 112,
   "metadata": {
    "deletable": false,
    "editable": false,
    "nbgrader": {
     "cell_type": "code",
     "checksum": "00481fab75a8fa423dc629886bbb8403",
     "grade": true,
     "grade_id": "ej2-test",
     "locked": true,
     "points": 1,
     "schema_version": 3,
     "solution": false,
     "task": false
    }
   },
   "outputs": [
    {
     "name": "stdout",
     "output_type": "stream",
     "text": [
      "Felicidades, realizaste este ejercicio correctamente.\n"
     ]
    }
   ],
   "source": [
    "## AUTO-CALIFICADOR\n",
    "\n",
    "# Base variables\n",
    "import inspect\n",
    "\n",
    "nombre_columnas = ['country_name', 'weight', 'weight_pop', 'pop', 'recordeddate', 'genero', 'edad', 'educ', 'estcivil', 'nrhogar', 'nrhogar_antes', 'hayninhos', 'ninos_5', 'nrninhos', 'matriculados', 'esc_publica', 'grado', 'haymayores', 'diasmercado', 'lugarmercado', 'comprotodo', 'nocompra_pan', 'nocompra_vegetal', 'nocompra_carne', 'nocompra_envasados', 'nocompra_bebidas', 'nocompra_limpieza', 'nocompra_medicinas', 'nocompra_otro', 'nrnegocios', 'esperarfila', 'subaprecios', 'hambre', 'menos_saludable', 'vivienda', 'probvivienda', 'probvivienda_prox', 'ayuda_alquiler', 'sufialimento', 'sufirecursos', 'gasto_emergencia', 'monto_gasto', 'pre_cash', 'new_cash', 'coima', 'tiene_banco', 'tiene_tarjdebito', 'tiene_segsaludpub', 'tiene_segsaludpriv', 'recibeprestamos', 'darprestamos', 'remesas_enero', 'remesas_origen', 'remesas_persona', 'recibio_remesas', 'lm_perdioempleo', 'lm_cerronegocio_gob', 'lm_cerronegocio_dem', 'lm_asistmedica', 'lm_perdioingrarriendo', 'lm_dejoasistencia', 'lm_freq', 'recibio_ayudaemp', 'compromiso_futurotrabajo', 'empleo_formal', 'actividad_empleado', 'actividad_negocio', 'actividad_estudio', 'trabajocasa', 'diastrabajo', 'horastrabajo', 'sector', 'redujo_ingreso', 'ingreso_jan2020', 'ingreso_apr2020', 'retorno_ingreso', 'sintoma_ninguno', 'sintoma_garganta', 'sintoma_gripe', 'sintoma_sarpullido', 'sintoma_fiebre', 'sintoma_tos', 'conoce_sintomas', 'infectados_sinsintomas', 'sinsintomas_contagiar', 'visito_trabajo', 'visito_hospital', 'visito_mercado', 'visito_banco', 'visito_amigos', 'visito_familiares', 'visito_ejercitar', 'visito_iglesia', 'comotransmite', 'sabe_comotransmite', 'distsoc', 'recom_trabajo', 'recom_hospital', 'recom_mercado', 'recom_banco', 'recom_amigos', 'recom_familiares', 'recom_ejercicio', 'recom_iglesia', 'haceds_hogar', 'haceds_vecinos', 'haceds_jovenes', 'haceds_mayores', 'haceds_otropais', 'haceds_emplmercados', 'medios_noti_redessociales', 'medios_noti_chat', 'medios_noti_periodicos', 'medios_noti_tv', 'medios_noti_radio', 'medios_covid_redessociales', 'medios_covid_chat', 'medios_covid_periodicos', 'medios_covid_tv', 'medios_covid_radio', 'nps_medio_redessoc', 'nps_medio_sms', 'nps_medio_periodico', 'nps_medio_tv', 'nps_medio_radio', 'nps_medio_website', 'nps_medio_otro']\n",
    "tipo_columnas = ['dtype[object_]', 'dtype[float32]', 'dtype[float32]', 'dtype[float64]', 'dtype[object_]', 'CategoricalDtype', 'dtype[int16]', 'CategoricalDtype', 'CategoricalDtype', 'dtype[int8]', 'dtype[int8]', 'CategoricalDtype', 'CategoricalDtype', 'dtype[float64]', 'dtype[float64]', 'CategoricalDtype', 'dtype[float64]', 'CategoricalDtype', 'CategoricalDtype', 'CategoricalDtype', 'CategoricalDtype', 'CategoricalDtype', 'CategoricalDtype', 'CategoricalDtype', 'CategoricalDtype', 'CategoricalDtype', 'CategoricalDtype', 'CategoricalDtype', 'CategoricalDtype', 'CategoricalDtype', 'CategoricalDtype', 'CategoricalDtype', 'CategoricalDtype', 'CategoricalDtype', 'CategoricalDtype', 'CategoricalDtype', 'CategoricalDtype', 'CategoricalDtype', 'CategoricalDtype', 'CategoricalDtype', 'CategoricalDtype', 'dtype[float32]', 'CategoricalDtype', 'CategoricalDtype', 'CategoricalDtype', 'CategoricalDtype', 'CategoricalDtype', 'CategoricalDtype', 'CategoricalDtype', 'CategoricalDtype', 'CategoricalDtype', 'CategoricalDtype', 'dtype[float64]', 'CategoricalDtype', 'CategoricalDtype', 'CategoricalDtype', 'CategoricalDtype', 'CategoricalDtype', 'CategoricalDtype', 'CategoricalDtype', 'CategoricalDtype', 'dtype[float64]', 'CategoricalDtype', 'CategoricalDtype', 'CategoricalDtype', 'CategoricalDtype', 'CategoricalDtype', 'CategoricalDtype', 'CategoricalDtype', 'dtype[int8]', 'dtype[int8]', 'CategoricalDtype', 'CategoricalDtype', 'CategoricalDtype', 'CategoricalDtype', 'CategoricalDtype', 'CategoricalDtype', 'CategoricalDtype', 'CategoricalDtype', 'CategoricalDtype', 'CategoricalDtype', 'CategoricalDtype', 'dtype[float32]', 'CategoricalDtype', 'CategoricalDtype', 'CategoricalDtype', 'CategoricalDtype', 'CategoricalDtype', 'CategoricalDtype', 'CategoricalDtype', 'CategoricalDtype', 'CategoricalDtype', 'CategoricalDtype', 'dtype[object_]', 'CategoricalDtype', 'CategoricalDtype', 'CategoricalDtype', 'CategoricalDtype', 'CategoricalDtype', 'CategoricalDtype', 'CategoricalDtype', 'CategoricalDtype', 'CategoricalDtype', 'CategoricalDtype', 'CategoricalDtype', 'CategoricalDtype', 'CategoricalDtype', 'CategoricalDtype', 'CategoricalDtype', 'CategoricalDtype', 'CategoricalDtype', 'CategoricalDtype', 'CategoricalDtype', 'CategoricalDtype', 'CategoricalDtype', 'CategoricalDtype', 'CategoricalDtype', 'CategoricalDtype', 'CategoricalDtype', 'CategoricalDtype', 'CategoricalDtype', 'CategoricalDtype', 'CategoricalDtype', 'CategoricalDtype', 'CategoricalDtype', 'CategoricalDtype', 'CategoricalDtype']\n",
    "\n",
    "# Caso 1: no existe la función.\n",
    "try:\n",
    "    source = inspect.getsource(indice_sencillo_a_multiple)\n",
    "    assert type(indice_sencillo_a_multiple) == type(lambda:None)\n",
    "except:\n",
    "    raise NotImplementedError(\"No existe una función llamada indice_sencillo_a_multiple.\",)\n",
    "    \n",
    "# Caso 2: la función es interrumpida por errores durante su ejecución.\n",
    "try:\n",
    "    resultado = indice_sencillo_a_multiple()\n",
    "except:\n",
    "    raise RuntimeError(\"Tu función produce un error al ejecutarse.\")\n",
    "\n",
    "# Caso 3: no retorna un DataFrame\n",
    "assert type(resultado) == pd.DataFrame, f\"Tu función debe retornar un valor de tipo {pd.DataFrame.__name__}.\"\n",
    "\n",
    "# Caso 4: no ejecuta la función importar_e_indexar\n",
    "assert source.find(\"importar_e_indexar()\") >= 0, \"Tu código no hace referencia a la función importar_e_indexar. Asegurate de ejecutarla en tu función.\"\n",
    "\n",
    "# Caso 5: retorna el dataframe con la columna 'id'\n",
    "assert \"id\" not in resultado.columns, \"Tu función retorna un DataFrame que incluye la columna 'id'. Esta columna debes haberla convertido en el index sencillo del DataFrame.\"\n",
    "\n",
    "# Caso 6: retorna el dataframe con la columna 'country_code'\n",
    "assert \"country_code\" not in resultado.columns, \"Tu función retorna un DataFrame que incluye la columna 'country_code'. Esta columna debes haberla unido al index del DataFrame para formar un índice múltiple.\"\n",
    "\n",
    "# Caso 7: retorna un dataframe con cantidad de columnas errada\n",
    "assert resultado.shape[1] == 127, \"Tu función retorna un DataFrame con cantidad de columnas errada.\"\n",
    "\n",
    "# Caso 8: devuelve un dataframe cuyas columnas tienen nombre distinto de lo esperado\n",
    "assert [*resultado.columns] == nombre_columnas, \"Tu función retorna un DataFrame con columnas cuyos nombres no coinciden con los de los datos del archivo.\"\n",
    "\n",
    "# Caso 9: devuelve un dataframe cuyas columnas tienen tipo distinto de lo esperado\n",
    "assert [i.__class__.__name__ for i in resultado.dtypes] == tipo_columnas, \"Tu función retorna un DataFrame con columnas cuyos tipos no coinciden con los de los datos del archivo.\"\n",
    "\n",
    "# Caso 10: devuelve un dataframe con cantidad de filas errada\n",
    "assert resultado.shape[0] == 230509, \"Tu función retorna un DataFrame con cantidad de filas errada.\"\n",
    "\n",
    "# Caso 11: devuelve un dataframe con indice no multiple\n",
    "assert type(resultado.index) == pd.MultiIndex, \"Tu función retorna un DataFrame con índice no múltiple.\"\n",
    "\n",
    "# Caso 12: devuelve un dataframe con primer nivel de indice multiple del mismo tipo que por defecto ('int64')\n",
    "assert resultado.index.get_level_values(0).dtype.name != 'int64', \"Tu función retorna un DataFrame con índice múltiple cuyo primer nivel es del mismo tipo que el que se crea por defecto en pandas. Asegurate de estar asignando la columna 'id' al índice.\"\n",
    "\n",
    "# Caso 13: devuelve un dataframe con primer nivel de indice multiple de tipo errado\n",
    "assert resultado.index.get_level_values(0).dtype.name == 'float64', \"Tu función retorna un DataFrame con índice múltiple cuyo primer nivel es de tipo distinto del esperado. Asegurate de estar usando la columna 'id' sin editarla.\"\n",
    "\n",
    "# Caso 14: devuelve un dataframe con segundo nivel de indice multiple de tipo errado\n",
    "assert resultado.index.get_level_values(1).dtype.name == 'category', \"Tu función retorna un DataFrame con índice múltiple cuyo segundo nivel es de tipo distinto del esperado. Asegurate de estar usando la columna 'country_code' sin editarla.\"\n",
    "\n",
    "# Caso 15: el multiíndice no tiene el nombre de la columna 'id' y 'country_code'\n",
    "assert [*resultado.index.names] == ['id', 'country_code'], \"Tu función retorna un DataFrame con índice de nombres distintos de las columna 'id' y 'country_code'.\"\n",
    "\n",
    "# Caso 16: primera o última posicion del índice distintas de lo esperado\n",
    "assert resultado.index[0] == (1000060.0, 'Bahamas'), \"Tu función retorna un DataFrame que es errado por lo menos en la primera posición de su índice\"\n",
    "assert resultado.index[len(resultado.index) - 1] == (17003990.0, 'Uruguay'), \"Tu función retorna un DataFrame que es errado por lo menos en la última posición de su índice\"\n",
    "\n",
    "\n",
    "# Mensaje de felicitaciones\n",
    "print(\"Felicidades, realizaste este ejercicio correctamente.\")"
   ]
  },
  {
   "cell_type": "markdown",
   "metadata": {
    "deletable": false,
    "editable": false,
    "nbgrader": {
     "cell_type": "markdown",
     "checksum": "34d88b106fae47b5b41b5415556e0348",
     "grade": false,
     "grade_id": "ej3-enun-task",
     "locked": true,
     "schema_version": 3,
     "solution": false,
     "task": false
    }
   },
   "source": [
    "### Ejercicio 3\n",
    "\n",
    "Implementa una función llamada `sin_columnas` que no reciba parámetros, tome el `DataFrame` resultante del [Ejercicio 1](#Ejercicio-1) y lo retorne sin las columnas `\"country_name\"`, `\"grado\"` y `\"coima\"`.\n",
    "\n",
    "Debes hacer uso del método `drop`.\n",
    "\n",
    "La función debe retornar un `DataFrame`."
   ]
  },
  {
   "cell_type": "code",
   "execution_count": 120,
   "metadata": {
    "deletable": false,
    "nbgrader": {
     "cell_type": "code",
     "checksum": "e32e96e55bd4d8d3b7612a3b109d0ad9",
     "grade": false,
     "grade_id": "ej3-sol",
     "locked": false,
     "schema_version": 3,
     "solution": true,
     "task": false
    }
   },
   "outputs": [],
   "source": [
    "def sin_columnas():\n",
    "    df1 = importar_e_indexar()\n",
    "    df1.drop(['country_name', 'grado', 'coima'],axis = 'columns', inplace=True)\n",
    "    \n",
    "    return df1"
   ]
  },
  {
   "cell_type": "code",
   "execution_count": 121,
   "metadata": {
    "deletable": false,
    "editable": false,
    "nbgrader": {
     "cell_type": "code",
     "checksum": "26ac68140c9123cc86ce3fcc5e8c8045",
     "grade": true,
     "grade_id": "ej3-test",
     "locked": true,
     "points": 1,
     "schema_version": 3,
     "solution": false,
     "task": false
    }
   },
   "outputs": [
    {
     "name": "stdout",
     "output_type": "stream",
     "text": [
      "Felicidades, realizaste este ejercicio correctamente.\n"
     ]
    }
   ],
   "source": [
    "## AUTO-CALIFICADOR\n",
    "\n",
    "# Base variables\n",
    "import inspect\n",
    "\n",
    "nombre_columnas = ['country_code', 'weight', 'weight_pop', 'pop', 'recordeddate', 'genero', 'edad', 'educ', 'estcivil', 'nrhogar', 'nrhogar_antes', 'hayninhos', 'ninos_5', 'nrninhos', 'matriculados', 'esc_publica', 'haymayores', 'diasmercado', 'lugarmercado', 'comprotodo', 'nocompra_pan', 'nocompra_vegetal', 'nocompra_carne', 'nocompra_envasados', 'nocompra_bebidas', 'nocompra_limpieza', 'nocompra_medicinas', 'nocompra_otro', 'nrnegocios', 'esperarfila', 'subaprecios', 'hambre', 'menos_saludable', 'vivienda', 'probvivienda', 'probvivienda_prox', 'ayuda_alquiler', 'sufialimento', 'sufirecursos', 'gasto_emergencia', 'monto_gasto', 'pre_cash', 'new_cash', 'tiene_banco', 'tiene_tarjdebito', 'tiene_segsaludpub', 'tiene_segsaludpriv', 'recibeprestamos', 'darprestamos', 'remesas_enero', 'remesas_origen', 'remesas_persona', 'recibio_remesas', 'lm_perdioempleo', 'lm_cerronegocio_gob', 'lm_cerronegocio_dem', 'lm_asistmedica', 'lm_perdioingrarriendo', 'lm_dejoasistencia', 'lm_freq', 'recibio_ayudaemp', 'compromiso_futurotrabajo', 'empleo_formal', 'actividad_empleado', 'actividad_negocio', 'actividad_estudio', 'trabajocasa', 'diastrabajo', 'horastrabajo', 'sector', 'redujo_ingreso', 'ingreso_jan2020', 'ingreso_apr2020', 'retorno_ingreso', 'sintoma_ninguno', 'sintoma_garganta', 'sintoma_gripe', 'sintoma_sarpullido', 'sintoma_fiebre', 'sintoma_tos', 'conoce_sintomas', 'infectados_sinsintomas', 'sinsintomas_contagiar', 'visito_trabajo', 'visito_hospital', 'visito_mercado', 'visito_banco', 'visito_amigos', 'visito_familiares', 'visito_ejercitar', 'visito_iglesia', 'comotransmite', 'sabe_comotransmite', 'distsoc', 'recom_trabajo', 'recom_hospital', 'recom_mercado', 'recom_banco', 'recom_amigos', 'recom_familiares', 'recom_ejercicio', 'recom_iglesia', 'haceds_hogar', 'haceds_vecinos', 'haceds_jovenes', 'haceds_mayores', 'haceds_otropais', 'haceds_emplmercados', 'medios_noti_redessociales', 'medios_noti_chat', 'medios_noti_periodicos', 'medios_noti_tv', 'medios_noti_radio', 'medios_covid_redessociales', 'medios_covid_chat', 'medios_covid_periodicos', 'medios_covid_tv', 'medios_covid_radio', 'nps_medio_redessoc', 'nps_medio_sms', 'nps_medio_periodico', 'nps_medio_tv', 'nps_medio_radio', 'nps_medio_website', 'nps_medio_otro']\n",
    "tipo_columnas = ['CategoricalDtype', 'dtype[float32]', 'dtype[float32]', 'dtype[float64]', 'dtype[object_]', 'CategoricalDtype', 'dtype[int16]', 'CategoricalDtype', 'CategoricalDtype', 'dtype[int8]', 'dtype[int8]', 'CategoricalDtype', 'CategoricalDtype', 'dtype[float64]', 'dtype[float64]', 'CategoricalDtype', 'CategoricalDtype', 'CategoricalDtype', 'CategoricalDtype', 'CategoricalDtype', 'CategoricalDtype', 'CategoricalDtype', 'CategoricalDtype', 'CategoricalDtype', 'CategoricalDtype', 'CategoricalDtype', 'CategoricalDtype', 'CategoricalDtype', 'CategoricalDtype', 'CategoricalDtype', 'CategoricalDtype', 'CategoricalDtype', 'CategoricalDtype', 'CategoricalDtype', 'CategoricalDtype', 'CategoricalDtype', 'CategoricalDtype', 'CategoricalDtype', 'CategoricalDtype', 'CategoricalDtype', 'dtype[float32]', 'CategoricalDtype', 'CategoricalDtype', 'CategoricalDtype', 'CategoricalDtype', 'CategoricalDtype', 'CategoricalDtype', 'CategoricalDtype', 'CategoricalDtype', 'CategoricalDtype', 'dtype[float64]', 'CategoricalDtype', 'CategoricalDtype', 'CategoricalDtype', 'CategoricalDtype', 'CategoricalDtype', 'CategoricalDtype', 'CategoricalDtype', 'CategoricalDtype', 'dtype[float64]', 'CategoricalDtype', 'CategoricalDtype', 'CategoricalDtype', 'CategoricalDtype', 'CategoricalDtype', 'CategoricalDtype', 'CategoricalDtype', 'dtype[int8]', 'dtype[int8]', 'CategoricalDtype', 'CategoricalDtype', 'CategoricalDtype', 'CategoricalDtype', 'CategoricalDtype', 'CategoricalDtype', 'CategoricalDtype', 'CategoricalDtype', 'CategoricalDtype', 'CategoricalDtype', 'CategoricalDtype', 'dtype[float32]', 'CategoricalDtype', 'CategoricalDtype', 'CategoricalDtype', 'CategoricalDtype', 'CategoricalDtype', 'CategoricalDtype', 'CategoricalDtype', 'CategoricalDtype', 'CategoricalDtype', 'CategoricalDtype', 'dtype[object_]', 'CategoricalDtype', 'CategoricalDtype', 'CategoricalDtype', 'CategoricalDtype', 'CategoricalDtype', 'CategoricalDtype', 'CategoricalDtype', 'CategoricalDtype', 'CategoricalDtype', 'CategoricalDtype', 'CategoricalDtype', 'CategoricalDtype', 'CategoricalDtype', 'CategoricalDtype', 'CategoricalDtype', 'CategoricalDtype', 'CategoricalDtype', 'CategoricalDtype', 'CategoricalDtype', 'CategoricalDtype', 'CategoricalDtype', 'CategoricalDtype', 'CategoricalDtype', 'CategoricalDtype', 'CategoricalDtype', 'CategoricalDtype', 'CategoricalDtype', 'CategoricalDtype', 'CategoricalDtype', 'CategoricalDtype', 'CategoricalDtype', 'CategoricalDtype', 'CategoricalDtype']\n",
    "\n",
    "# Caso 1: no existe la función.\n",
    "try:\n",
    "    source = inspect.getsource(sin_columnas)\n",
    "    assert type(sin_columnas) == type(lambda:None)\n",
    "except:\n",
    "    raise NotImplementedError(\"No existe una función llamada sin_columnas.\",)\n",
    "    \n",
    "# Caso 2: la función es interrumpida por errores durante su ejecución.\n",
    "try:\n",
    "    resultado = sin_columnas()\n",
    "except:\n",
    "    raise RuntimeError(\"Tu función produce un error al ejecutarse.\")\n",
    "\n",
    "# Caso 3: no retorna un DataFrame\n",
    "assert type(resultado) == pd.DataFrame, f\"Tu función debe retornar un valor de tipo {pd.DataFrame.__name__}.\"\n",
    "\n",
    "# Caso 4: no ejecuta la función importar_e_indexar\n",
    "assert source.find(\"importar_e_indexar()\") >= 0, \"Tu código no hace referencia a la función importar_e_indexar. Asegurate de ejecutarla en tu código.\"\n",
    "\n",
    "# Caso 5: no ejecuta el método drop de pandas\n",
    "assert source.find(\".drop(\") >= 0, \"Tu código no hace referencia al método drop. Asegurate de ejecutarlo en tu código.\"\n",
    "\n",
    "# Caso 6: retorna el dataframe con la columna 'id'\n",
    "assert \"id\" not in resultado.columns, \"Tu función retorna un DataFrame que incluye la columna 'id'. Esta columna debes convertirla en el index del DataFrame.\"\n",
    "\n",
    "# Caso 7: retorna el dataframe con la columna 'country_name'\n",
    "assert \"country_name\" not in resultado.columns, \"Tu función retorna un DataFrame que incluye la columna 'country_name'.\"\n",
    "\n",
    "# Caso 8: retorna el dataframe con la columna 'grado'\n",
    "assert \"grado\" not in resultado.columns, \"Tu función retorna un DataFrame que incluye la columna 'grado'.\"\n",
    "\n",
    "# Caso 9: retorna el dataframe con la columna 'coima'\n",
    "assert \"coima\" not in resultado.columns, \"Tu función retorna un DataFrame que incluye la columna 'coima'.\"\n",
    "\n",
    "# Caso 10: retorna un dataframe con cantidad de columnas errada\n",
    "assert resultado.shape[1] == 125, \"Tu función retorna un DataFrame con cantidad de columnas errada.\"\n",
    "\n",
    "# Caso 11: devuelve un dataframe cuyas columnas tienen nombre distinto de lo esperado\n",
    "assert [*resultado.columns] == nombre_columnas, \"Tu función retorna un DataFrame con columnas cuyos nombres no coinciden con los de los datos del archivo, sin las columnas country_name, grado y coima.\"\n",
    "\n",
    "# Caso 12: devuelve un dataframe cuyas columnas tienen tipo distinto de lo esperado\n",
    "assert [i.__class__.__name__ for i in resultado.dtypes] == tipo_columnas, \"Tu función retorna un DataFrame con columnas cuyos tipos no coinciden con los de los datos del archivo, sin las columnas country_name, grado y coima.\"\n",
    "\n",
    "# Caso 13: devuelve un dataframe con cantidad de filas errada\n",
    "assert resultado.shape[0] == 230509, \"Tu función retorna un DataFrame con cantidad de filas errada.\"\n",
    "\n",
    "# Caso 14: devuelve un dataframe con indice del mismo tipo que por defecto ('int64')\n",
    "assert resultado.index.dtype.name != 'int64', \"Tu función retorna un DataFrame con índice del mismo tipo que el que se crea por defecto en pandas. Asegurate de estar asignando la columna 'id' como índice.\"\n",
    "\n",
    "# Caso 15: devuelve un dataframe con índice de tipo errado\n",
    "assert resultado.index.dtype.name == 'float64', \"Tu función retorna un DataFrame con índice de tipo distinto del esperado. Asegurate de estar usando la columna 'id' sin editarla.\"\n",
    "\n",
    "# Caso 16: primer o última posicion del índice distintas de lo esperado\n",
    "assert resultado.index[0] == 1000060.0, \"Tu función retorna un DataFrame que es errado por lo menos en la primera posición de su índice\"\n",
    "assert resultado.index[len(resultado.index) - 1] == 17003990.0, \"Tu función retorna un DataFrame que es errado por lo menos en la última posición de su índice\"\n",
    "\n",
    "\n",
    "# Mensaje de felicitaciones\n",
    "print(\"Felicidades, realizaste este ejercicio correctamente.\")"
   ]
  },
  {
   "cell_type": "markdown",
   "metadata": {
    "deletable": false,
    "editable": false,
    "nbgrader": {
     "cell_type": "markdown",
     "checksum": "b4258403c968aada5d930642d348f207",
     "grade": false,
     "grade_id": "ej4-enun-task",
     "locked": true,
     "schema_version": 3,
     "solution": false,
     "task": false
    }
   },
   "source": [
    "### Ejercicio 4\n",
    "\n",
    "Implementa una función llamada `indexar_columnas_numericamente` que no reciba parámetros, tome el `DataFrame` resultante del [Ejercicio 1](#Ejercicio-1) y lo retorne sin el grupo de **columnas** cuya posición (indexada desde 0) sea mayor o igual a 80 y menor o igual a 100.\n",
    "\n",
    "La función debe retornar un `DataFrame`."
   ]
  },
  {
   "cell_type": "code",
   "execution_count": 128,
   "metadata": {
    "deletable": false,
    "nbgrader": {
     "cell_type": "code",
     "checksum": "ab1b934e5066adf602438708d3c79811",
     "grade": false,
     "grade_id": "ej4-sol",
     "locked": false,
     "schema_version": 3,
     "solution": true,
     "task": false
    }
   },
   "outputs": [],
   "source": [
    "def indexar_columnas_numericamente():\n",
    "    df = importar_e_indexar()\n",
    "    df1=df.drop(columns = df.columns[80:101], inplace = False)\n",
    "    \n",
    "    return df1"
   ]
  },
  {
   "cell_type": "code",
   "execution_count": 129,
   "metadata": {
    "deletable": false,
    "editable": false,
    "nbgrader": {
     "cell_type": "code",
     "checksum": "acd53a33f420be4f8d2bc9805edb3fbb",
     "grade": true,
     "grade_id": "ej4-test",
     "locked": true,
     "points": 1,
     "schema_version": 3,
     "solution": false,
     "task": false
    }
   },
   "outputs": [
    {
     "name": "stdout",
     "output_type": "stream",
     "text": [
      "Felicidades, realizaste este ejercicio correctamente.\n"
     ]
    }
   ],
   "source": [
    "## AUTO-CALIFICADOR\n",
    "\n",
    "# Base variables\n",
    "import inspect\n",
    "\n",
    "nombre_columnas = ['country_code', 'country_name', 'weight', 'weight_pop', 'pop', 'recordeddate', 'genero', 'edad', 'educ', 'estcivil', 'nrhogar', 'nrhogar_antes', 'hayninhos', 'ninos_5', 'nrninhos', 'matriculados', 'esc_publica', 'grado', 'haymayores', 'diasmercado', 'lugarmercado', 'comprotodo', 'nocompra_pan', 'nocompra_vegetal', 'nocompra_carne', 'nocompra_envasados', 'nocompra_bebidas', 'nocompra_limpieza', 'nocompra_medicinas', 'nocompra_otro', 'nrnegocios', 'esperarfila', 'subaprecios', 'hambre', 'menos_saludable', 'vivienda', 'probvivienda', 'probvivienda_prox', 'ayuda_alquiler', 'sufialimento', 'sufirecursos', 'gasto_emergencia', 'monto_gasto', 'pre_cash', 'new_cash', 'coima', 'tiene_banco', 'tiene_tarjdebito', 'tiene_segsaludpub', 'tiene_segsaludpriv', 'recibeprestamos', 'darprestamos', 'remesas_enero', 'remesas_origen', 'remesas_persona', 'recibio_remesas', 'lm_perdioempleo', 'lm_cerronegocio_gob', 'lm_cerronegocio_dem', 'lm_asistmedica', 'lm_perdioingrarriendo', 'lm_dejoasistencia', 'lm_freq', 'recibio_ayudaemp', 'compromiso_futurotrabajo', 'empleo_formal', 'actividad_empleado', 'actividad_negocio', 'actividad_estudio', 'trabajocasa', 'diastrabajo', 'horastrabajo', 'sector', 'redujo_ingreso', 'ingreso_jan2020', 'ingreso_apr2020', 'retorno_ingreso', 'sintoma_ninguno', 'sintoma_garganta', 'sintoma_gripe', 'recom_amigos', 'recom_familiares', 'recom_ejercicio', 'recom_iglesia', 'haceds_hogar', 'haceds_vecinos', 'haceds_jovenes', 'haceds_mayores', 'haceds_otropais', 'haceds_emplmercados', 'medios_noti_redessociales', 'medios_noti_chat', 'medios_noti_periodicos', 'medios_noti_tv', 'medios_noti_radio', 'medios_covid_redessociales', 'medios_covid_chat', 'medios_covid_periodicos', 'medios_covid_tv', 'medios_covid_radio', 'nps_medio_redessoc', 'nps_medio_sms', 'nps_medio_periodico', 'nps_medio_tv', 'nps_medio_radio', 'nps_medio_website', 'nps_medio_otro']\n",
    "tipo_columnas = ['CategoricalDtype', 'dtype[object_]', 'dtype[float32]', 'dtype[float32]', 'dtype[float64]', 'dtype[object_]', 'CategoricalDtype', 'dtype[int16]', 'CategoricalDtype', 'CategoricalDtype', 'dtype[int8]', 'dtype[int8]', 'CategoricalDtype', 'CategoricalDtype', 'dtype[float64]', 'dtype[float64]', 'CategoricalDtype', 'dtype[float64]', 'CategoricalDtype', 'CategoricalDtype', 'CategoricalDtype', 'CategoricalDtype', 'CategoricalDtype', 'CategoricalDtype', 'CategoricalDtype', 'CategoricalDtype', 'CategoricalDtype', 'CategoricalDtype', 'CategoricalDtype', 'CategoricalDtype', 'CategoricalDtype', 'CategoricalDtype', 'CategoricalDtype', 'CategoricalDtype', 'CategoricalDtype', 'CategoricalDtype', 'CategoricalDtype', 'CategoricalDtype', 'CategoricalDtype', 'CategoricalDtype', 'CategoricalDtype', 'CategoricalDtype', 'dtype[float32]', 'CategoricalDtype', 'CategoricalDtype', 'CategoricalDtype', 'CategoricalDtype', 'CategoricalDtype', 'CategoricalDtype', 'CategoricalDtype', 'CategoricalDtype', 'CategoricalDtype', 'CategoricalDtype', 'dtype[float64]', 'CategoricalDtype', 'CategoricalDtype', 'CategoricalDtype', 'CategoricalDtype', 'CategoricalDtype', 'CategoricalDtype', 'CategoricalDtype', 'CategoricalDtype', 'dtype[float64]', 'CategoricalDtype', 'CategoricalDtype', 'CategoricalDtype', 'CategoricalDtype', 'CategoricalDtype', 'CategoricalDtype', 'CategoricalDtype', 'dtype[int8]', 'dtype[int8]', 'CategoricalDtype', 'CategoricalDtype', 'CategoricalDtype', 'CategoricalDtype', 'CategoricalDtype', 'CategoricalDtype', 'CategoricalDtype', 'CategoricalDtype', 'CategoricalDtype', 'CategoricalDtype', 'CategoricalDtype', 'CategoricalDtype', 'CategoricalDtype', 'CategoricalDtype', 'CategoricalDtype', 'CategoricalDtype', 'CategoricalDtype', 'CategoricalDtype', 'CategoricalDtype', 'CategoricalDtype', 'CategoricalDtype', 'CategoricalDtype', 'CategoricalDtype', 'CategoricalDtype', 'CategoricalDtype', 'CategoricalDtype', 'CategoricalDtype', 'CategoricalDtype', 'CategoricalDtype', 'CategoricalDtype', 'CategoricalDtype', 'CategoricalDtype', 'CategoricalDtype', 'CategoricalDtype', 'CategoricalDtype']\n",
    "\n",
    "# Caso 1: no existe la función.\n",
    "try:\n",
    "    source = inspect.getsource(indexar_columnas_numericamente)\n",
    "    assert type(indexar_columnas_numericamente) == type(lambda:None)\n",
    "except:\n",
    "    raise NotImplementedError(\"No existe una función llamada indexar_columnas_numericamente.\",)\n",
    "    \n",
    "# Caso 2: la función es interrumpida por errores durante su ejecución.\n",
    "try:\n",
    "    resultado = indexar_columnas_numericamente()\n",
    "except:\n",
    "    raise RuntimeError(\"Tu función produce un error al ejecutarse.\")\n",
    "\n",
    "# Caso 3: no retorna un DataFrame\n",
    "assert type(resultado) == pd.DataFrame, f\"Tu función debe retornar un valor de tipo {pd.DataFrame.__name__}.\"\n",
    "\n",
    "# Caso 4: no ejecuta la función importar_e_indexar\n",
    "assert source.find(\"importar_e_indexar()\") >= 0, \"Tu código no hace referencia a la función importar_e_indexar. Asegurate de ejecutarla en tu código.\"\n",
    "\n",
    "# Caso 5: retorna el dataframe con la columna 'id'\n",
    "assert \"id\" not in resultado.columns, \"Tu función retorna un DataFrame que incluye la columna 'id'. Esta columna debes convertirla en el index del DataFrame.\"\n",
    "\n",
    "# Caso 6: retorna un dataframe con cantidad de columnas errada\n",
    "assert resultado.shape[1] == 107, \"Tu función retorna un DataFrame con cantidad de columnas errada.\"\n",
    "\n",
    "# Caso 7: devuelve un dataframe cuyas columnas tienen nombre distinto de lo esperado\n",
    "assert [*resultado.columns] == nombre_columnas, \"Tu función retorna un DataFrame con columnas cuyos nombres no coinciden con los de los datos del archivo. Asegurate de estar filtrando las columnas indicadas.\"\n",
    "\n",
    "# Caso 8: devuelve un dataframe cuyas columnas tienen tipo distinto de lo esperado\n",
    "assert [i.__class__.__name__ for i in resultado.dtypes] == tipo_columnas, \"Tu función retorna un DataFrame con columnas cuyos tipos no coinciden con los de los datos del archivo. Asegurate de estar filtrando las columnas indicadas.\"\n",
    "\n",
    "# Caso 9: devuelve un dataframe con cantidad de filas errada\n",
    "assert resultado.shape[0] == 230509, \"Tu función retorna un DataFrame con cantidad de filas errada.\"\n",
    "\n",
    "# Caso 10: devuelve un dataframe con indice del mismo tipo que por defecto ('int64')\n",
    "assert resultado.index.dtype.name != 'int64', \"Tu función retorna un DataFrame con índice del mismo tipo que el que se crea por defecto en pandas. Asegurate de estar asignando la columna 'id' como índice.\"\n",
    "\n",
    "# Caso 11: devuelve un dataframe con índice de tipo errado\n",
    "assert resultado.index.dtype.name == 'float64', \"Tu función retorna un DataFrame con índice de tipo distinto del esperado. Asegurate de estar usando la columna 'id' sin editarla.\"\n",
    "\n",
    "# Caso 12: primer o última posicion del índice distintas de lo esperado\n",
    "assert resultado.index[0] == 1000060.0, \"Tu función retorna un DataFrame que es errado por lo menos en la primera posición de su índice\"\n",
    "assert resultado.index[len(resultado.index) - 1] == 17003990.0, \"Tu función retorna un DataFrame que es errado por lo en menos la última posición de su índice\"\n",
    "\n",
    "\n",
    "# Mensaje de felicitaciones\n",
    "print(\"Felicidades, realizaste este ejercicio correctamente.\")"
   ]
  },
  {
   "cell_type": "markdown",
   "metadata": {
    "deletable": false,
    "editable": false,
    "nbgrader": {
     "cell_type": "markdown",
     "checksum": "1a03b1dcbfb7c4a3b011180149af760d",
     "grade": false,
     "grade_id": "ej5-enun-task",
     "locked": true,
     "schema_version": 3,
     "solution": false,
     "task": false
    }
   },
   "source": [
    "### Ejercicio 5\n",
    "\n",
    "A raiz de la pandemia, los gobiernos de latinoamérica desean monitorear a aquellas personas que salen de sus casas a trabajar y conviven con personas mayores de 60 años.\n",
    "\n",
    "Implementa una función llamada `trabajo_afuera_y_mayores` que no reciba parámetros, tome el `DataFrame` resultante del [Ejercicio 1](#Ejercicio-1) y lo retorne únicamente con los registros que en la columna `\"trabajocasa\"` tengan el valor `\"Fuera de su casa\"` y que en la columna `\"haymayores\"` tengan el valor `\"si\"`.\n",
    "\n",
    "La función debe retornar un `DataFrame`."
   ]
  },
  {
   "cell_type": "code",
   "execution_count": 133,
   "metadata": {
    "deletable": false,
    "nbgrader": {
     "cell_type": "code",
     "checksum": "b43106e57f785bab57014974dcebd285",
     "grade": false,
     "grade_id": "ej5-sol",
     "locked": false,
     "schema_version": 3,
     "solution": true,
     "task": false
    }
   },
   "outputs": [],
   "source": [
    "def trabajo_afuera_y_mayores():\n",
    "    df = importar_e_indexar()\n",
    "    df1= df['trabajocasa'] == \"Fuera de su casa\"\n",
    "    filtered_df = df[df1]\n",
    "    df2= filtered_df['haymayores'] == \"si\"\n",
    "    filtered_df1 = filtered_df[df2]\n",
    "    \n",
    "    return filtered_df1 "
   ]
  },
  {
   "cell_type": "code",
   "execution_count": 134,
   "metadata": {
    "deletable": false,
    "editable": false,
    "nbgrader": {
     "cell_type": "code",
     "checksum": "cedb96db759a82fe49285312612df1fb",
     "grade": true,
     "grade_id": "ej5-test",
     "locked": true,
     "points": 1,
     "schema_version": 3,
     "solution": false,
     "task": false
    }
   },
   "outputs": [
    {
     "name": "stdout",
     "output_type": "stream",
     "text": [
      "Felicidades, realizaste este ejercicio correctamente.\n"
     ]
    }
   ],
   "source": [
    "## AUTO-CALIFICADOR\n",
    "\n",
    "# Base variables\n",
    "import inspect\n",
    "\n",
    "nombre_columnas = ['country_code', 'country_name', 'weight', 'weight_pop', 'pop', 'recordeddate', 'genero', 'edad', 'educ', 'estcivil', 'nrhogar', 'nrhogar_antes', 'hayninhos', 'ninos_5', 'nrninhos', 'matriculados', 'esc_publica', 'grado', 'haymayores', 'diasmercado', 'lugarmercado', 'comprotodo', 'nocompra_pan', 'nocompra_vegetal', 'nocompra_carne', 'nocompra_envasados', 'nocompra_bebidas', 'nocompra_limpieza', 'nocompra_medicinas', 'nocompra_otro', 'nrnegocios', 'esperarfila', 'subaprecios', 'hambre', 'menos_saludable', 'vivienda', 'probvivienda', 'probvivienda_prox', 'ayuda_alquiler', 'sufialimento', 'sufirecursos', 'gasto_emergencia', 'monto_gasto', 'pre_cash', 'new_cash', 'coima', 'tiene_banco', 'tiene_tarjdebito', 'tiene_segsaludpub', 'tiene_segsaludpriv', 'recibeprestamos', 'darprestamos', 'remesas_enero', 'remesas_origen', 'remesas_persona', 'recibio_remesas', 'lm_perdioempleo', 'lm_cerronegocio_gob', 'lm_cerronegocio_dem', 'lm_asistmedica', 'lm_perdioingrarriendo', 'lm_dejoasistencia', 'lm_freq', 'recibio_ayudaemp', 'compromiso_futurotrabajo', 'empleo_formal', 'actividad_empleado', 'actividad_negocio', 'actividad_estudio', 'trabajocasa', 'diastrabajo', 'horastrabajo', 'sector', 'redujo_ingreso', 'ingreso_jan2020', 'ingreso_apr2020', 'retorno_ingreso', 'sintoma_ninguno', 'sintoma_garganta', 'sintoma_gripe', 'sintoma_sarpullido', 'sintoma_fiebre', 'sintoma_tos', 'conoce_sintomas', 'infectados_sinsintomas', 'sinsintomas_contagiar', 'visito_trabajo', 'visito_hospital', 'visito_mercado', 'visito_banco', 'visito_amigos', 'visito_familiares', 'visito_ejercitar', 'visito_iglesia', 'comotransmite', 'sabe_comotransmite', 'distsoc', 'recom_trabajo', 'recom_hospital', 'recom_mercado', 'recom_banco', 'recom_amigos', 'recom_familiares', 'recom_ejercicio', 'recom_iglesia', 'haceds_hogar', 'haceds_vecinos', 'haceds_jovenes', 'haceds_mayores', 'haceds_otropais', 'haceds_emplmercados', 'medios_noti_redessociales', 'medios_noti_chat', 'medios_noti_periodicos', 'medios_noti_tv', 'medios_noti_radio', 'medios_covid_redessociales', 'medios_covid_chat', 'medios_covid_periodicos', 'medios_covid_tv', 'medios_covid_radio', 'nps_medio_redessoc', 'nps_medio_sms', 'nps_medio_periodico', 'nps_medio_tv', 'nps_medio_radio', 'nps_medio_website', 'nps_medio_otro']\n",
    "tipo_columnas = ['CategoricalDtype', 'dtype[object_]', 'dtype[float32]', 'dtype[float32]', 'dtype[float64]', 'dtype[object_]', 'CategoricalDtype', 'dtype[int16]', 'CategoricalDtype', 'CategoricalDtype', 'dtype[int8]', 'dtype[int8]', 'CategoricalDtype', 'CategoricalDtype', 'dtype[float64]', 'dtype[float64]', 'CategoricalDtype', 'dtype[float64]', 'CategoricalDtype', 'CategoricalDtype', 'CategoricalDtype', 'CategoricalDtype', 'CategoricalDtype', 'CategoricalDtype', 'CategoricalDtype', 'CategoricalDtype', 'CategoricalDtype', 'CategoricalDtype', 'CategoricalDtype', 'CategoricalDtype', 'CategoricalDtype', 'CategoricalDtype', 'CategoricalDtype', 'CategoricalDtype', 'CategoricalDtype', 'CategoricalDtype', 'CategoricalDtype', 'CategoricalDtype', 'CategoricalDtype', 'CategoricalDtype', 'CategoricalDtype', 'CategoricalDtype', 'dtype[float32]', 'CategoricalDtype', 'CategoricalDtype', 'CategoricalDtype', 'CategoricalDtype', 'CategoricalDtype', 'CategoricalDtype', 'CategoricalDtype', 'CategoricalDtype', 'CategoricalDtype', 'CategoricalDtype', 'dtype[float64]', 'CategoricalDtype', 'CategoricalDtype', 'CategoricalDtype', 'CategoricalDtype', 'CategoricalDtype', 'CategoricalDtype', 'CategoricalDtype', 'CategoricalDtype', 'dtype[float64]', 'CategoricalDtype', 'CategoricalDtype', 'CategoricalDtype', 'CategoricalDtype', 'CategoricalDtype', 'CategoricalDtype', 'CategoricalDtype', 'dtype[int8]', 'dtype[int8]', 'CategoricalDtype', 'CategoricalDtype', 'CategoricalDtype', 'CategoricalDtype', 'CategoricalDtype', 'CategoricalDtype', 'CategoricalDtype', 'CategoricalDtype', 'CategoricalDtype', 'CategoricalDtype', 'CategoricalDtype', 'dtype[float32]', 'CategoricalDtype', 'CategoricalDtype', 'CategoricalDtype', 'CategoricalDtype', 'CategoricalDtype', 'CategoricalDtype', 'CategoricalDtype', 'CategoricalDtype', 'CategoricalDtype', 'CategoricalDtype', 'dtype[object_]', 'CategoricalDtype', 'CategoricalDtype', 'CategoricalDtype', 'CategoricalDtype', 'CategoricalDtype', 'CategoricalDtype', 'CategoricalDtype', 'CategoricalDtype', 'CategoricalDtype', 'CategoricalDtype', 'CategoricalDtype', 'CategoricalDtype', 'CategoricalDtype', 'CategoricalDtype', 'CategoricalDtype', 'CategoricalDtype', 'CategoricalDtype', 'CategoricalDtype', 'CategoricalDtype', 'CategoricalDtype', 'CategoricalDtype', 'CategoricalDtype', 'CategoricalDtype', 'CategoricalDtype', 'CategoricalDtype', 'CategoricalDtype', 'CategoricalDtype', 'CategoricalDtype', 'CategoricalDtype', 'CategoricalDtype', 'CategoricalDtype', 'CategoricalDtype', 'CategoricalDtype']\n",
    "\n",
    "# Caso 1: no existe la función.\n",
    "try:\n",
    "    source = inspect.getsource(trabajo_afuera_y_mayores)\n",
    "    assert type(trabajo_afuera_y_mayores) == type(lambda:None)\n",
    "except:\n",
    "    raise NotImplementedError(\"No existe una función llamada trabajo_afuera_y_mayores.\",)\n",
    "    \n",
    "# Caso 2: la función es interrumpida por errores durante su ejecución.\n",
    "try:\n",
    "    resultado = trabajo_afuera_y_mayores()\n",
    "except:\n",
    "    raise RuntimeError(\"Tu función produce un error al ejecutarse.\")\n",
    "\n",
    "# Caso 3: no retorna un DataFrame\n",
    "assert type(resultado) == pd.DataFrame, f\"Tu función debe retornar un valor de tipo {pd.DataFrame.__name__}.\"\n",
    "\n",
    "# Caso 4: no ejecuta la función importar_e_indexar\n",
    "assert source.find(\"importar_e_indexar()\") >= 0, \"Tu código no hace referencia a la función importar_e_indexar. Asegurate de ejecutarla en tu código.\"\n",
    "\n",
    "# Caso 5: retorna el dataframe con la columna 'id'\n",
    "assert \"id\" not in resultado.columns, \"Tu función retorna un DataFrame que incluye la columna 'id'. Esta columna debes haberla convertido en el index sencillo del DataFrame.\"\n",
    "\n",
    "# Caso 6: retorna un dataframe con cantidad de columnas errada\n",
    "assert resultado.shape[1] == 128, \"Tu función retorna un DataFrame con cantidad de columnas errada.\"\n",
    "\n",
    "# Caso 7: devuelve un dataframe cuyas columnas tienen nombre distinto de lo esperado\n",
    "assert [*resultado.columns] == nombre_columnas, \"Tu función retorna un DataFrame con columnas cuyos nombres no coinciden con los de los datos del archivo.\"\n",
    "\n",
    "# Caso 8: devuelve un dataframe cuyas columnas tienen tipo distinto de lo esperado\n",
    "assert [i.__class__.__name__ for i in resultado.dtypes] == tipo_columnas, \"Tu función retorna un DataFrame con columnas cuyos tipos no coinciden con los de los datos del archivo.\"\n",
    "\n",
    "# Caso 9: devuelve un dataframe con cantidad de filas errada\n",
    "assert resultado.shape[0] == 14311, \"Tu función retorna un DataFrame con cantidad de filas errada.\"\n",
    "\n",
    "# Caso 10: devuelve un dataframe con indice del mismo tipo que por defecto ('int64')\n",
    "assert resultado.index.dtype.name != 'int64', \"Tu función retorna un DataFrame con índice del mismo tipo que el que se crea por defecto en pandas. Asegurate de estar asignando la columna 'id' como índice.\"\n",
    "\n",
    "# Caso 11: devuelve un dataframe con índice de tipo errado\n",
    "assert resultado.index.dtype.name == 'float64', \"Tu función retorna un DataFrame con índice de tipo distinto del esperado. Asegurate de estar usando la columna 'id' sin editarla.\"\n",
    "\n",
    "# Caso 12: primera o última posicion del índice distintas de lo esperado\n",
    "assert resultado.index[0] == 1000019.0, \"Tu función retorna un DataFrame que es errado por lo menos en la primera posición de su índice\"\n",
    "assert resultado.index[len(resultado.index) - 1] == 17020778.0, \"Tu función retorna un DataFrame que es errado por lo menos en la última posición de su índice\"\n",
    "\n",
    "\n",
    "# Mensaje de felicitaciones\n",
    "print(\"Felicidades, realizaste este ejercicio correctamente.\")"
   ]
  },
  {
   "cell_type": "markdown",
   "metadata": {
    "deletable": false,
    "editable": false,
    "nbgrader": {
     "cell_type": "markdown",
     "checksum": "d12b16c9a90eede0b87d1a8d1433987f",
     "grade": false,
     "grade_id": "ej6-enun-task",
     "locked": true,
     "schema_version": 3,
     "solution": false,
     "task": false
    }
   },
   "source": [
    "### Ejercicio 6\n",
    "\n",
    "Implementa una función llamada `hogares_decrecen` que no reciba parámetros, tome el `DataFrame` resultante del [Ejercicio 1](#Ejercicio-1) y retorne un `DataFrame` únicamente con las columnas `\"nrhogar\"`, `\"nrhogar_antes\"` y una columna adicional llamada `\"hogar_decrecio\"` que para cada registro tome un valor de:\n",
    "\n",
    "* `1`, si el valor numérico de la columna `\"nrhogar\"` es menor que el valor de la columna `\"nrhogar_antes\"`;\n",
    "\n",
    "* `0`, de lo contrario.\n",
    "\n",
    "La función debe retornar un `DataFrame`."
   ]
  },
  {
   "cell_type": "code",
   "execution_count": 147,
   "metadata": {},
   "outputs": [
    {
     "name": "stderr",
     "output_type": "stream",
     "text": [
      "C:\\Users\\Sara\\AppData\\Local\\Temp/ipykernel_12492/1482003618.py:4: SettingWithCopyWarning: \n",
      "A value is trying to be set on a copy of a slice from a DataFrame.\n",
      "Try using .loc[row_indexer,col_indexer] = value instead\n",
      "\n",
      "See the caveats in the documentation: https://pandas.pydata.org/pandas-docs/stable/user_guide/indexing.html#returning-a-view-versus-a-copy\n",
      "  df1[\"Results\"] = df1.apply(lambda x: 1 if x['nrhogar'] < x['nrhogar_antes'] else 0, axis=1)\n"
     ]
    },
    {
     "data": {
      "text/html": [
       "<div>\n",
       "<style scoped>\n",
       "    .dataframe tbody tr th:only-of-type {\n",
       "        vertical-align: middle;\n",
       "    }\n",
       "\n",
       "    .dataframe tbody tr th {\n",
       "        vertical-align: top;\n",
       "    }\n",
       "\n",
       "    .dataframe thead th {\n",
       "        text-align: right;\n",
       "    }\n",
       "</style>\n",
       "<table border=\"1\" class=\"dataframe\">\n",
       "  <thead>\n",
       "    <tr style=\"text-align: right;\">\n",
       "      <th></th>\n",
       "      <th>nrhogar</th>\n",
       "      <th>nrhogar_antes</th>\n",
       "      <th>Results</th>\n",
       "    </tr>\n",
       "    <tr>\n",
       "      <th>id</th>\n",
       "      <th></th>\n",
       "      <th></th>\n",
       "      <th></th>\n",
       "    </tr>\n",
       "  </thead>\n",
       "  <tbody>\n",
       "    <tr>\n",
       "      <th>1000060.0</th>\n",
       "      <td>5</td>\n",
       "      <td>5</td>\n",
       "      <td>0</td>\n",
       "    </tr>\n",
       "    <tr>\n",
       "      <th>1000734.0</th>\n",
       "      <td>6</td>\n",
       "      <td>6</td>\n",
       "      <td>0</td>\n",
       "    </tr>\n",
       "    <tr>\n",
       "      <th>1000057.0</th>\n",
       "      <td>5</td>\n",
       "      <td>-99</td>\n",
       "      <td>0</td>\n",
       "    </tr>\n",
       "    <tr>\n",
       "      <th>1000120.0</th>\n",
       "      <td>4</td>\n",
       "      <td>4</td>\n",
       "      <td>0</td>\n",
       "    </tr>\n",
       "    <tr>\n",
       "      <th>1000235.0</th>\n",
       "      <td>5</td>\n",
       "      <td>5</td>\n",
       "      <td>0</td>\n",
       "    </tr>\n",
       "    <tr>\n",
       "      <th>...</th>\n",
       "      <td>...</td>\n",
       "      <td>...</td>\n",
       "      <td>...</td>\n",
       "    </tr>\n",
       "    <tr>\n",
       "      <th>17001614.0</th>\n",
       "      <td>2</td>\n",
       "      <td>2</td>\n",
       "      <td>0</td>\n",
       "    </tr>\n",
       "    <tr>\n",
       "      <th>17017448.0</th>\n",
       "      <td>6</td>\n",
       "      <td>-99</td>\n",
       "      <td>0</td>\n",
       "    </tr>\n",
       "    <tr>\n",
       "      <th>17013032.0</th>\n",
       "      <td>1</td>\n",
       "      <td>1</td>\n",
       "      <td>0</td>\n",
       "    </tr>\n",
       "    <tr>\n",
       "      <th>17014760.0</th>\n",
       "      <td>3</td>\n",
       "      <td>3</td>\n",
       "      <td>0</td>\n",
       "    </tr>\n",
       "    <tr>\n",
       "      <th>17003990.0</th>\n",
       "      <td>1</td>\n",
       "      <td>1</td>\n",
       "      <td>0</td>\n",
       "    </tr>\n",
       "  </tbody>\n",
       "</table>\n",
       "<p>230509 rows × 3 columns</p>\n",
       "</div>"
      ],
      "text/plain": [
       "            nrhogar  nrhogar_antes  Results\n",
       "id                                         \n",
       "1000060.0         5              5        0\n",
       "1000734.0         6              6        0\n",
       "1000057.0         5            -99        0\n",
       "1000120.0         4              4        0\n",
       "1000235.0         5              5        0\n",
       "...             ...            ...      ...\n",
       "17001614.0        2              2        0\n",
       "17017448.0        6            -99        0\n",
       "17013032.0        1              1        0\n",
       "17014760.0        3              3        0\n",
       "17003990.0        1              1        0\n",
       "\n",
       "[230509 rows x 3 columns]"
      ]
     },
     "execution_count": 147,
     "metadata": {},
     "output_type": "execute_result"
    }
   ],
   "source": [
    "df = importar_e_indexar()\n",
    "df1 = df[['nrhogar', 'nrhogar_antes']]\n",
    "#df1['hogar_decrecio'] = df1.iloc[:, 1:].eq(df1['nrhogar'] < df1['nrhogar_antes']).any(axis=1)\n",
    "df1['hogar_decrecio'] = df1.apply(lambda x: 1 if x['nrhogar'] < x['nrhogar_antes'] else 0, axis=1)\n",
    "df1    "
   ]
  },
  {
   "cell_type": "code",
   "execution_count": 150,
   "metadata": {
    "deletable": false,
    "nbgrader": {
     "cell_type": "code",
     "checksum": "f05f66fe96721863fcd8f5273044e584",
     "grade": false,
     "grade_id": "ej6-sol",
     "locked": false,
     "schema_version": 3,
     "solution": true,
     "task": false
    }
   },
   "outputs": [],
   "source": [
    "def hogares_decrecen():\n",
    "    df = importar_e_indexar()\n",
    "    df1 = df[['nrhogar', 'nrhogar_antes']]\n",
    "    df1['hogar_decrecio'] = df1.apply(lambda x: 1 if x['nrhogar'] < x['nrhogar_antes'] else 0, axis=1)\n",
    "    \n",
    "    return df1 "
   ]
  },
  {
   "cell_type": "code",
   "execution_count": 151,
   "metadata": {
    "deletable": false,
    "editable": false,
    "nbgrader": {
     "cell_type": "code",
     "checksum": "6be36a910849581cd11f5907dfe3f3bd",
     "grade": true,
     "grade_id": "ej6-test",
     "locked": true,
     "points": 1,
     "schema_version": 3,
     "solution": false,
     "task": false
    }
   },
   "outputs": [
    {
     "name": "stdout",
     "output_type": "stream",
     "text": [
      "Felicidades, realizaste este ejercicio correctamente.\n"
     ]
    },
    {
     "name": "stderr",
     "output_type": "stream",
     "text": [
      "C:\\Users\\Sara\\AppData\\Local\\Temp/ipykernel_12492/1528477596.py:4: SettingWithCopyWarning: \n",
      "A value is trying to be set on a copy of a slice from a DataFrame.\n",
      "Try using .loc[row_indexer,col_indexer] = value instead\n",
      "\n",
      "See the caveats in the documentation: https://pandas.pydata.org/pandas-docs/stable/user_guide/indexing.html#returning-a-view-versus-a-copy\n",
      "  df1['hogar_decrecio'] = df1.apply(lambda x: 1 if x['nrhogar'] < x['nrhogar_antes'] else 0, axis=1)\n"
     ]
    }
   ],
   "source": [
    "## AUTO-CALIFICADOR\n",
    "\n",
    "# Base variables\n",
    "import inspect\n",
    "\n",
    "nombre_columnas = ['nrhogar','nrhogar_antes','hogar_decrecio']\n",
    "tipo_columnas = ['int', 'int', 'int']\n",
    "\n",
    "# Caso 1: no existe la función.\n",
    "try:\n",
    "    source = inspect.getsource(hogares_decrecen)\n",
    "    assert type(hogares_decrecen) == type(lambda:None)\n",
    "except:\n",
    "    raise NotImplementedError(\"No existe una función llamada hogares_decrecen.\",)\n",
    "    \n",
    "# Caso 2: la función es interrumpida por errores durante su ejecución.\n",
    "try:\n",
    "    resultado = hogares_decrecen()\n",
    "except:\n",
    "    raise RuntimeError(\"Tu función produce un error al ejecutarse.\")\n",
    "\n",
    "# Caso 3: no retorna un DataFrame\n",
    "assert type(resultado) == pd.DataFrame, f\"Tu función debe retornar un valor de tipo {pd.DataFrame.__name__}.\"\n",
    "\n",
    "# Caso 4: no ejecuta la función importar_e_indexar\n",
    "assert source.find(\"importar_e_indexar()\") >= 0, \"Tu código no hace referencia a la función importar_e_indexar. Asegurate de ejecutarla en tu código.\"\n",
    "\n",
    "# Caso 5: retorna el dataframe con la columna 'id'\n",
    "assert \"id\" not in resultado.columns, \"Tu función retorna un DataFrame que incluye la columna 'id'. Esta columna debes convertirla en el index del DataFrame.\"\n",
    "\n",
    "# Caso 6: retorna un dataframe con cantidad de columnas errada\n",
    "assert resultado.shape[1] == 3, \"Tu función retorna un DataFrame con cantidad de columnas errada.\"\n",
    "\n",
    "# Caso 7: devuelve un dataframe cuyas columnas tienen nombre distinto de lo esperado\n",
    "assert [*resultado.columns] == nombre_columnas, \"Tu función retorna un DataFrame con columnas cuyos nombres no son nrhogar, nrhogar_antes y hogar_decrecio (en ese orden).\"\n",
    "\n",
    "# Caso 8: devuelve un dataframe cuyas columnas tienen tipo distinto de lo esperado\n",
    "assert [i.name[0:3] for i in resultado.dtypes] == tipo_columnas, \"Tu función retorna un DataFrame con columnas cuyos tipos no coinciden con los esperados. Asegurate de registrar los 0 y 1 como números enteros.\"\n",
    "\n",
    "# Caso 9: devuelve un dataframe con cantidad de filas errada\n",
    "assert resultado.shape[0] == 230509, \"Tu función retorna un DataFrame con cantidad de filas errada.\"\n",
    "\n",
    "# Caso 10: devuelve un dataframe con indice del mismo tipo que por defecto ('int64')\n",
    "assert resultado.index.dtype.name != 'int64', \"Tu función retorna un DataFrame con índice del mismo tipo que el que se crea por defecto en pandas. Asegurate de estar asignando la columna 'id' como índice.\"\n",
    "\n",
    "# Caso 11: devuelve un dataframe con índice de tipo errado\n",
    "assert resultado.index.dtype.name == 'float64', \"Tu función retorna un DataFrame con índice de tipo distinto del esperado. Asegurate de estar usando la columna 'id' sin editarla.\"\n",
    "\n",
    "# Caso 12: primer o última posicion del índice distintas de lo esperado\n",
    "assert resultado.index[0] == 1000060.0, \"Tu función retorna un DataFrame que es errado por lo menos en la primera posición de su índice\"\n",
    "assert resultado.index[len(resultado.index) - 1] == 17003990.0, \"Tu función retorna un DataFrame que es errado por lo menos en la última posición de su índice\"\n",
    "\n",
    "# Caso 13: asigna más de dos valores únicos a la columna hogar_decrecio\n",
    "assert len(resultado[\"hogar_decrecio\"].unique()) == 2, \"Tu función retorna un DataFrame que que en la columna hogar_decrecio incluye más de dos valores únicos. Recuerda que esta columna solo debe incluir los números enteros 0 y 1.\"\n",
    "\n",
    "# Caso 14: no asigna 0 y 1 como únicos valores a la columna hogar_decrecio\n",
    "assert 0 in resultado[\"hogar_decrecio\"].unique() and 1 in resultado[\"hogar_decrecio\"].unique(), \"Tu función retorna un DataFrame que que en la columna hogar_decrecio incluye valores distintos de los números enteros 0 y 1.\"\n",
    "\n",
    "# Caso 15: asigna mal el valor binario.\n",
    "assert sum(resultado[\"hogar_decrecio\"]) == 19908, \"Tu función retorna un DataFrame que que en la columna hogar_decrecio asigna de manera errada los valores 0 y 1.\"\n",
    "\n",
    "\n",
    "# Mensaje de felicitaciones\n",
    "print(\"Felicidades, realizaste este ejercicio correctamente.\")"
   ]
  },
  {
   "cell_type": "markdown",
   "metadata": {
    "deletable": false,
    "editable": false,
    "nbgrader": {
     "cell_type": "markdown",
     "checksum": "d1973f4daf8247790372f1ef7b2f725e",
     "grade": false,
     "grade_id": "refs",
     "locked": true,
     "schema_version": 3,
     "solution": false,
     "task": false
    }
   },
   "source": [
    "## Referencias\n",
    "\n",
    "BID (2020). Encuesta Coronavirus BID/Cornell. Recuperado el 11 de febrero de 2020 de: https://data.iadb.org/DataCatalog/Dataset#DataCatalogID=11319/28452"
   ]
  },
  {
   "cell_type": "markdown",
   "metadata": {
    "deletable": false,
    "editable": false,
    "nbgrader": {
     "cell_type": "markdown",
     "checksum": "5aff895a98a269f9a425808568348187",
     "grade": false,
     "grade_id": "creds",
     "locked": true,
     "schema_version": 3,
     "solution": false,
     "task": false
    }
   },
   "source": [
    "## Créditos\n",
    "\n",
    "**Autor(es)**: Jorge Esteban Camargo Forero, Alejandro Mantilla Redondo, Diego Alejandro Cely Gómez\n",
    "\n",
    "**Fecha última actualización:** 10/09/2021"
   ]
  }
 ],
 "metadata": {
  "kernelspec": {
   "display_name": "Python 3 (ipykernel)",
   "language": "python",
   "name": "python3"
  },
  "language_info": {
   "codemirror_mode": {
    "name": "ipython",
    "version": 3
   },
   "file_extension": ".py",
   "mimetype": "text/x-python",
   "name": "python",
   "nbconvert_exporter": "python",
   "pygments_lexer": "ipython3",
   "version": "3.9.7"
  }
 },
 "nbformat": 4,
 "nbformat_minor": 2
}
