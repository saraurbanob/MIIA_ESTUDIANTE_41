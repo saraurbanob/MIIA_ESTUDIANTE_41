{
 "cells": [
  {
   "cell_type": "markdown",
   "metadata": {
    "deletable": false,
    "editable": false,
    "nbgrader": {
     "cell_type": "markdown",
     "checksum": "0cd7ad929261440d153515afd2490828",
     "grade": false,
     "grade_id": "cell-527644fb96adfa99",
     "locked": true,
     "schema_version": 3,
     "solution": false,
     "task": false
    }
   },
   "source": [
    "<img src=\"Archivos/miad4.png\" width=800x>\n",
    "\n",
    "## Interactividad usando `panel`\n",
    "\n",
    "En este taller podrás poner en práctica los conceptos aprendidos acerca del uso del paquete `panel`. Usarás `panel` con el fin de crear dashboards como herramienta de apoyo al momento de resolver problemas específicos en un contexto de Analytics.\n",
    "\n",
    "Instrucciones y condiciones generales: Esta es una actividad calificada y, por lo tanto, debe ser resuelta individualmente.\n",
    "\n",
    "### Al desarrollar este taller podrás verificar tu progreso en:\n",
    "\n",
    "1. Programar la funcionalidad de un dashboard en `panel`.\n",
    "2. Agregar gráficos y widgets para hacer visualizaciones agradables en `panel`.\n",
    "3. Personalizar dashobards para generar distintas visualizaciones interactivas en `panel`."
   ]
  },
  {
   "cell_type": "code",
   "execution_count": null,
   "metadata": {
    "deletable": false,
    "editable": false,
    "nbgrader": {
     "cell_type": "code",
     "checksum": "826d4451748dd39666ebecec182c8cc9",
     "grade": false,
     "grade_id": "cell-6bdba9554ed8d133",
     "locked": true,
     "schema_version": 3,
     "solution": false,
     "task": false
    }
   },
   "outputs": [],
   "source": [
    "import panel as pn\n",
    "import plotly.graph_objects as go\n",
    "import pandas as pd\n",
    "pn.extension('plotly')"
   ]
  },
  {
   "cell_type": "markdown",
   "metadata": {
    "deletable": false,
    "editable": false,
    "nbgrader": {
     "cell_type": "markdown",
     "checksum": "17f3e2784bc66da22ca8dacca1f59ab1",
     "grade": false,
     "grade_id": "cell-7b045e66f5b19142",
     "locked": true,
     "schema_version": 3,
     "solution": false,
     "task": false
    }
   },
   "source": [
    "## Pregunta 1"
   ]
  },
  {
   "cell_type": "markdown",
   "metadata": {
    "deletable": false,
    "editable": false,
    "nbgrader": {
     "cell_type": "markdown",
     "checksum": "74607e73d8f0e43f6153989ce066c333",
     "grade": false,
     "grade_id": "cell-b93ccd2e580b5baa",
     "locked": true,
     "schema_version": 3,
     "solution": false,
     "task": false
    }
   },
   "source": [
    "Con la base de datos *COVID-19.csv* crea un dashboard en `panel` que:\n",
    "\n",
    "1. Permita crear un diagrama de barras horizontal que muestre los casos de COVID-19 de acuerdo a la selección de los siguentes criterios:<br />\n",
    "    a. Casos o muertes.<br />\n",
    "    b. Periodo: Histórico, Últimos 7 días y Últimas 24 horas.<br />\n",
    "    Pista: utilice un control de tipo `RadioButtonGroup` para cada uno de los dos criterios.<br />\n",
    "2. Contenga un diagrama de barras horizontal de las muertes por millón de personas.\n",
    "3. Permita visualizar a tráves de un diagrama de barras horizontal los casos en cada una de las regiones de la Organización Munidal de la Salud.\n",
    "\n",
    "Nota: a excpeción de las regiones, muestre los 10 mayores valores en cada gráfico."
   ]
  },
  {
   "cell_type": "markdown",
   "metadata": {
    "deletable": false,
    "editable": false,
    "nbgrader": {
     "cell_type": "markdown",
     "checksum": "7e1a671fd233c6a47a439f49fc3c8fbe",
     "grade": false,
     "grade_id": "cell-6a2cc95ab1fd7be4",
     "locked": true,
     "schema_version": 3,
     "solution": false,
     "task": false
    }
   },
   "source": [
    "| <center>Variable</center> |<center>Descripción</center> | \n",
    "| :-- | :-- | \n",
    "| Name | País |\n",
    "| WHO Region | Región de la OMS |\n",
    "| Cases - cumulative total | Total de casos hasta el momento |\n",
    "| Cases - cumulative total per 1 million population | Número de casos acumulado por millón de personas |\n",
    "| Cases - newly reported in last 7 days | Número de casos nuevos en los últimos 7 días |\n",
    "| Cases - newly reported in last 24 hours | Número de casos nuevos en las últimas 24 horas |\n",
    "| Deaths - cumulative total | Total de muertes hasta el momento |\n",
    "| Deaths - cumulative total per 1 million population | Número de muertes acumulado por millón de personas |\n",
    "| Deaths - newly reported in last 7 days | Número de muertes nuevas en los últimos 7 días |\n",
    "| Deaths - newly reported in last 24 hours | Número de muertes nuevas en las últimas 24 horas |"
   ]
  },
  {
   "cell_type": "code",
   "execution_count": null,
   "metadata": {
    "deletable": false,
    "nbgrader": {
     "cell_type": "code",
     "checksum": "633c0b03e6fbcb3cc5a444d5937579b5",
     "grade": true,
     "grade_id": "cell-fe20614352ef7071",
     "locked": false,
     "points": 1,
     "schema_version": 3,
     "solution": true,
     "task": false
    }
   },
   "outputs": [],
   "source": [
    "# YOUR CODE HERE\n",
    "raise NotImplementedError()"
   ]
  },
  {
   "cell_type": "code",
   "execution_count": null,
   "metadata": {
    "deletable": false,
    "nbgrader": {
     "cell_type": "code",
     "checksum": "9f2ab25446a5dba36a646f5f6d0ed5c7",
     "grade": true,
     "grade_id": "cell-f644f9014e17ebe1",
     "locked": false,
     "points": 1,
     "schema_version": 3,
     "solution": true,
     "task": false
    }
   },
   "outputs": [],
   "source": [
    "# YOUR CODE HERE\n",
    "raise NotImplementedError()"
   ]
  },
  {
   "cell_type": "code",
   "execution_count": null,
   "metadata": {
    "deletable": false,
    "nbgrader": {
     "cell_type": "code",
     "checksum": "3b168ad55ffa09feb02fd6bc95683f22",
     "grade": true,
     "grade_id": "cell-ed0d5ee0d14fba55",
     "locked": false,
     "points": 1,
     "schema_version": 3,
     "solution": true,
     "task": false
    }
   },
   "outputs": [],
   "source": [
    "# YOUR CODE HERE\n",
    "raise NotImplementedError()"
   ]
  },
  {
   "cell_type": "code",
   "execution_count": null,
   "metadata": {
    "deletable": false,
    "nbgrader": {
     "cell_type": "code",
     "checksum": "a42ade43bb745ab0acc38250bce69e54",
     "grade": true,
     "grade_id": "cell-e613a0e2d566a5df",
     "locked": false,
     "points": 1,
     "schema_version": 3,
     "solution": true,
     "task": false
    }
   },
   "outputs": [],
   "source": [
    "# YOUR CODE HERE\n",
    "raise NotImplementedError()"
   ]
  },
  {
   "cell_type": "code",
   "execution_count": null,
   "metadata": {
    "deletable": false,
    "nbgrader": {
     "cell_type": "code",
     "checksum": "dbf734e43e294d0bd70f39173535dc16",
     "grade": true,
     "grade_id": "cell-85e0b31e29de0e27",
     "locked": false,
     "points": 1,
     "schema_version": 3,
     "solution": true,
     "task": false
    }
   },
   "outputs": [],
   "source": [
    "# YOUR CODE HERE\n",
    "raise NotImplementedError()"
   ]
  },
  {
   "cell_type": "code",
   "execution_count": null,
   "metadata": {
    "deletable": false,
    "nbgrader": {
     "cell_type": "code",
     "checksum": "d9ccaf0cc25e56a47dbc7e261aa60feb",
     "grade": true,
     "grade_id": "cell-d380b55145e94427",
     "locked": false,
     "points": 1,
     "schema_version": 3,
     "solution": true,
     "task": false
    }
   },
   "outputs": [],
   "source": [
    "# YOUR CODE HERE\n",
    "raise NotImplementedError()"
   ]
  },
  {
   "cell_type": "code",
   "execution_count": null,
   "metadata": {
    "deletable": false,
    "nbgrader": {
     "cell_type": "code",
     "checksum": "439527f1bbb4d53aed1c1ff09c13a87f",
     "grade": true,
     "grade_id": "cell-bd25791f5af50986",
     "locked": false,
     "points": 1,
     "schema_version": 3,
     "solution": true,
     "task": false
    }
   },
   "outputs": [],
   "source": [
    "# YOUR CODE HERE\n",
    "raise NotImplementedError()"
   ]
  },
  {
   "cell_type": "markdown",
   "metadata": {
    "deletable": false,
    "editable": false,
    "nbgrader": {
     "cell_type": "markdown",
     "checksum": "de64f721f7fe40d7c6818381ffb577ed",
     "grade": false,
     "grade_id": "cell-defb01a22ebae408",
     "locked": true,
     "schema_version": 3,
     "solution": false,
     "task": false
    }
   },
   "source": [
    "## Créditos\n",
    "\n",
    "**Autor(es)**: Juan David Reyes Jaimes, Diego Alejandro Cely Gomez\n",
    "\n",
    "**Última actualización:** 26/08/2021"
   ]
  }
 ],
 "metadata": {
  "kernelspec": {
   "display_name": "Python 3",
   "language": "python",
   "name": "python3"
  },
  "language_info": {
   "codemirror_mode": {
    "name": "ipython",
    "version": 3
   },
   "file_extension": ".py",
   "mimetype": "text/x-python",
   "name": "python",
   "nbconvert_exporter": "python",
   "pygments_lexer": "ipython3",
   "version": "3.7.10"
  }
 },
 "nbformat": 4,
 "nbformat_minor": 4
}
