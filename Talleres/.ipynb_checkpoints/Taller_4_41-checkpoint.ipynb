{
 "cells": [
  {
   "cell_type": "markdown",
   "metadata": {
    "deletable": false,
    "editable": false,
    "nbgrader": {
     "cell_type": "markdown",
     "checksum": "cadb62d468c22a68ac4f07fcd4837de6",
     "grade": false,
     "grade_id": "header",
     "locked": true,
     "schema_version": 3,
     "solution": false,
     "task": false
    }
   },
   "source": [
    "<img src=\"Archivos/miad4.png\" width=800x>\n",
    "\n",
    "# Manejo de archivos\n",
    "\n",
    "En este taller importarás y manejarás archivos y la información que contienen al resolver diversos ejercicios.\n",
    "\n",
    "## Habilidades en práctica\n",
    "\n",
    "**1.** Aplicar los métodos y los atributos principales de las cadenas de texto. <br>\n",
    "**2.** Importar y exportar archivos de texto en formato .txt o .csv por medio de un *file handle*. <br>\n",
    "**3.** Procesar archivos de texto delimitados y no delimitados valiendose del uso de los métodos de las cadenas de texto y de los *file handle*. <br>\n",
    "\n",
    "## Instrucciones\n",
    "\n",
    "En cada uno de los siguientes ejercicios deberás escribir el código solicitado estrictamente en las celdas indicadas para ello, teniendo en cuenta las siguientes recomendaciones:\n",
    "\n",
    "* No crear, eliminar o modificar celdas de este Notebook (salvo lo que se te indique), pues puede verse afectado el proceso de calificación automática.\n",
    "* La calificación se realiza de manera automática con datos diferentes a los proporcionados en este taller. Por consiguiente, tu código debe funcionar para diferentes instancias de cada uno de los ejercicios; una instancia hace referencia al valor de los parámetros.\n",
    "* La calificación de cada ejercicio depende del valor que retorne la función especificada en su enunciado. Por lo tanto, aunque implementes funciones adicionales, es escencial que utilices los nombres propuestos en los enunciados de los ejercicios para implementar la función definitiva.\n",
    "\n",
    "Esta es una actividad calificada y, por lo tanto, debe ser resuelta individualmente.\n",
    "\n",
    "A continuación puedes ver un ejemplo de los ejercicios que encontrarás en este taller."
   ]
  },
  {
   "cell_type": "markdown",
   "metadata": {
    "deletable": false,
    "editable": false,
    "nbgrader": {
     "cell_type": "markdown",
     "checksum": "88e4945c8c579ebeae90bde1e09595ed",
     "grade": false,
     "grade_id": "eje-enun-task",
     "locked": true,
     "schema_version": 3,
     "solution": false,
     "task": false
    }
   },
   "source": [
    "### Ejemplo\n",
    "\n",
    "Implementa una función llamada `multiplicacion` que reciba dos números ingresados por parámetro y retorne la multiplicación de estos dos.\n",
    "\n",
    "*Esta función debería retornar un número*"
   ]
  },
  {
   "cell_type": "code",
   "execution_count": null,
   "metadata": {
    "deletable": false,
    "editable": false,
    "nbgrader": {
     "cell_type": "code",
     "checksum": "78275bae3fd1e10d03c847ea1a819f41",
     "grade": false,
     "grade_id": "eje-sol",
     "locked": true,
     "schema_version": 3,
     "solution": false,
     "task": false
    }
   },
   "outputs": [],
   "source": [
    "# Implementa tu respuesta en esta celda\n",
    "\n",
    "def multiplicacion(num1, num2):\n",
    "    \n",
    "    respuesta = num1 * num2\n",
    "    \n",
    "    return respuesta"
   ]
  },
  {
   "cell_type": "markdown",
   "metadata": {
    "deletable": false,
    "editable": false,
    "nbgrader": {
     "cell_type": "markdown",
     "checksum": "91f0ccda458d545867b20da6284455a9",
     "grade": false,
     "grade_id": "ej1-enun",
     "locked": true,
     "schema_version": 3,
     "solution": false,
     "task": false
    }
   },
   "source": [
    "### Ejercicio 1\n",
    "\n",
    "En la siguiente celda encuentras declarada una variable que almacena una cadena de caracteres."
   ]
  },
  {
   "cell_type": "code",
   "execution_count": null,
   "metadata": {
    "deletable": false,
    "editable": false,
    "nbgrader": {
     "cell_type": "code",
     "checksum": "9e30cdb21d1e27fd96ddc3f611ea4ba3",
     "grade": false,
     "grade_id": "ej1-data",
     "locked": true,
     "schema_version": 3,
     "solution": false,
     "task": false
    }
   },
   "outputs": [],
   "source": [
    "# No modifiques esta celda\n",
    "\n",
    "cadena = \"Archivos de texto\""
   ]
  },
  {
   "cell_type": "markdown",
   "metadata": {
    "deletable": false,
    "editable": false,
    "nbgrader": {
     "cell_type": "markdown",
     "checksum": "f809e3bee9ae050e953d787fca41ad05",
     "grade": false,
     "grade_id": "ej1-task",
     "locked": true,
     "schema_version": 3,
     "solution": false,
     "task": false
    }
   },
   "source": [
    "Implementa una función llamada `sustituir` que reciba por parámetro una cadena de texto (por ejemplo, la variable `cadena`) y retorne otra cadena en la cual se intercambien el segundo caracter y el penúltimo caracter.\n",
    "\n",
    "*Esta función debe retornar una cadena de texto.*"
   ]
  },
  {
   "cell_type": "code",
   "execution_count": null,
   "metadata": {
    "deletable": false,
    "nbgrader": {
     "cell_type": "code",
     "checksum": "36077906e0c130d2845e25e45c280f50",
     "grade": false,
     "grade_id": "ej1-sol",
     "locked": false,
     "schema_version": 3,
     "solution": true,
     "task": false
    }
   },
   "outputs": [],
   "source": [
    "# YOUR CODE HERE\n",
    "raise NotImplementedError()"
   ]
  },
  {
   "cell_type": "code",
   "execution_count": null,
   "metadata": {
    "deletable": false,
    "editable": false,
    "nbgrader": {
     "cell_type": "code",
     "checksum": "c231c8fdba351a8d4ae574406cbcdecd",
     "grade": true,
     "grade_id": "ej1-test",
     "locked": true,
     "points": 1,
     "schema_version": 3,
     "solution": false,
     "task": false
    }
   },
   "outputs": [],
   "source": [
    "## AUTO-CALIFICADOR\n",
    "\n",
    "# Base variables\n",
    "cadena = \"Archivos de texto\"\n",
    "cadena_prueba = \"Una cadena con mayor cantidad de caracteres\"\n",
    "\n",
    "# Caso 1: no existe la función.\n",
    "try:\n",
    "    sustituir\n",
    "    assert type(sustituir) == type(lambda:None)\n",
    "except:\n",
    "    raise NotImplementedError(\"No existe una función llamada sustituir.\",)\n",
    "    \n",
    "# Caso 2: la función es interrumpida por errores durante su ejecución.\n",
    "try:\n",
    "    sustituir(cadena)\n",
    "    sustituir(cadena_prueba)\n",
    "except:\n",
    "    raise RuntimeError(\"Tu función produce un error al ejecutarse.\")\n",
    "\n",
    "# Caso 3: no retorna una cadena\n",
    "assert type(sustituir(cadena_prueba)) == str, f\"Tu función debe retornar un valor de tipo {str.__name__}.\"\n",
    "\n",
    "# Caso 4: respuesta explicita\n",
    "assert sustituir(cadena_prueba) != \"Atchivos de texro\", \"Tu respuesta es incorrecta para una instancia diferente. Utiliza el parámetro.\"\n",
    "\n",
    "# Caso 5: retorna la misma cadena\n",
    "assert sustituir(cadena_prueba) != cadena_prueba, \"Tu función retorna la misma cadena que recibe por parámetro sin alterar.\"\n",
    "\n",
    "# Caso 6: devuelve una cadena de longitud errada\n",
    "assert len(sustituir(cadena_prueba)) == len(cadena_prueba), \"Tu función puede no estar tomando en cuenta todos los caracteres de la cadena que recibe por parámetro.\"\n",
    "\n",
    "# Caso 7: asigna el mismo valor a ambas posiciones\n",
    "assert sustituir(cadena_prueba)[1] != sustituir(cadena_prueba)[-2], \"Tu función asigna el mismo caracter en las posiciones segunda y penúltima.\"\n",
    "\n",
    "# Caso 8: confunde indexación iniciada en cero\n",
    "assert sustituir(cadena_prueba)[2] != \"s\", \"Tu función una posición que no debería. Recuerda que en python la indexación inicia en 0\"\n",
    "\n",
    "# Caso 9: retorna una cadena distinta de la esperada\n",
    "assert sustituir(cadena_prueba) == \"Uea cadena con mayor cantidad de caracterns\", \"Tu función no retorna la cadena correcta.\"\n",
    "assert sustituir(cadena) == \"Atchivos de texro\", \"Tu función no retorna la cadena correcta.\"\n",
    "\n",
    "# Mensaje de felicitaciones\n",
    "print(\"Felicidades, realizaste este ejercicio correctamente.\")"
   ]
  },
  {
   "cell_type": "markdown",
   "metadata": {
    "deletable": false,
    "editable": false,
    "nbgrader": {
     "cell_type": "markdown",
     "checksum": "8f3201d2906caa85d2cc7f1d28bf30be",
     "grade": false,
     "grade_id": "ej2-enun",
     "locked": true,
     "schema_version": 3,
     "solution": false,
     "task": false
    }
   },
   "source": [
    "### Ejercicio 2 \n",
    "\n",
    "En la siguiente celda encuentras declarada una variable que almacena una cadena de caracteres representativa de la ruta relativa para el archivo `\"tesoro.txt\"`. Recuerda que para los talleres, los archivos necesarios están en el subdirectorio `\"Archivos\"`."
   ]
  },
  {
   "cell_type": "code",
   "execution_count": null,
   "metadata": {
    "deletable": false,
    "editable": false,
    "nbgrader": {
     "cell_type": "code",
     "checksum": "03c58e2bdbc64ad2edad105beb772da1",
     "grade": false,
     "grade_id": "ej2-data",
     "locked": true,
     "schema_version": 3,
     "solution": false,
     "task": false
    }
   },
   "outputs": [],
   "source": [
    "# No modifiques esta celda\n",
    "\n",
    "directorio = \"./Archivos/tesoro.txt\""
   ]
  },
  {
   "cell_type": "markdown",
   "metadata": {
    "deletable": false,
    "editable": false,
    "nbgrader": {
     "cell_type": "markdown",
     "checksum": "ba43022d0d24c64bf507997a577edc38",
     "grade": false,
     "grade_id": "ej2-task",
     "locked": true,
     "schema_version": 3,
     "solution": false,
     "task": false
    }
   },
   "source": [
    "Implementa una función llamada `archivo_a_lista` que reciba por parámetro una cadena de texto que represente la dirección de un archivo (por ejemplo, la variable `directorio`) y retorne una lista donde cada elemento es una linea del archivo encontrado.\n",
    "\n",
    "*Esta función debe retornar una lista de cadenas de texto.*"
   ]
  },
  {
   "cell_type": "code",
   "execution_count": null,
   "metadata": {
    "deletable": false,
    "nbgrader": {
     "cell_type": "code",
     "checksum": "289eed4fea8e3d3881a1d30d07b70bbb",
     "grade": false,
     "grade_id": "ej2-sol",
     "locked": false,
     "schema_version": 3,
     "solution": true,
     "task": false
    }
   },
   "outputs": [],
   "source": [
    "# YOUR CODE HERE\n",
    "raise NotImplementedError()"
   ]
  },
  {
   "cell_type": "code",
   "execution_count": null,
   "metadata": {
    "deletable": false,
    "editable": false,
    "nbgrader": {
     "cell_type": "code",
     "checksum": "ca414e7224e76cc4029b1cc970de3306",
     "grade": true,
     "grade_id": "ej2-test",
     "locked": true,
     "points": 1,
     "schema_version": 3,
     "solution": false,
     "task": false
    }
   },
   "outputs": [],
   "source": [
    "## AUTO-CALIFICADOR\n",
    "\n",
    "# Base variables\n",
    "directorio = \"./Archivos/tesoro.txt\"\n",
    "directorio_prueba = \"./Archivos/tesoro_2.txt\"\n",
    "\n",
    "# Caso 1: no existe la función.\n",
    "try:\n",
    "    archivo_a_lista\n",
    "    assert type(archivo_a_lista) == type(lambda:None)\n",
    "except:\n",
    "    raise NotImplementedError(\"No existe una función llamada archivo_a_lista.\",)\n",
    "    \n",
    "# Caso 2: la función es interrumpida por errores durante su ejecución.\n",
    "try:\n",
    "    archivo_a_lista(directorio)\n",
    "    archivo_a_lista(directorio_prueba)\n",
    "except:\n",
    "    raise RuntimeError(\"Tu función produce un error al ejecutarse. Asegurate de que estés usando una dirección relativa a la ubicación de este notebook.\")\n",
    "\n",
    "# Caso 3: no retorna una lista\n",
    "assert type(archivo_a_lista(directorio_prueba)) == list, f\"Tu función debe retornar un valor de tipo {list.__name__}.\"\n",
    "\n",
    "# Caso 4: retorna una lista vacía\n",
    "assert len(archivo_a_lista(directorio_prueba)) != 0, \"Tu función retorna una lista vacía, cuando debería devolver una lista con las filas del archivo .txt\"\n",
    "\n",
    "# Caso 5: respuesta explicita\n",
    "assert archivo_a_lista(directorio_prueba)[0] != \"Principales tenedores de títulos del tesoro americano en lo que se lleva del 2020\\n\", \"Tu respuesta es incorrecta para una instancia diferente. Asegurate de utilizar el parámetro.\"\n",
    "assert archivo_a_lista(directorio)[0] != 'Estimado estudiante.\\n', \"Tu respuesta es incorrecta para una instancia diferente. Asegurate de utilizar el parámetro.\"\n",
    "\n",
    "# Caso 7: devuelve una lista de longitud errada\n",
    "assert len(archivo_a_lista(directorio_prueba)) == 8, \"Tu función puede no estar tomando en cuenta todas las filas del archivo de texto deseado.\"\n",
    "\n",
    "# Caso 8: la lista es incorrecta\n",
    "resultado_prueba = ['Estimado estudiante.\\n',\n",
    "                    '\\n',\n",
    "                    'Este archivo de texto es para uso exclusivo del auto-calificador.\\n',\n",
    "                    'Evite borrar, mover o editar de cualquier forma su contenido.\\n',\n",
    "                    '\\n',\n",
    "                    '\\n',\n",
    "                    'Agradecemos su colaboración,\\n',\n",
    "                    'Equipo de Laboratorio Computacional de Analytics.\\n']\n",
    "\n",
    "assert archivo_a_lista(directorio_prueba) == resultado_prueba, \"Tu función devuelve una lista errada.\"\n",
    "\n",
    "# Mensaje de felicitaciones\n",
    "print(\"Felicidades, realizaste este ejercicio correctamente.\")"
   ]
  },
  {
   "cell_type": "markdown",
   "metadata": {
    "deletable": false,
    "editable": false,
    "nbgrader": {
     "cell_type": "markdown",
     "checksum": "641a1ae0fec85e5df154ab6a4ab004fc",
     "grade": false,
     "grade_id": "ej3-enun",
     "locked": true,
     "schema_version": 3,
     "solution": false,
     "task": false
    }
   },
   "source": [
    "### Ejercicio 3 \n",
    "\n",
    "En la siguiente celda encuentras declarada una variable que almacena una lista de paises y otra que guarda el resultado de ejecutar tu respuesta al [ejercicio 2](#Ejercicio-2)."
   ]
  },
  {
   "cell_type": "code",
   "execution_count": null,
   "metadata": {
    "deletable": false,
    "editable": false,
    "nbgrader": {
     "cell_type": "code",
     "checksum": "6a48c1998be6fcb8808948d569ca996c",
     "grade": false,
     "grade_id": "ej3-data",
     "locked": true,
     "schema_version": 3,
     "solution": false,
     "task": false
    }
   },
   "outputs": [],
   "source": [
    "# No modifiques esta celda\n",
    "\n",
    "lista_paises = ['Japón', 'Francia']\n",
    "lineas = archivo_a_lista(directorio)"
   ]
  },
  {
   "cell_type": "markdown",
   "metadata": {
    "deletable": false,
    "editable": false,
    "nbgrader": {
     "cell_type": "markdown",
     "checksum": "46e1eb669cfc5222b3cf627a7450c6e3",
     "grade": false,
     "grade_id": "ej3-task",
     "locked": true,
     "schema_version": 3,
     "solution": false,
     "task": false
    }
   },
   "source": [
    "Implementa una función llamada `filtrar_paises` que reciba por parámetro una lista de nombres de paises (por ejemplo, la variable `lista_paises`) y retorne una lista donde cada elemento es la linea del archivo `\"tesoro.txt\"`, correspondiente a cada país de la lista que se recibe por parámetro. Asegurate de haber realizado el ejercicio 2 correctamente y de usar la variable `lineas` en tu implementación para este ejercicio. A continuación, un ejemplo:\n",
    "\n",
    "Ejecutar la función `filtrar_paises([\"Suiza\",\"Noruega\"])` debe resultar en la siguiente lista:\n",
    "\n",
    "```python\n",
    "['Suiza\\t247.4\\t243.1\\t241.3\\t244.6\\t243.7\\t238.1\\t237.5\\t\\n',\n",
    " 'Noruega\\t89.5\\t87.6\\t93.2\\t98.0\\t103.3\\t97.7\\t90.1\\t\\n']\n",
    "```\n",
    "\n",
    "*Esta función debe retornar una lista de cadenas de texto.*"
   ]
  },
  {
   "cell_type": "code",
   "execution_count": null,
   "metadata": {
    "deletable": false,
    "nbgrader": {
     "cell_type": "code",
     "checksum": "e32e96e55bd4d8d3b7612a3b109d0ad9",
     "grade": false,
     "grade_id": "ej3-sol",
     "locked": false,
     "schema_version": 3,
     "solution": true,
     "task": false
    }
   },
   "outputs": [],
   "source": [
    "# YOUR CODE HERE\n",
    "raise NotImplementedError()"
   ]
  },
  {
   "cell_type": "code",
   "execution_count": null,
   "metadata": {
    "deletable": false,
    "editable": false,
    "nbgrader": {
     "cell_type": "code",
     "checksum": "164971eb355fa790f59c491492c5a0ef",
     "grade": true,
     "grade_id": "ej3-test",
     "locked": true,
     "points": 1,
     "schema_version": 3,
     "solution": false,
     "task": false
    }
   },
   "outputs": [],
   "source": [
    "## AUTO-CALIFICADOR\n",
    "\n",
    "# Base variables\n",
    "directorio = \"./Archivos/tesoro.txt\"\n",
    "directorio_prueba = \"./Archivos/tesoro_2.txt\"\n",
    "lista_paises = ['Japón', 'Francia']\n",
    "lista_paises_prueba = ['Suiza', 'Noruega', 'Tailandia', 'Kuwait']\n",
    "resultado_prueba_ej_2 = ['Estimado estudiante.\\n',\n",
    "                         '\\n',\n",
    "                         'Este archivo de texto es para uso exclusivo del auto-calificador.\\n',\n",
    "                         'Evite borrar, mover o editar de cualquier forma su contenido.\\n',\n",
    "                         '\\n',\n",
    "                         '\\n',\n",
    "                         'Agradecemos su colaboración,\\n',\n",
    "                         'Equipo de Laboratorio Computacional de Analytics.\\n']\n",
    "\n",
    "\n",
    "# Caso 0: no ha implementado el ejercicio 2:\n",
    "try:\n",
    "    assert archivo_a_lista(directorio_prueba) == resultado_prueba_ej_2\n",
    "except:\n",
    "    raise NotImplementedError(\"Debes haber implementado correctamente el ejercicio 2.\")\n",
    "\n",
    "lineas = archivo_a_lista(directorio)\n",
    "\n",
    "# Caso 1: no existe la función.\n",
    "try:\n",
    "    filtrar_paises\n",
    "    assert type(filtrar_paises) == type(lambda:None)\n",
    "except:\n",
    "    raise NotImplementedError(\"No existe una función llamada filtrar_paises.\",)\n",
    "    \n",
    "# Caso 2: la función es interrumpida por errores durante su ejecución.\n",
    "try:\n",
    "    filtrar_paises(lista_paises)\n",
    "    filtrar_paises(lista_paises_prueba)\n",
    "except:\n",
    "    raise RuntimeError(\"Tu función produce un error al ejecutarse.\")\n",
    "\n",
    "# Caso 3: no retorna una lista\n",
    "assert type(filtrar_paises(lista_paises_prueba)) == list, f\"Tu función debe retornar un valor de tipo {list.__name__}.\"\n",
    "\n",
    "# Caso 4: retorna una lista vacía\n",
    "assert len(filtrar_paises(lista_paises_prueba)) != 0, \"Tu función retorna una lista vacía, cuando debería devolver una lista con las filas solicitadas del archivo .txt.\"\n",
    "\n",
    "# Caso 5: respuesta explicita\n",
    "assert filtrar_paises(lista_paises_prueba)[0] != 'Japón\\t1261.5\\t1260.4\\t1266.5\\t1272.6\\t1268.6\\t1211.8\\t1155.2\\t\\n', \"Tu respuesta es incorrecta para una instancia diferente. Asegurate de utilizar el parámetro.\"\n",
    "\n",
    "# Caso 6: devuelve una lista de longitud errada\n",
    "assert len(filtrar_paises(lista_paises_prueba)) == len(lista_paises_prueba), \"Tu función puede no estar tomando en cuenta todos los paises de la lista que recibe por parámetro.\"\n",
    "\n",
    "# Caso 7: la lista es incorrecta\n",
    "resultado = ['Japón\\t1261.5\\t1260.4\\t1266.5\\t1272.6\\t1268.6\\t1211.8\\t1155.2\\t\\n',\n",
    "             'Francia\\t144.2\\t130.5\\t137.7\\t156.0\\t147.6\\t134.0\\t127.7\\t\\n']\n",
    "\n",
    "resultado_prueba = ['Suiza\\t247.4\\t243.1\\t241.3\\t244.6\\t243.7\\t238.1\\t237.5\\t\\n',\n",
    "                    'Noruega\\t89.5\\t87.6\\t93.2\\t98.0\\t103.3\\t97.7\\t90.1\\t\\n',\n",
    "                    'Tailandia\\t85.5\\t85.8\\t80.5\\t81.8\\t91.3\\t96.0\\t90.5\\t\\n',\n",
    "                    'Kuwait\\t44.9\\t43.6\\t44.5\\t40.1\\t43.6\\t41.9\\t43.3\\t\\n']\n",
    "\n",
    "assert filtrar_paises(lista_paises) == resultado, \"Tu función devuelve una lista errada.\"\n",
    "assert filtrar_paises(lista_paises_prueba) == resultado_prueba, \"Tu función devuelve una lista errada.\"\n",
    "\n",
    "# Mensaje de felicitaciones\n",
    "print(\"Felicidades, realizaste este ejercicio correctamente.\")"
   ]
  },
  {
   "cell_type": "markdown",
   "metadata": {
    "deletable": false,
    "editable": false,
    "nbgrader": {
     "cell_type": "markdown",
     "checksum": "3b0bcaa7ae18b9a87905a1dd6dd297db",
     "grade": false,
     "grade_id": "ej4-enun",
     "locked": true,
     "schema_version": 3,
     "solution": false,
     "task": false
    }
   },
   "source": [
    "### Ejercicio 4\n",
    "\n",
    "Jorge y Juan apostaron al que hiciera la mejor predicción de la tabla final de las eliminatorias sudamericanas para el mundial de Rusia 2018. Jorge definió el siguiente pronóstico: \n",
    "\n",
    "|Puesto|<center>País</center>|\n",
    "|-------|-----------|\n",
    "|1| Brasil|\n",
    "|2| Argentina|\n",
    "|3 | Uruguay|\n",
    "|4| Colombia|\n",
    "|5| Chile|\n",
    "|6| Ecuador|\n",
    "|7| Perú|\n",
    "|8| Paraguay|\n",
    "|9| Venezuela|\n",
    "|10| Bolivia|\n",
    "\n",
    "Mientras que Juan definió el siguiente pronóstico:\n",
    "\n",
    "|Puesto|<center>País</center>|\n",
    "|-------|-----------|\n",
    "|1| Brasil|\n",
    "|2| Uruguay|\n",
    "|3 | Colombia|\n",
    "|4| Argentina|\n",
    "|5| Ecuador|\n",
    "|6| Chile|\n",
    "|7| Paraguay|\n",
    "|8| Perú|\n",
    "|9| Venezuela|\n",
    "|10| Bolivia|\n",
    "\n",
    "\n",
    "El criterio elegido para decidir quién gana la apuesta fue el error cuadrático medio (ECM). El cual, para este ejemplo específico, tendría la siguiente ecuación: \n",
    "\n",
    "$$\n",
    "ECM= \\frac{EC}{N} = \\frac{\\sum \\limits _{j=1} ^{10} (Y_{j}-\\hat{Y}_{j})^2}{10}\n",
    "$$\n",
    "\n",
    "\n",
    "Para calcular el ECM primero se calcula y eleva al cuadrado la diferencia entre la posición predicha ($\\hat{Y}_{j}$) y la posición que realmente ocupó el equipo ($Y_{j}$). Por ejemplo, supongamos que esta fue la tabla final de las eliminatorias de Rusia 2018. Los errores cuadráticos (EC) asociados con cada predicción serían los siguientes.\n",
    "\n",
    "\n",
    "|Puesto|<center>País</center>|EC(Jorge)|EC(Juan)|\n",
    "|-----|--------|-----|-----|\n",
    "|1|Brasil|0|0|\n",
    "|2|Uruguay|1|0|\n",
    "|3|Argentina|1|1|\n",
    "|4|Paraguay|16|9|\n",
    "|5|Colombia|1|4|\n",
    "|6|Chile|1|0|\n",
    "|7|Ecuador|1|4|\n",
    "|8|Perú|1|0|\n",
    "|9|Venezuela|0|0|\n",
    "|10|Bolivia|0|0|\n",
    "\n",
    "\n",
    "Después se calcula el promedio de los errores cuadráticos que en este caso sería de 2.2 para la predicción realizada por Jorge y de 1.8 para la predicción realizada por Juan. Siendo que el error cuadrático medio de Juan fue inferior al de Jorge, Juan sería el ganador.\n",
    "\n",
    "Jorge y Juan decidieron entonces usar la informaciòn del artículo de Wikipedia (2020) sobre las eliminatorias a Rusia2018. Puntualmente copiaron y pegaron la \"Tabla de Posiciones Final\" disponible en el artículo, en un archivo de texto llamado `\"Eliminatorias.txt\"`. Este archivo contiene la tabla ordenada con la clasificación final de los países así como otros datos deportivos que en este caso no nos interesa analizar (puntos, goles a favor, goles en contra, etc.).\n",
    "\n",
    "En la siguiente celda encuentras declaradas dos variables que almacenan en orden la clasificación pronosticada de Jorge y Juan respectivamente."
   ]
  },
  {
   "cell_type": "code",
   "execution_count": null,
   "metadata": {
    "deletable": false,
    "editable": false,
    "nbgrader": {
     "cell_type": "code",
     "checksum": "38b03612b3566500cbc7133feebeae05",
     "grade": false,
     "grade_id": "ej4-data",
     "locked": true,
     "schema_version": 3,
     "solution": false,
     "task": false
    }
   },
   "outputs": [],
   "source": [
    "# No modifiques esta celda\n",
    "\n",
    "pronostico_jorge = [\"Brasil\", \"Argentina\", \"Uruguay\", \"Colombia\", \"Chile\", \"Ecuador\", \"Perú\", \"Paraguay\", \"Venezuela\", \"Bolivia\"]\n",
    "pronostico_juan = [\"Brasil\", \"Uruguay\", \"Colombia\", \"Argentina\", \"Ecuador\", \"Chile\", \"Paraguay\", \"Perú\", \"Venezuela\", \"Bolivia\"]"
   ]
  },
  {
   "cell_type": "markdown",
   "metadata": {
    "deletable": false,
    "editable": false,
    "nbgrader": {
     "cell_type": "markdown",
     "checksum": "08edea20c2d45155f328efb1d6fab61d",
     "grade": false,
     "grade_id": "ej4-task",
     "locked": true,
     "schema_version": 3,
     "solution": false,
     "task": false
    }
   },
   "source": [
    "Implementa una función llamada `ECM` que reciba por parámetro una lista con el prónostico de Juan, una con el pronóstico de Jorge (en ese orden, por ejemplo, las variables `pronostico_jorge` y `pronostico_juan`). Tu función debe importar los resultados del archivo `\"Eliminatorias.txt\"` y retornar una tupla con el $ ECM $ de Jorge y Juan (en ese orden)."
   ]
  },
  {
   "cell_type": "code",
   "execution_count": null,
   "metadata": {
    "deletable": false,
    "nbgrader": {
     "cell_type": "code",
     "checksum": "ab1b934e5066adf602438708d3c79811",
     "grade": false,
     "grade_id": "ej4-sol",
     "locked": false,
     "schema_version": 3,
     "solution": true,
     "task": false
    }
   },
   "outputs": [],
   "source": [
    "# YOUR CODE HERE\n",
    "raise NotImplementedError()"
   ]
  },
  {
   "cell_type": "code",
   "execution_count": null,
   "metadata": {
    "deletable": false,
    "editable": false,
    "nbgrader": {
     "cell_type": "code",
     "checksum": "97ecb4806a4e4b706e1f6aa3fbe2cf2a",
     "grade": true,
     "grade_id": "ej4-test",
     "locked": true,
     "points": 1,
     "schema_version": 3,
     "solution": false,
     "task": false
    }
   },
   "outputs": [],
   "source": [
    "## AUTO-CALIFICADOR\n",
    "\n",
    "# Base variables\n",
    "pronostico_jorge = [\"Brasil\", \"Argentina\", \"Uruguay\", \"Colombia\", \"Chile\", \"Ecuador\", \"Perú\", \"Paraguay\", \"Venezuela\", \"Bolivia\"]\n",
    "pronostico_juan = [\"Brasil\", \"Uruguay\", \"Colombia\", \"Argentina\", \"Ecuador\", \"Chile\", \"Paraguay\", \"Perú\", \"Venezuela\", \"Bolivia\"]\n",
    "\n",
    "pronostico_jorge_prueba = [\"Argentina\", \"Chile\", \"Ecuador\", \"Perú\", \"Uruguay\", \"Colombia\", \"Paraguay\", \"Venezuela\", \"Brasil\", \"Bolivia\"]\n",
    "pronostico_juan_prueba = [\"Argentina\", \"Uruguay\", \"Brasil\", \"Ecuador\", \"Chile\", \"Paraguay\", \"Colombia\", \"Perú\", \"Venezuela\", \"Bolivia\"]\n",
    "\n",
    "# Caso 1: no existe la función.\n",
    "try:\n",
    "    ECM\n",
    "    assert type(ECM) == type(lambda:None)\n",
    "except:\n",
    "    raise NotImplementedError(\"No existe una función llamada ECM.\")\n",
    "    \n",
    "# Caso 2: la función es interrumpida por errores durante su ejecución.\n",
    "try:\n",
    "    ECM(pronostico_jorge, pronostico_juan)\n",
    "    ECM(pronostico_jorge_prueba, pronostico_juan_prueba)\n",
    "except:\n",
    "    raise RuntimeError(\"Tu función produce un error al ejecutarse.\")\n",
    "\n",
    "# Caso 3: no retorna una tupla\n",
    "assert type(ECM(pronostico_jorge_prueba, pronostico_juan_prueba)) == tuple, f\"Tu función debe retornar un valor de tipo {tuple.__name__}.\"\n",
    "\n",
    "# Caso 4: retorna una tupla de tamaño incorrecto\n",
    "assert len(ECM(pronostico_jorge_prueba, pronostico_juan_prueba)) == 2, \"Tu función debe retornar una tupla de dos elementos.\"\n",
    "\n",
    "# Caso 5: retorna una tupla pero no de floats\n",
    "assert type(ECM(pronostico_jorge_prueba, pronostico_juan_prueba)[0]) == float and type(ECM(pronostico_jorge_prueba, pronostico_juan_prueba)[1]) == float, f\"Los elementos de la tupla que retorna tu función no son de tipo {float.__name__}.\"\n",
    "\n",
    "# Caso 6: respuesta explicita\n",
    "assert ECM(pronostico_jorge_prueba, pronostico_juan_prueba) != (1.4, 2.2), \"La respuesta de tu función es incorrecta para una instancia diferente. Asegurate de utilizar el parámetro.\"\n",
    "\n",
    "# Caso 7: orden incorrecto parámetros\n",
    "assert ECM(pronostico_juan, pronostico_jorge) == (2.2, 1.4), \"La respuesta de tu función es correcta pero presenta los resultados en el orden equivocado.\"\n",
    "\n",
    "# Caso 8: valores incorrectos\n",
    "assert ECM(pronostico_jorge, pronostico_juan) == (1.4, 2.2), \"El cálculo de tus EMC es errado.\"\n",
    "assert ECM(pronostico_jorge_prueba, pronostico_juan_prueba) == (12.8, 4.6), \"El cálculo de tus EMC es errado.\"\n",
    "\n",
    "# Mensaje de felicitaciones\n",
    "print(\"Felicidades, realizaste este ejercicio correctamente.\")\n"
   ]
  },
  {
   "cell_type": "markdown",
   "metadata": {
    "deletable": false,
    "editable": false,
    "nbgrader": {
     "cell_type": "markdown",
     "checksum": "aa396ae333000f4049c468f8bd4c489e",
     "grade": false,
     "grade_id": "refs",
     "locked": true,
     "schema_version": 3,
     "solution": false,
     "task": false
    }
   },
   "source": [
    "## Referencias \n",
    " \n",
    " Clasificación de Conmebol para la Copa Mundial de Fútbol de 2022. (12 de noviembre de 2020). En Wikipedia. https://es.wikipedia.org/wiki/Clasificaci%C3%B3n_de_Conmebol_para_la_Copa_Mundial_de_F%C3%BAtbol_de_2022"
   ]
  },
  {
   "cell_type": "markdown",
   "metadata": {
    "deletable": false,
    "editable": false,
    "nbgrader": {
     "cell_type": "markdown",
     "checksum": "dadcb51796174cba7143d4f438913341",
     "grade": false,
     "grade_id": "creds",
     "locked": true,
     "schema_version": 3,
     "solution": false,
     "task": false
    }
   },
   "source": [
    "## Créditos\n",
    "\n",
    "__Autor(es)__: Jorge Esteban Camargo Forero, Alejandro Mantilla Redondo, Diego Alejandro Cely Gómez\n",
    " \n",
    " __Fecha última actualización__: 17/08/2021"
   ]
  }
 ],
 "metadata": {
  "kernelspec": {
   "display_name": "Python 3",
   "language": "python",
   "name": "python3"
  },
  "language_info": {
   "codemirror_mode": {
    "name": "ipython",
    "version": 3
   },
   "file_extension": ".py",
   "mimetype": "text/x-python",
   "name": "python",
   "nbconvert_exporter": "python",
   "pygments_lexer": "ipython3",
   "version": "3.8.5"
  }
 },
 "nbformat": 4,
 "nbformat_minor": 2
}
